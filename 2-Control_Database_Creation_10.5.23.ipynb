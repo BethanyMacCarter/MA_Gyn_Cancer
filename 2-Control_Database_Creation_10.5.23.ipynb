{
 "cells": [
  {
   "cell_type": "markdown",
   "id": "b58eceec",
   "metadata": {},
   "source": [
    "## Initiate session and imports"
   ]
  },
  {
   "cell_type": "code",
   "execution_count": null,
   "id": "e94008b3",
   "metadata": {},
   "outputs": [],
   "source": [
    "spark"
   ]
  },
  {
   "cell_type": "code",
   "execution_count": null,
   "id": "76f87470",
   "metadata": {},
   "outputs": [],
   "source": [
    "# set max columns, rows, column width in pandas so doesn't truncate\n",
    "import pandas as pd\n",
    "pd.set_option('display.max_colwidth',250) # or -1\n",
    "pd.set_option('display.max_columns', None) # or 500\n",
    "pd.set_option('display.max_rows', None) # or 500\n",
    "\n",
    "# sets the cell width to 100% respective to the screen size\n",
    "from IPython.core.display import display, HTML\n",
    "display(HTML(\"<style>.container { width:92% !important; }</style>\"))"
   ]
  },
  {
   "cell_type": "code",
   "execution_count": null,
   "id": "5f30615b",
   "metadata": {},
   "outputs": [],
   "source": [
    "from pyspark.sql.functions import rank\n",
    "from pyspark.sql.functions import col\n",
    "from pyspark.sql.types import FloatType\n",
    "from pyspark.sql.functions import col, to_date, datediff, current_date"
   ]
  },
  {
   "cell_type": "markdown",
   "id": "95977961",
   "metadata": {},
   "source": [
    "## Control Cohort Selection"
   ]
  },
  {
   "cell_type": "code",
   "execution_count": null,
   "id": "eded7d9c",
   "metadata": {},
   "outputs": [],
   "source": [
    "spark.sql(\"use CUA_db\")"
   ]
  },
  {
   "cell_type": "code",
   "execution_count": null,
   "id": "c245d9c6",
   "metadata": {},
   "outputs": [],
   "source": [
    "#Call in All CUAs\n",
    "CUA_pop= spark.sql(\"\"\"\n",
    "    select personid, stdid, display\n",
    "    from CUA_concat\n",
    "\"\"\")\n",
    "CUA_pop.cache()"
   ]
  },
  {
   "cell_type": "code",
   "execution_count": null,
   "id": "82947d24",
   "metadata": {},
   "outputs": [],
   "source": [
    "#CUA person ID list\n",
    "personid_list = list(CUA_pop.select('personid').distinct().toPandas()['personid'])\n",
    "len(personid_list)"
   ]
  },
  {
   "cell_type": "code",
   "execution_count": null,
   "id": "cf0cb014",
   "metadata": {},
   "outputs": [],
   "source": [
    "spark.sql(\"use real_world_data_jun_2023\")"
   ]
  },
  {
   "cell_type": "code",
   "execution_count": null,
   "id": "a713760b",
   "metadata": {},
   "outputs": [],
   "source": [
    "#All female query\n",
    "all_female = spark.sql(\"\"\"\n",
    "    select personid, gender.standard.primaryDisplay as gender\n",
    "    from demographics\n",
    "    where gender.standard.primaryDisplay== \"Female\"\n",
    "    \"\"\")\n",
    "all_female.cache()\n",
    "\n",
    "print(all_female.select('personid').distinct().count())"
   ]
  },
  {
   "cell_type": "code",
   "execution_count": null,
   "id": "04cbb060",
   "metadata": {},
   "outputs": [],
   "source": [
    "demographics_sdf=spark.sql(\"\"\"\n",
    "    SELECT personid, birthdate, deceased, dateofdeath, races.standard.id[0] as race_id, \n",
    "    races.standard.primaryDisplay[0] as race_display, \n",
    "    ethnicities.standard.id[0] as ethnic_id, \n",
    "    ethnicities.standard.codingSystemId[0] as ethnic_id1,\n",
    "    ethnicities.standard.primaryDisplay[0] as ethnic_display, testpatientflag, \n",
    "    zipcodes[0], gender.standard.primaryDisplay as gender\n",
    "    FROM demographics\n",
    "    WHERE gender.standard.primaryDisplay== \"Female\"\n",
    "    \"\"\")\n",
    "demographics_sdf"
   ]
  },
  {
   "cell_type": "code",
   "execution_count": null,
   "id": "6f065ef9",
   "metadata": {},
   "outputs": [],
   "source": [
    "#Get age of patients (as of Sept 25, 2023)\n",
    "dem_age=demo_nonCUA.select('personid','birthdate', 'deceased', 'dateofdeath', 'race_display', 'ethnic_display', 'testpatientflag','zipcodes', 'gender')\\\n",
    "            .withColumn('age',datediff(current_date(),to_date(col('birthdate')))/365.25)\\\n",
    "            .drop('birthdate')\n",
    "dem_age"
   ]
  },
  {
   "cell_type": "code",
   "execution_count": null,
   "id": "937d5653",
   "metadata": {},
   "outputs": [],
   "source": [
    "#Filter test patients\n",
    "true_patients=dem_age.where(col('testpatientflag')==\"False\")\n",
    "true_patients.select('personid').distinct().count()\n",
    "true_patients.limit(5).toPandas()"
   ]
  },
  {
   "cell_type": "code",
   "execution_count": null,
   "id": "cc5a8835",
   "metadata": {},
   "outputs": [],
   "source": [
    "demo_non=true_patients.drop(\"dateofdeath\")"
   ]
  },
  {
   "cell_type": "code",
   "execution_count": null,
   "id": "6d68d33e",
   "metadata": {},
   "outputs": [],
   "source": [
    "##Query preferred demographics table\n",
    "\n",
    "pdem_pull=spark.sql(\"\"\"\n",
    "    SELECT  \n",
    "    personid,\n",
    "    prefrace,\n",
    "    prefracereason,\n",
    "    prefethnicity,\n",
    "    prefethnicityreason,\n",
    "    prefzip,\n",
    "    prefurban,\n",
    "    prefmetropolitan\n",
    "    FROM preferred_demographics\n",
    "    \"\"\")\n",
    "pdem_pull"
   ]
  },
  {
   "cell_type": "code",
   "execution_count": null,
   "id": "539ea73b",
   "metadata": {},
   "outputs": [],
   "source": [
    "#Filter to remove CUA patients\n",
    "pdem_non=pdem_pull.filter(col(\"personid\").isin(personid_list)==False)"
   ]
  },
  {
   "cell_type": "code",
   "execution_count": null,
   "id": "feff915f",
   "metadata": {},
   "outputs": [],
   "source": [
    "pdem_non.select('personid').distinct().count()"
   ]
  },
  {
   "cell_type": "code",
   "execution_count": null,
   "id": "237c6804",
   "metadata": {},
   "outputs": [],
   "source": [
    "nonCUA_dem = demo_non.join(pdem_non, 'personid', 'left')\n",
    "print(nonCUA_dem.select('personid').distinct().count())\n",
    "nonCUA_dem.limit(10).toPandas()"
   ]
  },
  {
   "cell_type": "code",
   "execution_count": null,
   "id": "5d86e20e",
   "metadata": {},
   "outputs": [],
   "source": [
    "nonCUA_personid=true_patients.drop(\"deceased\", \"race_display\", \"ethnic_display\", \"zipcodes\", \"age\", \"testpatientflag\", \"dateofdeath\", \"gender\", \"race_id\", \"race_id1\", \"ethnic_id\")"
   ]
  },
  {
   "cell_type": "code",
   "execution_count": null,
   "id": "58db5077",
   "metadata": {},
   "outputs": [],
   "source": [
    "nonCUA_personid.limit(5).toPandas()"
   ]
  },
  {
   "cell_type": "code",
   "execution_count": null,
   "id": "5c5794fa",
   "metadata": {},
   "outputs": [],
   "source": [
    "non_personid=nonCUA_personid.dropDuplicates(['personid'])"
   ]
  },
  {
   "cell_type": "code",
   "execution_count": null,
   "id": "4441de73",
   "metadata": {},
   "outputs": [],
   "source": [
    "non_personid.count()"
   ]
  },
  {
   "cell_type": "code",
   "execution_count": null,
   "id": "2da4c34c",
   "metadata": {},
   "outputs": [],
   "source": [
    "non_personid.write.saveAsTable('non_CUA_db.personid_table')"
   ]
  },
  {
   "cell_type": "markdown",
   "id": "0bc37323",
   "metadata": {},
   "source": [
    "## Include BMI data"
   ]
  },
  {
   "cell_type": "code",
   "execution_count": null,
   "id": "a9135f40",
   "metadata": {},
   "outputs": [],
   "source": [
    "BMI_pull= spark.sql(\"\"\"\n",
    "    SELECT personid, measurementcode.standard.id as id, measurementcode.standard.primaryDisplay as display, typedvalue.numericValue.value as BMI_ratio, servicedate, typedvalue.dateValue.date \n",
    "    FROM measurement\n",
    "    WHERE measurementcode.standard.id=='39156-5'\n",
    "\"\"\")\n",
    "BMI_pull"
   ]
  },
  {
   "cell_type": "code",
   "execution_count": null,
   "id": "f007b298",
   "metadata": {},
   "outputs": [],
   "source": [
    "BMI=BMI_pull.drop(\"id\", \"display\", \"servicedate\", \"date\")\n",
    "BMI.limit(10).toPandas()"
   ]
  },
  {
   "cell_type": "code",
   "execution_count": null,
   "id": "d8c3e737",
   "metadata": {},
   "outputs": [],
   "source": [
    "BMI_numeric = BMI.withColumn(\"BMI_ratio\", col(\"BMI_ratio\").cast(FloatType()))"
   ]
  },
  {
   "cell_type": "code",
   "execution_count": null,
   "id": "7d8e54be",
   "metadata": {},
   "outputs": [],
   "source": [
    "BMI_non=BMI_numeric.filter(col(\"personid\").isin(personid_list)==False)\n",
    "print(BMI_non.select('personid').distinct().count())"
   ]
  },
  {
   "cell_type": "code",
   "execution_count": null,
   "id": "c1318d72",
   "metadata": {},
   "outputs": [],
   "source": [
    "BMI_max=BMI_numeric.groupBy('personid').max('BMI_ratio')"
   ]
  },
  {
   "cell_type": "code",
   "execution_count": null,
   "id": "09453a42",
   "metadata": {},
   "outputs": [],
   "source": [
    "#Join BMI data to demographic data\n",
    "nonCUA_demo = nonCUA_dem.join(BMI_max, 'personid', 'left')\n",
    "\n",
    "print(nonCUA_demo.select('personid').distinct().count())\n",
    "nonCUA_demo.limit(10).toPandas()"
   ]
  },
  {
   "cell_type": "code",
   "execution_count": null,
   "id": "e988a20c",
   "metadata": {},
   "outputs": [],
   "source": [
    "demo_BMI = nonCUA_demo.withColumnRenamed(\"max(BMI_ratio)\", \"max_BMI_ratio\")\n",
    "\n",
    "demo_BMI.limit(5).toPandas()"
   ]
  },
  {
   "cell_type": "code",
   "execution_count": null,
   "id": "4ea7a49d",
   "metadata": {},
   "outputs": [],
   "source": [
    "demo_BMI.write.saveAsTable('non_CUA_db.demo_BMI')"
   ]
  },
  {
   "cell_type": "markdown",
   "id": "4057269e",
   "metadata": {},
   "source": [
    "## Pull Condition Table"
   ]
  },
  {
   "cell_type": "code",
   "execution_count": null,
   "id": "40e7e00b",
   "metadata": {},
   "outputs": [],
   "source": [
    "spark.sql(\"use real_world_data_jun_2023\")"
   ]
  },
  {
   "cell_type": "code",
   "execution_count": null,
   "id": "bd9714de",
   "metadata": {},
   "outputs": [],
   "source": [
    "condition= spark.sql(\"\"\"\n",
    "    select personid, conditioncode.standard.id as standardid, conditioncode.standard.primaryDisplay as display\n",
    "    from condition\n",
    "\"\"\")\n",
    "condition.cache()"
   ]
  },
  {
   "cell_type": "code",
   "execution_count": null,
   "id": "7e8e8698",
   "metadata": {},
   "outputs": [],
   "source": [
    "problem=spark.sql(\"\"\"\n",
    "    select personid, problemlistcode.standard.id as standardid,\n",
    "    problemlistcode.standard.primaryDisplay as display\n",
    "    from problem_list\n",
    "\"\"\")\n",
    "problem.cache()"
   ]
  },
  {
   "cell_type": "code",
   "execution_count": null,
   "id": "604d5943",
   "metadata": {},
   "outputs": [],
   "source": [
    "nonCUA_prob=problem.filter(col(\"personid\").isin(personid_list)==False)\n",
    "print(nonCUA_prob.select('personid').distinct().count())"
   ]
  },
  {
   "cell_type": "code",
   "execution_count": null,
   "id": "88a9137f",
   "metadata": {},
   "outputs": [],
   "source": [
    "nonCUA_cond=condition.filter(col(\"personid\").isin(personid_list)==False)\n",
    "print(nonCUA_cond.select('personid').distinct().count())"
   ]
  },
  {
   "cell_type": "code",
   "execution_count": null,
   "id": "11cb4512",
   "metadata": {},
   "outputs": [],
   "source": [
    "nonCUA_concat=nonCUA_cond.union(nonCUA_prob)\n",
    "nonCUA_concat_count=nonCUA_concat.select('personid').distinct().count()\n",
    "print(nonCUA_concat_count)\n",
    "nonCUA_concat.limit(20).toPandas()"
   ]
  },
  {
   "cell_type": "code",
   "execution_count": null,
   "id": "ea7552ba",
   "metadata": {},
   "outputs": [],
   "source": [
    "dem_con=nonpersonid.join(nonCUA_concat,['personid'],how='left')\n",
    "dem_con.limit(15).toPandas()\n",
    "print(dem_con.select('personid').distinct().count())"
   ]
  },
  {
   "cell_type": "code",
   "execution_count": null,
   "id": "a97960bd",
   "metadata": {},
   "outputs": [],
   "source": [
    "dem_con_left.write.saveAsTable('non_CUA_db.dem_con')"
   ]
  },
  {
   "cell_type": "markdown",
   "id": "7386c965",
   "metadata": {},
   "source": [
    "## Procedure Table"
   ]
  },
  {
   "cell_type": "code",
   "execution_count": null,
   "id": "4c7b6bdc",
   "metadata": {},
   "outputs": [],
   "source": [
    "procedure= spark.sql(\"\"\"\n",
    "    SELECT \n",
    "    personid,\n",
    "    procedurecode.standard.id as procedure_code,\n",
    "    procedurecode.standard.primaryDisplay as procedure_display,\n",
    "    servicestartdate as startdate,\n",
    "    serviceenddate as enddate\n",
    "    FROM procedure\n",
    "\"\"\")\n",
    "procedure"
   ]
  },
  {
   "cell_type": "code",
   "execution_count": null,
   "id": "e59dbdaa",
   "metadata": {},
   "outputs": [],
   "source": [
    "Non_procedure=procedure.filter(col(\"personid\").isin(personid_list)==False)"
   ]
  },
  {
   "cell_type": "code",
   "execution_count": null,
   "id": "9b64d79c",
   "metadata": {},
   "outputs": [],
   "source": [
    "Non_procedure.limit(5).toPandas()"
   ]
  },
  {
   "cell_type": "code",
   "execution_count": null,
   "id": "d91a273b",
   "metadata": {},
   "outputs": [],
   "source": [
    "Non_procedure.select('personid').distinct().count()"
   ]
  },
  {
   "cell_type": "code",
   "execution_count": null,
   "id": "028b9d31",
   "metadata": {},
   "outputs": [],
   "source": [
    "Non_procedure.write.saveAsTable('non_CUA_db.procedure_table')"
   ]
  }
 ],
 "metadata": {
  "kernelspec": {
   "display_name": "Python 3 (ipykernel)",
   "language": "python",
   "name": "python3"
  },
  "language_info": {
   "codemirror_mode": {
    "name": "ipython",
    "version": 3
   },
   "file_extension": ".py",
   "mimetype": "text/x-python",
   "name": "python",
   "nbconvert_exporter": "python",
   "pygments_lexer": "ipython3",
   "version": "3.9.7"
  }
 },
 "nbformat": 4,
 "nbformat_minor": 5
}
