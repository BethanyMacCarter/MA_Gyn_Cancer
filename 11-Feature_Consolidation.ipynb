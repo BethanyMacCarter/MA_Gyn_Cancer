{
 "cells": [
  {
   "cell_type": "code",
   "execution_count": null,
   "id": "339304f5",
   "metadata": {},
   "outputs": [],
   "source": [
    "spark"
   ]
  },
  {
   "cell_type": "code",
   "execution_count": null,
   "id": "2ae5dd6e",
   "metadata": {},
   "outputs": [],
   "source": [
    "# set max columns, rows, column width in pandas so doesn't truncate\n",
    "import pandas as pd\n",
    "pd.set_option('display.max_colwidth',250) # or -1\n",
    "pd.set_option('display.max_columns', None) # or 500\n",
    "pd.set_option('display.max_rows', None) # or 500\n",
    "\n",
    "# sets the cell width to 100% respective to the screen size\n",
    "from IPython.core.display import display, HTML\n",
    "from pyspark.sql.functions import when, col\n",
    "from pyspark.sql.functions import col\n",
    "from pyspark.sql.functions import sum as spark_sum\n",
    "from pyspark.sql.functions import coalesce\n",
    "display(HTML(\"<style>.container { width:92% !important; }</style>\"))"
   ]
  },
  {
   "cell_type": "markdown",
   "id": "3fef8a36",
   "metadata": {},
   "source": [
    "## Explore data"
   ]
  },
  {
   "cell_type": "code",
   "execution_count": null,
   "id": "4da3ec5e",
   "metadata": {},
   "outputs": [],
   "source": [
    "spark.sql('use CUA_db')"
   ]
  },
  {
   "cell_type": "code",
   "execution_count": null,
   "id": "7bf97a98",
   "metadata": {},
   "outputs": [],
   "source": [
    "cua_non = spark.sql(\"\"\"\n",
    "    select *\n",
    "    from concat_cua_non_table\n",
    "    \"\"\")\n",
    "cua_non"
   ]
  },
  {
   "cell_type": "code",
   "execution_count": null,
   "id": "4dfdacca",
   "metadata": {},
   "outputs": [],
   "source": [
    "filter_CUA = cua_non.filter(cua_non['CUA_ANY'] == 1)  # Filter treatment group\n",
    "filter_non=cua_non.filter(cua_non['CUA_ANY'] == 0)  # Filter control group"
   ]
  },
  {
   "cell_type": "code",
   "execution_count": null,
   "id": "8ee35858",
   "metadata": {},
   "outputs": [],
   "source": [
    "print(filter_CUA.count())\n",
    "print(filter_non.count())\n",
    "\n",
    "##28,462\n",
    "##23,805,007"
   ]
  },
  {
   "cell_type": "code",
   "execution_count": null,
   "id": "af1b890b",
   "metadata": {},
   "outputs": [],
   "source": [
    "AIAN_cua=filter_CUA.filter(filter_CUA['AIAN']==1)\n",
    "AIAN_non=filter_non.filter(filter_non['AIAN']==1)\n",
    "print(AIAN_cua.count())\n",
    "print(AIAN_non.count())\n",
    "\n",
    "#775\n",
    "#628920"
   ]
  },
  {
   "cell_type": "code",
   "execution_count": null,
   "id": "badd2fac",
   "metadata": {},
   "outputs": [],
   "source": [
    "Black_cua=filter_CUA.filter(filter_CUA['Black']==1)\n",
    "Black_non=filter_non.filter(filter_non['Black']==1)\n",
    "print(Black_cua.count())\n",
    "print(Black_non.count())\n",
    "\n",
    "#1411\n",
    "#2425515"
   ]
  },
  {
   "cell_type": "code",
   "execution_count": null,
   "id": "7bf0b6b4",
   "metadata": {},
   "outputs": [],
   "source": [
    "White_cua=filter_CUA.filter(filter_CUA['White']==1)\n",
    "White_non=filter_non.filter(filter_non['White']==1)\n",
    "print(White_cua.count())\n",
    "print(White_non.count())\n",
    "\n",
    "#20459\n",
    "#15559239"
   ]
  },
  {
   "cell_type": "code",
   "execution_count": null,
   "id": "038b8ce1",
   "metadata": {},
   "outputs": [],
   "source": [
    "HL_cua=filter_CUA.filter(filter_CUA['Hisp_latino']==1)\n",
    "HL_non=filter_non.filter(filter_non['Hisp_latino']==1)\n",
    "print(HL_cua.count())\n",
    "print(HL_non.count())\n",
    "\n",
    "#5465\n",
    "#4119444"
   ]
  },
  {
   "cell_type": "code",
   "execution_count": null,
   "id": "2eb330d9",
   "metadata": {},
   "outputs": [],
   "source": [
    "Unknown_cua=filter_CUA.filter(filter_CUA['Unknown']==1)\n",
    "Unknown_non=filter_non.filter(filter_non['Unknown']==1)\n",
    "print(Unknown_cua.count())\n",
    "print(Unknown_non.count())\n",
    "\n",
    "#2760\n",
    "#1757264"
   ]
  },
  {
   "cell_type": "code",
   "execution_count": null,
   "id": "ed58758f",
   "metadata": {},
   "outputs": [],
   "source": [
    "NHPI_cua=filter_CUA.filter(filter_CUA['NHPI']==1)\n",
    "NHPI_non=filter_non.filter(filter_non['NHPI']==1)\n",
    "print(NHPI_cua.count())\n",
    "print(NHPI_non.count())\n",
    "\n",
    "#106\n",
    "#51419"
   ]
  },
  {
   "cell_type": "code",
   "execution_count": null,
   "id": "24c88675",
   "metadata": {},
   "outputs": [],
   "source": [
    "MENA_cua=filter_CUA.filter(filter_CUA['MENA']==1)\n",
    "MENA_non=filter_non.filter(filter_non['MENA']==1)\n",
    "print(MENA_cua.count())\n",
    "print(MENA_non.count())\n",
    "\n",
    "#4\n",
    "#3251"
   ]
  },
  {
   "cell_type": "code",
   "execution_count": null,
   "id": "39dfa274",
   "metadata": {},
   "outputs": [],
   "source": [
    "API_cua=filter_CUA.filter(filter_CUA['API_ethn']==1)\n",
    "API_non=filter_non.filter(filter_non['API_ethn']==1)\n",
    "print(API_cua.count())\n",
    "print(API_non.count())\n",
    "\n",
    "#2\n",
    "#3962"
   ]
  },
  {
   "cell_type": "code",
   "execution_count": null,
   "id": "baf9a039",
   "metadata": {},
   "outputs": [],
   "source": [
    "mixed_cua=filter_CUA.filter(filter_CUA['mixed']==1)\n",
    "mixed_non=filter_non.filter(filter_non['mixed']==1)\n",
    "print(mixed_cua.count())\n",
    "print(mixed_non.count())\n",
    "\n",
    "#177\n",
    "#129424"
   ]
  },
  {
   "cell_type": "code",
   "execution_count": null,
   "id": "838831a2",
   "metadata": {},
   "outputs": [],
   "source": [
    "metro_cua=filter_CUA.filter(filter_CUA['Metropol']==1)\n",
    "metro_non=filter_non.filter(filter_non['Metropol']==1)\n",
    "print(metro_cua.count())\n",
    "print(metro_non.count())\n",
    "\n",
    "#23220\n",
    "#18974699"
   ]
  },
  {
   "cell_type": "code",
   "execution_count": null,
   "id": "c1d364e9",
   "metadata": {},
   "outputs": [],
   "source": [
    "nmetro_cua=filter_CUA.filter(filter_CUA['no_metro']==1)\n",
    "nmetro_non=filter_non.filter(filter_non['no_metro']==1)\n",
    "print(nmetro_cua.count())\n",
    "print(nmetro_non.count())\n",
    "\n",
    "#1012\n",
    "#1409764"
   ]
  },
  {
   "cell_type": "code",
   "execution_count": null,
   "id": "8dcd646f",
   "metadata": {},
   "outputs": [],
   "source": [
    "urban_cua=filter_CUA.filter(filter_CUA['urbn']==1)\n",
    "urban_non=filter_non.filter(filter_non['urbn']==1)\n",
    "print(urban_cua.count())\n",
    "print(urban_non.count())\n",
    "\n",
    "#22910\n",
    "#18750236"
   ]
  },
  {
   "cell_type": "code",
   "execution_count": null,
   "id": "901b27bb",
   "metadata": {},
   "outputs": [],
   "source": [
    "rural_cua=filter_CUA.filter(filter_CUA['rural']==1)\n",
    "rural_non=filter_non.filter(filter_non['rural']==1)\n",
    "print(rural_cua.count())\n",
    "print(rural_non.count())\n",
    "\n",
    "#4539\n",
    "#3645962"
   ]
  },
  {
   "cell_type": "code",
   "execution_count": null,
   "id": "eabda480",
   "metadata": {},
   "outputs": [],
   "source": [
    "nm_cua=filter_CUA.filter(filter_CUA['no_metro']==1)\n",
    "nm_non=filter_non.filter(filter_non['no_metro']==1)\n",
    "print(nm_cua.count())\n",
    "print(nm_non.count())\n",
    "\n",
    "#1012\n",
    "#1409764"
   ]
  },
  {
   "cell_type": "code",
   "execution_count": null,
   "id": "8133baa5",
   "metadata": {},
   "outputs": [],
   "source": [
    "nu_cua=filter_CUA.filter(filter_CUA['no_urban']==1)\n",
    "nu_non=filter_non.filter(filter_non['no_urban']==1)\n",
    "print(nu_cua.count())\n",
    "print(nu_non.count())\n",
    "\n",
    "#1013\n",
    "#1408479"
   ]
  },
  {
   "cell_type": "markdown",
   "id": "7110c041",
   "metadata": {},
   "source": [
    "## Merge/ coalesce"
   ]
  },
  {
   "cell_type": "code",
   "execution_count": null,
   "id": "f5f3243c",
   "metadata": {},
   "outputs": [],
   "source": [
    "merged_csect = cua_non.withColumn('any_csect', \n",
    "                                  when((cua_non['csect'] == 1) | (cua_non['lcsect'] == 1) | (cua_non['ccsect'] == 1), 1)\n",
    "                                  .otherwise(0))"
   ]
  },
  {
   "cell_type": "code",
   "execution_count": null,
   "id": "970b14a1",
   "metadata": {},
   "outputs": [],
   "source": [
    "filter_CUA1 = merged_csect.filter(merged_csect['CUA_ANY'] == 1)  # Filter treatment group\n",
    "filter_non1=merged_csect.filter(merged_csect['CUA_ANY'] == 0)  # Filter control group"
   ]
  },
  {
   "cell_type": "code",
   "execution_count": null,
   "id": "08a2fd26",
   "metadata": {},
   "outputs": [],
   "source": [
    "any_csects_cua=filter_CUA1.filter(filter_CUA1['any_csect']==1)\n",
    "any_csects_non=filter_non1.filter(filter_non1['any_csect']==1)\n",
    "print(any_csects_cua.count())\n",
    "print(any_csects_non.count())\n",
    "\n",
    "#7321\n",
    "#876829"
   ]
  },
  {
   "cell_type": "code",
   "execution_count": null,
   "id": "313822e2",
   "metadata": {},
   "outputs": [],
   "source": [
    "merged_races = merged_csect.withColumn('Other_plus', \n",
    "                                  when((cua_non['mixed'] == 1) | (cua_non['API_ethn'] == 1) | (cua_non['MENA'] == 1) |\n",
    "                                        (cua_non['AIAN'] == 1) | (cua_non['NHPI'] == 1) | (cua_non['Asian'] == 1)\n",
    "                                       | (cua_non['Other'] == 1),1)\n",
    "                                  .otherwise(0))"
   ]
  },
  {
   "cell_type": "code",
   "execution_count": null,
   "id": "8015c6ca",
   "metadata": {},
   "outputs": [],
   "source": [
    "merged_races.limit(5).toPandas()"
   ]
  },
  {
   "cell_type": "code",
   "execution_count": null,
   "id": "2a9b718b",
   "metadata": {},
   "outputs": [],
   "source": [
    "filter_CUA2 = merged_races.filter(merged_races['CUA_ANY'] == 1)  # Filter treatment group\n",
    "filter_non2=merged_races.filter(merged_races['CUA_ANY'] == 0) "
   ]
  },
  {
   "cell_type": "code",
   "execution_count": null,
   "id": "a7497c0b",
   "metadata": {},
   "outputs": [],
   "source": [
    "any_race_cua=filter_CUA2.filter(filter_CUA2['Other_plus']==1)\n",
    "any_race_non=filter_non2.filter(filter_non2['Other_plus']==1)\n",
    "print(any_race_cua.count())\n",
    "print(any_race_non.count())\n",
    "\n",
    "#3993\n",
    "#2789225"
   ]
  },
  {
   "cell_type": "code",
   "execution_count": null,
   "id": "d2523217",
   "metadata": {},
   "outputs": [],
   "source": [
    "merged_races.write.saveAsTable('CUA_db.consolidated_cua_non')"
   ]
  }
 ],
 "metadata": {
  "kernelspec": {
   "display_name": "Python 3 (ipykernel)",
   "language": "python",
   "name": "python3"
  },
  "language_info": {
   "codemirror_mode": {
    "name": "ipython",
    "version": 3
   },
   "file_extension": ".py",
   "mimetype": "text/x-python",
   "name": "python",
   "nbconvert_exporter": "python",
   "pygments_lexer": "ipython3",
   "version": "3.9.7"
  }
 },
 "nbformat": 4,
 "nbformat_minor": 5
}
