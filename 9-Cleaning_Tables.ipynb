{
 "cells": [
  {
   "cell_type": "code",
   "execution_count": null,
   "id": "e048df14",
   "metadata": {},
   "outputs": [],
   "source": [
    "spark"
   ]
  },
  {
   "cell_type": "code",
   "execution_count": null,
   "id": "66c6debe",
   "metadata": {},
   "outputs": [],
   "source": [
    "# set max columns, rows, column width in pandas so doesn't truncate\n",
    "import pandas as pd\n",
    "pd.set_option('display.max_colwidth',250) # or -1\n",
    "pd.set_option('display.max_columns', None) # or 500\n",
    "pd.set_option('display.max_rows', None) # or 500\n",
    "\n",
    "# sets the cell width to 100% respective to the screen size\n",
    "from IPython.core.display import display, HTML\n",
    "display(HTML(\"<style>.container { width:92% !important; }</style>\"))\n",
    "\n",
    "from pyspark.sql.functions import when, col\n",
    "from pyspark.sql.functions import col, sum as spark_sum\n",
    "from pyspark.sql.functions import avg\n",
    "from pyspark.sql.functions import when"
   ]
  },
  {
   "cell_type": "code",
   "execution_count": null,
   "id": "b4fa2458",
   "metadata": {},
   "outputs": [],
   "source": []
  },
  {
   "cell_type": "markdown",
   "id": "c62391d4",
   "metadata": {},
   "source": [
    "## Clean CUA tables"
   ]
  },
  {
   "cell_type": "code",
   "execution_count": null,
   "id": "c793c3b3",
   "metadata": {},
   "outputs": [],
   "source": [
    "spark.sql(\"use CUA_db\")"
   ]
  },
  {
   "cell_type": "code",
   "execution_count": null,
   "id": "7ad1682e",
   "metadata": {},
   "outputs": [],
   "source": [
    "sfm= spark.sql(\"\"\"\n",
    "    SELECT *\n",
    "    FROM semi_final_matrix3\n",
    "\"\"\")\n",
    "sfm"
   ]
  },
  {
   "cell_type": "markdown",
   "id": "97000fe4",
   "metadata": {},
   "source": [
    "### Remove if missing age"
   ]
  },
  {
   "cell_type": "code",
   "execution_count": null,
   "id": "41de803c",
   "metadata": {},
   "outputs": [],
   "source": [
    "age_null_count = sfm.select(spark_sum(col(\"age\").isNull().cast(\"integer\"))).collect()[0][0]\n",
    "print(\"Number of null values in 'age':\", age_null_count)"
   ]
  },
  {
   "cell_type": "code",
   "execution_count": null,
   "id": "46a264be",
   "metadata": {},
   "outputs": [],
   "source": [
    "no_age = sfm.filter(sfm[\"age\"].isNull())\n",
    "no_age.toPandas()"
   ]
  },
  {
   "cell_type": "code",
   "execution_count": null,
   "id": "67c2afeb",
   "metadata": {},
   "outputs": [],
   "source": [
    "sfm_clean_age = sfm.na.drop(subset=[\"age\"])\n",
    "sfm_clean_age.count()"
   ]
  },
  {
   "cell_type": "code",
   "execution_count": null,
   "id": "9180bd80",
   "metadata": {},
   "outputs": [],
   "source": [
    "age_null_count2 = sfm_clean_age.select(spark_sum(col(\"age\").isNull().cast(\"integer\"))).collect()[0][0]\n",
    "print(\"Number of null values in 'age':\", age_null_count2)\n",
    "## note resulted in 0 null"
   ]
  },
  {
   "cell_type": "code",
   "execution_count": null,
   "id": "919a51a4",
   "metadata": {},
   "outputs": [],
   "source": [
    "BMI_null_count = sfm.select(spark_sum(col(\"max_BMI_ratio\").isNull().cast(\"integer\"))).collect()[0][0]\n",
    "print(\"Number of null values in 'age':\", BMI_null_count)\n",
    "## note resulted in 2522 null"
   ]
  },
  {
   "cell_type": "code",
   "execution_count": null,
   "id": "d2a96a15",
   "metadata": {},
   "outputs": [],
   "source": [
    "mean_age = sfm.agg(avg(\"age\")).collect()[0][0]\n",
    "print(\"Mean of 'age':\", mean_age)"
   ]
  },
  {
   "cell_type": "code",
   "execution_count": null,
   "id": "eb3533fb",
   "metadata": {},
   "outputs": [],
   "source": [
    "quantiles = sfm.approxQuantile(\"age\", [0.5], 0.001)  # 0.5 indicates median\n",
    "median_value = quantiles[0]\n",
    "print(\"Median of 'age':\", median_value)\n",
    "\n",
    "##Median of 'age': 35.84394250513347"
   ]
  },
  {
   "cell_type": "markdown",
   "id": "2f3d9386",
   "metadata": {},
   "source": [
    "### Impute BMI for missing"
   ]
  },
  {
   "cell_type": "code",
   "execution_count": null,
   "id": "a0f5f727",
   "metadata": {},
   "outputs": [],
   "source": [
    "mean_BMI = sfm.agg(avg(\"max_BMI_ratio\")).collect()[0][0]\n",
    "print(\"Mean of 'max_BMI_ratio':\", mean_BMI)\n",
    "\n",
    "##Mean of 'max_BMI_ratio': 33.90729062899"
   ]
  },
  {
   "cell_type": "code",
   "execution_count": null,
   "id": "bd93377c",
   "metadata": {},
   "outputs": [],
   "source": [
    "quantiles_BMI = sfm.approxQuantile(\"max_BMI_ratio\", [0.5], 0.001)  # 0.5 indicates median\n",
    "median_BMI = quantiles_BMI[0]\n",
    "print(\"Median of 'BMI':\", median_BMI)\n",
    "\n",
    "##Median of 'BMI': 30.850000381469727"
   ]
  },
  {
   "cell_type": "code",
   "execution_count": null,
   "id": "651f8a2a",
   "metadata": {},
   "outputs": [],
   "source": [
    "bmi_replacement_med = '31'\n",
    "sfm_bmi_imp = sfm_clean_age.withColumn('max_BMI_ratio', when(sfm_clean_age['max_BMI_ratio'].isNull(), bmi_replacement_med).otherwise(sfm_clean_age['max_BMI_ratio']))"
   ]
  },
  {
   "cell_type": "code",
   "execution_count": null,
   "id": "9d1b0c63",
   "metadata": {},
   "outputs": [],
   "source": [
    "BMI_null_count2 = sfm_bmi_imp.select(spark_sum(col(\"max_BMI_ratio\").isNull().cast(\"integer\"))).collect()[0][0]\n",
    "print(\"Number of null values in 'age':\", BMI_null_count2)"
   ]
  },
  {
   "cell_type": "code",
   "execution_count": null,
   "id": "16f7a93b",
   "metadata": {},
   "outputs": [],
   "source": [
    "sfm_bmi_imp.limit(5).toPandas()"
   ]
  },
  {
   "cell_type": "code",
   "execution_count": null,
   "id": "b4b177f3",
   "metadata": {},
   "outputs": [],
   "source": []
  },
  {
   "cell_type": "markdown",
   "id": "69e0b80e",
   "metadata": {},
   "source": [
    "### Look for missing race data and add on to unknown column"
   ]
  },
  {
   "cell_type": "code",
   "execution_count": null,
   "id": "2fe9e4e3",
   "metadata": {},
   "outputs": [],
   "source": [
    "filtered_race_count = (\n",
    "    sfm_bmi_imp.filter((col(\"AIAN\") == \"1\") | (col(\"NHPI\") == \"1\") | (col(\"Asian\") == \"1\")| (col(\"Black\") == \"1\")| (col(\"White\") == \"1\")| (col(\"MENA\") == \"1\")| (col(\"Hisp_Latino\") == \"1\")| (col(\"Other\") == \"1\")| (col(\"API_ethn\") == \"1\")| (col(\"Mixed\") == \"1\")| (col(\"Unknown\") == \"1\"))\n",
    "    .select(\"personid\")\n",
    "    .distinct()\n",
    "    .count()\n",
    ")\n",
    "filtered_race_count"
   ]
  },
  {
   "cell_type": "code",
   "execution_count": null,
   "id": "6badf348",
   "metadata": {},
   "outputs": [],
   "source": [
    "filtered_race_count2 = (\n",
    "    sfm_bmi_imp.filter((col(\"AIAN\") == \"0\") & (col(\"NHPI\") == \"0\") & (col(\"Asian\") == \"0\")& (col(\"Black\") == \"0\")& (col(\"White\") == \"0\")& (col(\"MENA\") == \"0\")& (col(\"Hisp_Latino\") == \"0\")& (col(\"Other\") == \"0\")& (col(\"API_ethn\") == \"0\")& (col(\"Mixed\") == \"0\")& (col(\"Unknown\") == \"0\"))\n",
    "    .select(\"personid\")\n",
    "    .distinct()\n",
    "    .count()\n",
    ")\n",
    "filtered_race_count2"
   ]
  },
  {
   "cell_type": "code",
   "execution_count": null,
   "id": "f7f9c55f",
   "metadata": {},
   "outputs": [],
   "source": [
    "28462-27638"
   ]
  },
  {
   "cell_type": "code",
   "execution_count": null,
   "id": "5c8c7c7c",
   "metadata": {},
   "outputs": [],
   "source": [
    "filtered_personids = (\n",
    "    sfm_bmi_imp.filter((col(\"AIAN\") == \"0\") & (col(\"NHPI\") == \"0\") & (col(\"Asian\") == \"0\")& (col(\"Black\") == \"0\")& (col(\"White\") == \"0\")& (col(\"MENA\") == \"0\")& (col(\"Hisp_Latino\") == \"0\")& (col(\"Other\") == \"0\")& (col(\"API_ethn\") == \"0\")& (col(\"Mixed\") == \"0\")& (col(\"Unknown\") == \"0\"))\n",
    "    .select(\"personid\")\n",
    ")\n",
    "filtered_personids\n",
    "\n",
    "filtered_personid_list = [row.personid for row in filtered_personids.collect()]"
   ]
  },
  {
   "cell_type": "code",
   "execution_count": null,
   "id": "01cb2240",
   "metadata": {},
   "outputs": [],
   "source": [
    "sfm_with_unknown = sfm_bmi_imp.withColumn(\"Unknown\", when(col(\"personid\").isin(filtered_personid_list), 1).otherwise(col(\"Unknown\")))"
   ]
  },
  {
   "cell_type": "code",
   "execution_count": null,
   "id": "6a9a24d2",
   "metadata": {},
   "outputs": [],
   "source": [
    "filtered_unknown_count2 = (\n",
    "    sfm_with_unknown.filter((col(\"Unknown\") == \"1\"))\n",
    "    .distinct()\n",
    "    .count()\n",
    ")\n",
    "filtered_unknown_count2"
   ]
  },
  {
   "cell_type": "code",
   "execution_count": null,
   "id": "32f3ac3b",
   "metadata": {},
   "outputs": [],
   "source": [
    "sfm_with_unknown.write.saveAsTable('CUA_db.semi_final_matrix_clean_imputed')"
   ]
  },
  {
   "cell_type": "code",
   "execution_count": null,
   "id": "37e7466f",
   "metadata": {},
   "outputs": [],
   "source": []
  },
  {
   "cell_type": "markdown",
   "id": "11aadd00",
   "metadata": {},
   "source": [
    "## Clean Control Tables"
   ]
  },
  {
   "cell_type": "code",
   "execution_count": null,
   "id": "b2aafd71",
   "metadata": {},
   "outputs": [],
   "source": [
    "spark.sql('use non_CUA_db')"
   ]
  },
  {
   "cell_type": "code",
   "execution_count": null,
   "id": "e6f33e06",
   "metadata": {},
   "outputs": [],
   "source": [
    "nsfm= spark.sql(\"\"\"\n",
    "    SELECT *\n",
    "    FROM semi_final_matrix_update\n",
    "\"\"\")\n",
    "nsfm"
   ]
  },
  {
   "cell_type": "code",
   "execution_count": null,
   "id": "148631cc",
   "metadata": {},
   "outputs": [],
   "source": [
    "nsfm.select('personid').distinct().count()"
   ]
  },
  {
   "cell_type": "code",
   "execution_count": null,
   "id": "886efb28",
   "metadata": {},
   "outputs": [],
   "source": [
    "non_age_null_count = nsfm.select(spark_sum(col(\"age\").isNull().cast(\"integer\"))).collect()[0][0]\n",
    "print(\"Number of null values in 'age':\", non_age_null_count)\n",
    "\n",
    "##nulls= 0"
   ]
  },
  {
   "cell_type": "code",
   "execution_count": null,
   "id": "49a396eb",
   "metadata": {},
   "outputs": [],
   "source": [
    "non_BMI_null_count = nsfm.select(spark_sum(col(\"max_BMI_ratio\").isNull().cast(\"integer\"))).collect()[0][0]\n",
    "print(\"Number of null values in 'age':\", non_BMI_null_count)\n",
    "##nulls = 0"
   ]
  },
  {
   "cell_type": "code",
   "execution_count": null,
   "id": "2536f611",
   "metadata": {},
   "outputs": [],
   "source": [
    "nfiltered_race_count = (\n",
    "    nsfm.filter((col(\"AIAN\") == \"1\") | (col(\"NHPI\") == \"1\") | (col(\"Asian\") == \"1\")| (col(\"Black\") == \"1\")| (col(\"White\") == \"1\")| (col(\"MENA\") == \"1\")| (col(\"Hisp_Latino\") == \"1\")| (col(\"Other\") == \"1\")| (col(\"API_ethn\") == \"1\")| (col(\"Mixed\") == \"1\")| (col(\"Unknown\") == \"1\"))\n",
    "    .select(\"personid\")\n",
    "    .distinct()\n",
    "    .count()\n",
    ")\n",
    "nfiltered_race_count"
   ]
  },
  {
   "cell_type": "code",
   "execution_count": null,
   "id": "99809461",
   "metadata": {},
   "outputs": [],
   "source": [
    "nfiltered_race_count2 = (\n",
    "    nsfm.filter((col(\"AIAN\") == \"0\") & (col(\"NHPI\") == \"0\") & (col(\"Asian\") == \"0\")& (col(\"Black\") == \"0\")& (col(\"White\") == \"0\")& (col(\"MENA\") == \"0\")& (col(\"Hisp_Latino\") == \"0\")& (col(\"Other\") == \"0\")& (col(\"API_ethn\") == \"0\")& (col(\"Mixed\") == \"0\")& (col(\"Unknown\") == \"0\"))\n",
    "    .select(\"personid\")\n",
    "    .distinct()\n",
    "    .count()\n",
    ")\n",
    "nfiltered_race_count2"
   ]
  },
  {
   "cell_type": "code",
   "execution_count": null,
   "id": "7f8fff89",
   "metadata": {},
   "outputs": [],
   "source": [
    "nfiltered_personids = (\n",
    "    nsfm.filter((col(\"AIAN\") == \"0\") & (col(\"NHPI\") == \"0\") & (col(\"Asian\") == \"0\")& (col(\"Black\") == \"0\")& (col(\"White\") == \"0\")& (col(\"MENA\") == \"0\")& (col(\"Hisp_Latino\") == \"0\")& (col(\"Other\") == \"0\")& (col(\"API_ethn\") == \"0\")& (col(\"Mixed\") == \"0\")& (col(\"Unknown\") == \"0\"))\n",
    "    .select(\"personid\")\n",
    ")\n",
    "nfiltered_personids\n",
    "\n",
    "nfiltered_personid_list = [row.personid for row in nfiltered_personids.collect()]\n"
   ]
  },
  {
   "cell_type": "code",
   "execution_count": null,
   "id": "978890f9",
   "metadata": {},
   "outputs": [],
   "source": [
    "nsfm_with_unknown = nsfm.withColumn(\"Unknown\", when(col(\"personid\").isin(nfiltered_personid_list), 1).otherwise(col(\"Unknown\")))"
   ]
  },
  {
   "cell_type": "code",
   "execution_count": null,
   "id": "1019e26a",
   "metadata": {},
   "outputs": [],
   "source": [
    "nsfm_with_unknown.limit(5).toPandas()"
   ]
  },
  {
   "cell_type": "code",
   "execution_count": null,
   "id": "7c0c075f",
   "metadata": {},
   "outputs": [],
   "source": [
    "filtered_unknown_count2 = (\n",
    "    nsfm.filter((col(\"Unknown\") == \"1\"))\n",
    "    .distinct()\n",
    "    .count()\n",
    ")\n",
    "filtered_unknown_count2\n",
    "\n",
    "##no nulls"
   ]
  },
  {
   "cell_type": "code",
   "execution_count": null,
   "id": "34b89089",
   "metadata": {},
   "outputs": [],
   "source": [
    "nfiltered_unknown_count3 = (\n",
    "    nsfm_with_unknown.filter((col(\"Unknown\") == \"1\"))\n",
    "    .distinct()\n",
    "    .count()\n",
    ")\n",
    "nfiltered_unknown_count3\n",
    "## no nulls"
   ]
  },
  {
   "cell_type": "code",
   "execution_count": null,
   "id": "fbd7b56c",
   "metadata": {},
   "outputs": [],
   "source": [
    "nsfm_with_unknown.count()\n",
    "## 23805007"
   ]
  },
  {
   "cell_type": "code",
   "execution_count": null,
   "id": "f74abb85",
   "metadata": {},
   "outputs": [],
   "source": [
    "nsfm_with_unknown.write.saveAsTable('non_CUA_db.semi_final_matrix_clean2')"
   ]
  },
  {
   "cell_type": "markdown",
   "id": "4909c92c",
   "metadata": {},
   "source": [
    "## Concatenate with the CUA database for PSM"
   ]
  },
  {
   "cell_type": "code",
   "execution_count": null,
   "id": "ff5d1e4e",
   "metadata": {},
   "outputs": [],
   "source": [
    "spark.sql(\"use non_CUA_db\")"
   ]
  },
  {
   "cell_type": "code",
   "execution_count": null,
   "id": "4962adc0",
   "metadata": {},
   "outputs": [],
   "source": [
    "nSFM = spark.sql(\"\"\"\n",
    "    select *\n",
    "    from semi_final_matrix_clean2\n",
    "\"\"\")\n",
    "nSFM"
   ]
  },
  {
   "cell_type": "code",
   "execution_count": null,
   "id": "f42c03f3",
   "metadata": {},
   "outputs": [],
   "source": [
    "spark.sql(\"use CUA_db\")"
   ]
  },
  {
   "cell_type": "code",
   "execution_count": null,
   "id": "e02fd914",
   "metadata": {},
   "outputs": [],
   "source": [
    "SFM = spark.sql(\"\"\"\n",
    "    select *\n",
    "    from semi_final_matrix_clean_imputed\n",
    "\"\"\")\n",
    "SFM"
   ]
  },
  {
   "cell_type": "code",
   "execution_count": null,
   "id": "cf661984",
   "metadata": {},
   "outputs": [],
   "source": [
    "concat_cua_non=SFM.union(nSFM)"
   ]
  },
  {
   "cell_type": "code",
   "execution_count": null,
   "id": "31850c13",
   "metadata": {},
   "outputs": [],
   "source": [
    "print(concat_cua_non.count())\n",
    "concat_cua_non.limit(5).toPandas()"
   ]
  },
  {
   "cell_type": "code",
   "execution_count": null,
   "id": "958ada95",
   "metadata": {},
   "outputs": [],
   "source": [
    "concat_cua_non.write.saveAsTable('CUA_db.concat_cua_non_table')"
   ]
  }
 ],
 "metadata": {
  "kernelspec": {
   "display_name": "Python 3 (ipykernel)",
   "language": "python",
   "name": "python3"
  },
  "language_info": {
   "codemirror_mode": {
    "name": "ipython",
    "version": 3
   },
   "file_extension": ".py",
   "mimetype": "text/x-python",
   "name": "python",
   "nbconvert_exporter": "python",
   "pygments_lexer": "ipython3",
   "version": "3.9.7"
  }
 },
 "nbformat": 4,
 "nbformat_minor": 5
}
