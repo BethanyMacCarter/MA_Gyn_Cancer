{
 "cells": [
  {
   "cell_type": "markdown",
   "id": "a1f884df",
   "metadata": {},
   "source": [
    "## Initiate Session and Imports"
   ]
  },
  {
   "cell_type": "code",
   "execution_count": null,
   "id": "02e01cb2",
   "metadata": {},
   "outputs": [],
   "source": [
    "spark"
   ]
  },
  {
   "cell_type": "code",
   "execution_count": null,
   "id": "9b469ae7",
   "metadata": {},
   "outputs": [],
   "source": [
    "# set max columns, rows, column width in pandas so doesn't truncate\n",
    "import pandas as pd\n",
    "pd.set_option('display.max_colwidth',250) # or -1\n",
    "pd.set_option('display.max_columns', None) # or 500\n",
    "pd.set_option('display.max_rows', None) # or 500\n",
    "\n",
    "# sets the cell width to 100% respective to the screen size\n",
    "from IPython.core.display import display, HTML\n",
    "display(HTML(\"<style>.container { width:92% !important; }</style>\"))\n",
    "\n",
    "from pyspark.sql.functions import when, col"
   ]
  },
  {
   "cell_type": "code",
   "execution_count": null,
   "id": "8136ee63",
   "metadata": {},
   "outputs": [],
   "source": []
  },
  {
   "cell_type": "markdown",
   "id": "68fc2597",
   "metadata": {},
   "source": [
    "## Create Dictionaries for defined codes"
   ]
  },
  {
   "cell_type": "markdown",
   "id": "867a243b",
   "metadata": {},
   "source": [
    "### CUA Condition codes (to distinguish population)"
   ]
  },
  {
   "cell_type": "code",
   "execution_count": null,
   "id": "b07885f3",
   "metadata": {},
   "outputs": [],
   "source": [
    "CUA_ANY=['Q51.0','752.31', '204844007', '783231007', '783230008', '17142008', \n",
    "'Q51.1','Q51.10', 'Q51.11','752.2', '360422007', '10835661000119100', '21346009', '722431007', \n",
    "'Q51.2', '752.35',  '1230025003','22504001', 'Q51.3', '752.34', '31401003', '237223005', '237224004', \n",
    "'237225003', '237221007', '237220008', '237219002','Q51.818', '752.39','Q51.811', '752.32', '253832006', \n",
    "'Q51.4', '752.33', '1372004', 'Q51.810', '752.36', '38437003','Q52.11', '752.46', '142191000119104', \n",
    "'Q52.12', 'Q52.120', 'Q52.121', 'Q52.122', 'Q52.123', 'Q52.124', 'Q52.129', '752.47', '142201000119101']"
   ]
  },
  {
   "cell_type": "markdown",
   "id": "a1872d7c",
   "metadata": {},
   "source": [
    "### Cancer Codes"
   ]
  },
  {
   "cell_type": "code",
   "execution_count": null,
   "id": "7d43dc3a",
   "metadata": {},
   "outputs": [],
   "source": [
    "Uterine_Cancers=['233.2', 'D07.0', '92788005', '179.', 'C55', '371973000', '10708511000119108', '94665001', \n",
    "'371972005', '446022000', '94215000', '182.0', 'C54.1', '254878006', '1178986006', '699356008', '732201008', \n",
    "'1259458001', 'C54.2', '93915004', '94434002', 'C54.3', '449054005', '109882003', 'C54.9', '188193007', '449073009',\n",
    "'860982007', '371971003', '182.1', 'C54.0', '94355001', '93844001', '702369008','182.8', 'C54.8', '109879008', \n",
    "'V10.42', 'Z85.4', '428941002', '672281000119109']\n",
    "\n",
    "Ovarian_Cancers=['183.0', 'C56.9', 'Z85.43', 'V10.43', 'C56.1', 'C56.2', '369523007', '369530001', '369529006', \n",
    "'369522002', '10737861000119101', '10737911000119105', '369533004', '369526004', '369562003', '369570008', \n",
    "'93934004','94455000', '15635721000119108', '15930821000119105', '429090009', '16847781000119108','16847701000119100',\n",
    "'141951000119104', '16847741000119103', '716855006', '422782004', '254849005', '363443007', '827162007', '254874008',\n",
    "'254869000', '254863004', '254860001', '254852002', '254872007', '10737781000119101', '10737821000119106']\n",
    "\n",
    "OV_FT=['183.0', 'C56.9', 'Z85.43', 'V10.43', 'C56.1', 'C56.2', \n",
    "                 '369523007', '369530001', '369529006', '369522002', \n",
    "                 '10737861000119101', '10737911000119105', '369533004', \n",
    "                 '369526004', '369562003', '369570008', '93934004','94455000', \n",
    "                 '15635721000119108', '15930821000119105', '429090009', \n",
    "                 '16847781000119108','16847701000119100','141951000119104', \n",
    "                 '16847741000119103', '716855006', '422782004', '254849005', \n",
    "                 '363443007', '827162007', '254874008','254869000', '254863004',\n",
    "                 '254860001', '254852002', '254872007', '10737781000119101',\n",
    "                 '10737821000119106','254856004', '770601003', '1259386005',\n",
    "                 '424600001', '424486004', '423274005', '423480004','183.2 ', \n",
    "               'C57.00', '276870001', '1259320001', '1197275006', '94295001', \n",
    "               '371987000', '369521009', '369514009', '369520005','369513003', \n",
    "               '363444001', '369554006', '69548005', '369517002','369544007', \n",
    "               '124361000119101']\n",
    "\n",
    "Cervical_Cancers=['233.1', 'D06.9', '92564006','Z85.41', 'V10.41', '180.0', 'C53.0', '180.1', 'C53.1', '180.8', \n",
    "'C53.8', '180.9', 'C53.9', '372097009', '93779009', '94279001', '372098004', '1259514003', '372097009', '208041000119100',\n",
    "'93779009', '180.1', 'C53.1', '372100004', '372100004', '1259516001', '372099007', '93789008', '94290006', '180.8',\n",
    "'C53.8', '188184006', '180.9', 'C53.9', '363354003', '188469005', '1259493008', '423973006', '109880006', '372024009',\n",
    "'188180002', '764951002', '1259433006', '285432005', 'V10.41', 'Z85.41', '429484003', '1197268005', '254888007', '1259387001', \n",
    "'766930002', '722683006', '1197263001', '773775004']\n",
    "        \n",
    "Other_Gyn_Cancers=['233.39', '233.3', 'D07.39', 'D07.30', '233.30', '92594000', '233.32', 'D07.1', '92802003', \n",
    "'233.31', 'D07.2', '92791005', '181.', 'C58.', '236.1', '721567004', '94492000', 'V10.40', 'V10.44', 'Z85.40', \n",
    "'Z85.44', '184.8', 'C57.7', 'C57.8', '184.9', 'C57.9', '109878000', '415079009', '363514001', '184.1', 'C51.0', \n",
    "'363446004', '94361003', '93850006', '184.2', 'C51.1', '363447008', '94362005', '93851005', '184.3', 'C51.2', \n",
    "'371979001', '371980003', '94257006', '184.4', 'C51', '109885001', '94681006', '429635001', '94143002', \n",
    "'71111000119109', '447882007', '1144945000', '717731002', '1259681009', '254895003', '402912009', '254897006', \n",
    "'C51.9', '184.0', 'C52', '94668004', '372025005', '427844008', '71101000119106', '770686005', '363445000', \n",
    "'721563000', '254893005', '105121000119102', '722678003']           \n",
    "\n",
    "Any_Gyn_Cancers=['233.2', 'D07.0', '92788005', '179.', 'C55', '371973000', '10708511000119108', '94665001', \n",
    "                 '371972005', '446022000', '94215000', '182.0', 'C54.1', '254878006', '1178986006', '699356008', \n",
    "                 '732201008', '1259458001', 'C54.2', '93915004', '94434002', 'C54.3', '449054005', '109882003', \n",
    "                 'C54.9', '188193007', '449073009', '860982007', '371971003', '182.1', 'C54.0', '94355001', \n",
    "                 '93844001', '702369008',  '182.8', 'C54.8', '109879008', 'V10.42', 'Z85.4', '428941002', \n",
    "                 '672281000119109', '183.0', 'C56.9', 'Z85.43', 'V10.43', 'C56.1', 'C56.2', '369523007', \n",
    "                 '369530001', '369529006', '369522002', '10737861000119101', '10737911000119105', '369533004', \n",
    "                 '369526004', '369562003', '369570008', '93934004','94455000', '15635721000119108', '15930821000119105', \n",
    "                 '429090009', '16847781000119108', '16847701000119100', '141951000119104', '16847741000119103', '716855006',\n",
    "                 '422782004', '254849005', '363443007', '827162007', '254874008', '254869000', '254863004', '254860001', \n",
    "                 '254852002', '254872007', '10737781000119101', '10737821000119106', '183.2', 'C57.00', '276870001', \n",
    "                 '1259320001', '1197275006', '94295001', '371987000', '369521009', '369514009', '369520005', '369513003', \n",
    "                 '363444001', '369554006', '69548005', '369517002', '369544007', '124361000119101', '183.3', 'C57.10', \n",
    "                 '449259009', '94226006', '93728003', '369536007', '369535006', '183.4', 'C57.3', '448674007', '183.5', \n",
    "                 'C57.20', '94525009', '93994001', '188204000', '183.8', 'C57.4', '428322007', '428944005', '94664002', \n",
    "                 '94126000', '723173003', '1259487000', '183.9', '233.1', 'D06.9', '92564006','Z85.41', 'V10.41', '180.0', \n",
    "                 'C53.0', '180.1', 'C53.1', '180.8', 'C53.8', '180.9', 'C53.9', '372097009', '93779009', '94279001', '372098004',\n",
    "                 '1259514003', '372097009', '208041000119100', '93779009', '180.1', 'C53.1', '372100004', '372100004', '1259516001', \n",
    "                 '372099007', '93789008', '94290006', '180.8', 'C53.8', '188184006', '180.9', 'C53.9', '363354003', '188469005', \n",
    "                 '1259493008', '423973006', '109880006', '372024009', '188180002', '764951002', '1259433006', '285432005', 'V10.41',\n",
    "                 'Z85.41', '429484003', '1197268005', '254888007', '1259387001', '766930002', '722683006', '1197263001', '773775004', \n",
    "                 '233.39', '233.3', 'D07.39', 'D07.30', '233.30', '92594000', '233.32', 'D07.1', '92802003', '233.31', 'D07.2', '92791005',\n",
    "                 '181.', 'C58.', '236.1', '721567004', '94492000', 'V10.40', 'V10.44', 'Z85.40', 'Z85.44', '184.8', 'C57.7', 'C57.8', '184.9', \n",
    "                 'C57.9', '109878000', '415079009', '363514001', '184.1', 'C51.0', '363446004', '94361003', '93850006', '184.2', 'C51.1', \n",
    "                 '363447008', '94362005', '93851005', '184.3', 'C51.2', '371979001', '371980003', '94257006', '184.4', 'C51', '109885001', \n",
    "                 '94681006', '429635001', '94143002', '71111000119109', '447882007', '1144945000', '717731002', '1259681009', '254895003', \n",
    "                 '402912009', '254897006', 'C51.9', '184.0', 'C52', '94668004', '372025005', '427844008', '71101000119106', '770686005', \n",
    "                 '363445000', '721563000', '254893005', '105121000119102', '722678003']\n",
    "                  \n",
    "Breast_Cancers=['233.0', 'D05', '92593006', '174', 'C50', '372064008', '254837009', '372137005', '145501000119108',\n",
    "'188157005', '254837009', '94544002', '12241031000119108', '94297009', '12241071000119106', '93796005', '94176003',\n",
    "'372093008', '94443006', '254838004', '763479005', '721595004', '1259422008', '286894008', '1259590008', '1259322009',\n",
    "'448952004', 'V10.3', 'Z85.3', '429087003', '48901000119103', '473062003', '408643008', '278054005', '708921005', \n",
    "'703578005', '286897001', '1259442004', '1259383002', '254840009', '703577000', '713609000', '444712000', '254839007'] \n"
   ]
  },
  {
   "cell_type": "markdown",
   "id": "3d18e988",
   "metadata": {},
   "source": [
    "### Other Covariates"
   ]
  },
  {
   "cell_type": "markdown",
   "id": "42dc0961",
   "metadata": {},
   "source": [
    "#### CUA related"
   ]
  },
  {
   "cell_type": "code",
   "execution_count": null,
   "id": "a2cb81f5",
   "metadata": {},
   "outputs": [],
   "source": [
    "#Endometriosis\n",
    "Endometriosis=['N80.9', '617.9', 'N80.0', '617.0', 'N80.1', '617.1', 'N80.2', '617.2', 'N80.3', '617.3',  'N80.4', '617.4', 'N80.5', '617.5',\n",
    "    '103678008', '396224008', '129103003', '233651009', '717700009', '26681001', '35543003', '76376003', '198247003', '266589005', '57493005', '5562006', \n",
    "    '17829005', '50993001', '8421002', '237115002', '9563009', '38780008', '61640006', '397318008', '44601009', '724457006', '84305006', '65099004', '29200001000004100',\n",
    "    '396223002', '314049009', '5327000', '724456002', '15932101000119100', '52533003', '237117005', '198251001', '15932061000119100', '717698000', '10535001', '717699008',\n",
    "    '12265461000119100', '64286001', '22611009', '15933541000119100', '416155004', '15965741000119100', '15965701000119100', '724454004', '724454004', '724454004', \n",
    "    '15965781000119100', '713174005', '715806006', '1144969001', '1144938000', '1144982009', '109861009']"
   ]
  },
  {
   "cell_type": "code",
   "execution_count": null,
   "id": "c5d33edd",
   "metadata": {},
   "outputs": [],
   "source": [
    "#Infertility\n",
    "Infertility=['N97', 'N97.0', 'N97.1', 'N97.2', 'N97.8', 'N97.9', '628.2', '628.3', '628.8', '628.4', '628.9'\n",
    "    '763016003', '712584009', '237145004', '6738008', '26899006', '198456009', '198452006', '39446004', '763017007', '227561004']\n"
   ]
  },
  {
   "cell_type": "code",
   "execution_count": null,
   "id": "18f7527f",
   "metadata": {},
   "outputs": [],
   "source": [
    "#Renal Anomalies\n",
    "Renal_Anomalies=[\"753.0\", \"753.15\", \"753.2\", \"753.20\",  \"753.22\", \"753.29\", \"753.3\",  \"753.4\", \"753.40\", \n",
    "    \"Q60\", \"Q60.3\", \"Q60.4\", \"Q60.5\", \"Q61.4\", \"Q62.10\", \"Q62.2\", \"Q62.39\", \"Q62.5\", \"Q62.8\", \"Q62.7\", \"Q62.63\", \n",
    "    \"Q63\", \"Q63.1\", \"Q63.2\", \"Q62.4\", \"Q62.1\", \"Q63.8\",\"204942005\", \"762908000\", \"762907005\", \"204938007\", \"32659003\", \n",
    "    \"268232000\", \"361147005\", \"762914007\", \"762913001\", \"93290000\", \"204949001\", \"717744007\", \"717742006\", \"204950001\", \n",
    "    \"54967001\", \"253873007\", \"253874001\", \"41729002\", \"373584008\", \"49496001\", \"429191000124106\", \"197811007\", \"44796002\", \n",
    "    \"55536001\", \"55856005\", \"271387005\", \"44513007\", \"48061001\", \"361264003\", \"32659003\", \"92921005\", \"13530005\", \"16507009\"]"
   ]
  },
  {
   "cell_type": "code",
   "execution_count": null,
   "id": "34c0d3f4",
   "metadata": {},
   "outputs": [],
   "source": [
    "#Dysmennorrhea  (primary or secondary)\n",
    "\n",
    "Dysmen=['625.0', 'N94.4', '625.3', 'N94.5']"
   ]
  },
  {
   "cell_type": "code",
   "execution_count": null,
   "id": "0eb1189b",
   "metadata": {},
   "outputs": [],
   "source": [
    "#Irregular Periods- absence, excessive or other\n",
    "\n",
    "Irregular=['626.0', '626.2', '626.8', '626.9', 'N91.0', 'N91.1', 'N91.2'\n",
    "          'N92.0', 'N92.1', 'N92.6', 'N93.9', 'N92' ]  "
   ]
  },
  {
   "cell_type": "code",
   "execution_count": null,
   "id": "5022c10d",
   "metadata": {},
   "outputs": [],
   "source": [
    "#Spinal/ vertebral anomalies (includes fused vertebral column)\n",
    "\n",
    "spinal=['756.1', 'Q76', 'Q76.0', 'Q76.1 ', 'Q76.2', 'Q76.3', '756.19', 'Q76.4', \n",
    "        'Q76.5', 'Q76.6', 'Q76.8', 'Q76.9'  ]"
   ]
  },
  {
   "cell_type": "code",
   "execution_count": null,
   "id": "ba107c0a",
   "metadata": {},
   "outputs": [],
   "source": [
    "#scoliosis (including idiopathic and khyposcoliosis)\n",
    "##M41 encompasses all\n",
    "\n",
    "scoliosis=['737.30', '737.81', '737.82', '737.83', 'M41']"
   ]
  },
  {
   "cell_type": "code",
   "execution_count": null,
   "id": "ec8c1402",
   "metadata": {},
   "outputs": [],
   "source": [
    "#Segmental loss of fallopian tubes= unspecified or \n",
    "#other anomaly of FT and broad ligaments\n",
    "\n",
    "FT_loss=['752.10', '752.19', 'Q50.6']"
   ]
  },
  {
   "cell_type": "code",
   "execution_count": null,
   "id": "be5ad98e",
   "metadata": {},
   "outputs": [],
   "source": [
    "#NS hearing loss  = sensorineural hearing loss\n",
    "\n",
    "hearing_loss=['389.1', 'H90.3', 'H90.5' ]"
   ]
  },
  {
   "cell_type": "code",
   "execution_count": null,
   "id": "82f3d963",
   "metadata": {},
   "outputs": [],
   "source": [
    "#Cloacal Dysplasia & Ectopia vesicae\n",
    "\n",
    "cloac_dys=['Q64.1', 'Q64.0']"
   ]
  },
  {
   "cell_type": "code",
   "execution_count": null,
   "id": "52c7646b",
   "metadata": {},
   "outputs": [],
   "source": [
    "#Miscarriage (spontaneous abortion, all codes- complications or not)\n",
    "\n",
    "Miscarriage=['634', 'O03', 'N96', '629.81' ]"
   ]
  },
  {
   "cell_type": "code",
   "execution_count": null,
   "id": "758e7ad6",
   "metadata": {},
   "outputs": [],
   "source": [
    "#Early onset menstruation/ precoscious puberty\n",
    "\n",
    "EOM= ['259.1', 'E30.1']"
   ]
  },
  {
   "cell_type": "code",
   "execution_count": null,
   "id": "f777c417",
   "metadata": {},
   "outputs": [],
   "source": [
    "#(Trapped?)Blood in Repro system= hematometra, hematocolpos, hematosalpinx\n",
    "\n",
    "Hemato=['N85.7', '621.4', 'N89.7', 'N83.6', '626.8', 'N93.9', 'N93.8']"
   ]
  },
  {
   "cell_type": "code",
   "execution_count": null,
   "id": "1052649c",
   "metadata": {},
   "outputs": [],
   "source": [
    "#preterm labor with/without delivery birth  (with/ without infant death)\n",
    "preterm=['644.2', '644.0', 'O60']"
   ]
  },
  {
   "cell_type": "code",
   "execution_count": null,
   "id": "196a6654",
   "metadata": {},
   "outputs": [],
   "source": [
    "#Malpresentation & malposition or restricted growth\n",
    "malpresent=['O32', 'O64', '763.0', '763.1', '652']"
   ]
  },
  {
   "cell_type": "code",
   "execution_count": null,
   "id": "d2ff3cfd",
   "metadata": {},
   "outputs": [],
   "source": [
    "#Poor fetal growth/ resticted\n",
    "poor_growth=['656.5', 'O36.59']"
   ]
  },
  {
   "cell_type": "code",
   "execution_count": null,
   "id": "e5fce913",
   "metadata": {},
   "outputs": [],
   "source": [
    "#Placental Retention with and without hemmorhage\n",
    "\n",
    "placenta_reten=['667', '641' 'O73', 'O44.1', 'O44.3', 'O44.5']"
   ]
  },
  {
   "cell_type": "code",
   "execution_count": null,
   "id": "e63100ee",
   "metadata": {},
   "outputs": [],
   "source": [
    "#Maternal Care & Complications of Labor & Delivery\n",
    "##O60  Preterm labor,O61  Failed induction of labor,O62  Abnormalities of forces of labor (661),O63  Long labor (662,\n",
    "##O64  Obstructed labor due to malposition and malpresentation of fetus,O65  Obstructed labor due to maternal pelvic abnormality,\n",
    "##O66  Other obstructed labor,O67  Labor and delivery complicated by intrapartum hemorrhage, not elsewhere classified,\n",
    "###O69  Labor and delivery complicated by umbilical cord complications (663), O71  Other obstetric trauma (665),\n",
    "###O72  Postpartum hemorrhage (666),O73  Retained placenta and membranes, without hemorrhage,\n",
    "###O75  Other complications of labor and delivery, not elsewhere classified (669),\n",
    "###032- malpresentation of fetus, O34- Maternal care for abnormality of pelvic organs, \n",
    "###O42- PPROM; O45- Premamture separation of placenta; O46- antepartum hemmorage; O20- hemmoraghe in early pregnancy\n",
    "##O36.59- poor fetal growth; O44.1,3,5 Placental Retention with and without hemmorhage\n",
    "##Obstructed- 660.0,660.1, 660.2, 660.3, 660.5, 660.6, 660.7, 660.8, 660.9\n",
    "\n",
    "MCCLD=['O60', 'O61', 'O62', 'O63', 'O64', 'O65', 'O66', 'O67', 'O69', 'O71', 'O72', 'O73', 'O75',\n",
    "     'O32', 'O34', 'O42', 'O46', 'O20', '644', '640', '641', '652', '654.0', '654.2', '654.3','654.4', \n",
    "       '654.5', '654.6', '654.7', '654.8', '654.9', '656.5' '669.9', 'O36.59', '667', '641' 'O73', 'O44.1', \n",
    "       'O44.3', 'O44.5', '658.1', '661', '660.0', '660.1', '660.2', '660.3', '660.5', '660.6', '660.7',\n",
    "      '660.8', '660.9','662', '663', '666', '665', '669' ]\n"
   ]
  },
  {
   "cell_type": "code",
   "execution_count": null,
   "id": "554a07ea",
   "metadata": {},
   "outputs": [],
   "source": [
    "##High Risk Pregnancy\n",
    "\n",
    "HRP= ['O09', 'V23.9']"
   ]
  },
  {
   "cell_type": "code",
   "execution_count": null,
   "id": "d7ae4745",
   "metadata": {},
   "outputs": [],
   "source": [
    "#Preterm premature rupture of membrane- included in MCCLD\n",
    "PPROM=['O42.01', 'O42.11', 'O42.91', '658.1']"
   ]
  },
  {
   "cell_type": "code",
   "execution_count": null,
   "id": "4b08db58",
   "metadata": {},
   "outputs": [],
   "source": [
    "#OCLD= Other complications of labor and delivery\n",
    "OCLD=['O75', '669.9']"
   ]
  },
  {
   "cell_type": "code",
   "execution_count": null,
   "id": "31eb8dde",
   "metadata": {},
   "outputs": [],
   "source": [
    "#C section, general/ any evidence-- Need to pull from both condition and procedure table\n",
    "csect=['O82', 'O34.21', 'O75.82', '59510' '59514', '59618', '654.23', '161805006', '712655005',\n",
    "      '725951006', '654.21', '712653003', '736018001', '17744000', '59525', '200151008',\n",
    "      '236985002', '736026009', '654.20', '200144004', '398307005', '736118004', '649.82',\n",
    "       '725949007', '712654009', '59620', '177141003', '200149009', '302254004', '64756007',\n",
    "       '200150009', '57271003', '709004006', '736020003', '74.99', '302253005', '788180009',\n",
    "       '74.1', '74.2', '84195007', '59622', '177143000', '649.81', '236986001', 'O75.82',\n",
    "       '199331008', '10D00Z0', '10D00Z1', '10D00Z2']"
   ]
  },
  {
   "cell_type": "code",
   "execution_count": null,
   "id": "920f961e",
   "metadata": {},
   "outputs": [],
   "source": [
    "## Classical C section (Procedure code); \"elective upper segment cesarean;\n",
    "\n",
    "ccsect=['74.0', '10D00Z0', '84195007', '736018001', '736020003', '236986001' ]"
   ]
  },
  {
   "cell_type": "code",
   "execution_count": null,
   "id": "3230d932",
   "metadata": {},
   "outputs": [],
   "source": [
    "## Low c section- includes emergency and elective\n",
    "\n",
    "lcsect=['74.1', '10D00Z1', '236985002', '736026009', '398307005', '736118004', '709004006',\n",
    "       '788180009', '177143000']"
   ]
  },
  {
   "cell_type": "code",
   "execution_count": null,
   "id": "cbe3294f",
   "metadata": {},
   "outputs": [],
   "source": [
    "## Extraperitoneal c-section\n",
    "epcsect=['74.2', '10D00Z2', '57271003']"
   ]
  },
  {
   "cell_type": "code",
   "execution_count": null,
   "id": "83cd145c",
   "metadata": {},
   "outputs": [],
   "source": []
  },
  {
   "cell_type": "markdown",
   "id": "dcc78403",
   "metadata": {},
   "source": [
    "### Cancer risk factors/ lifestyle"
   ]
  },
  {
   "cell_type": "code",
   "execution_count": null,
   "id": "f7afa56c",
   "metadata": {},
   "outputs": [],
   "source": [
    "#HPV\n",
    "HPV=['R87.81', 'R87.82', 'R87.820', 'R87.821', '240532009', '35904009', '35904009', \n",
    "    '721587003', '787723002', '718591004', '871634008', '721266009', '720005005', '25361000087102', '302812006',\n",
    "    '766839002', '24461000087106', '766848007', '24471000087102', '441667007', '766842008', '766842008',\n",
    "    '766827005', '24431000087104', '126251000119100', '126241000119102', '24451000087108', '24441000087105']"
   ]
  },
  {
   "cell_type": "code",
   "execution_count": null,
   "id": "7a255693",
   "metadata": {},
   "outputs": [],
   "source": [
    "#HIV\n",
    "HIV=['042', 'B20']"
   ]
  },
  {
   "cell_type": "code",
   "execution_count": null,
   "id": "fe832e43",
   "metadata": {},
   "outputs": [],
   "source": [
    "#Other STIs = Gonorrhea, syphyllis, herpes, other, Chlamydia\n",
    "\n",
    "STI=['098', 'A54', '097', '091', '095', 'A50', 'A51', 'A52', \n",
    "     'A53', '054.1', 'A60', 'A63', '099.8', 'A56', 'A55', '099.5']  "
   ]
  },
  {
   "cell_type": "code",
   "execution_count": null,
   "id": "532661f6",
   "metadata": {},
   "outputs": [],
   "source": [
    "#Smoking and history of tobacco use\n",
    "Smoker=['305.1', 'F17', 'Z87.891', 'Z72.0', 'V69.8', 'V15.82']"
   ]
  },
  {
   "cell_type": "code",
   "execution_count": null,
   "id": "bc482c16",
   "metadata": {},
   "outputs": [],
   "source": [
    "#Substance Abuse, other= opiod, sedatives, cannabis, amphetamines, cocaine, hallucinogens\n",
    "Substance_Abuse= ['304', '304.0', '304.3', '304.5', '304.7', '305.2', '305.4', '305.7',\n",
    "                  'F11', 'F13', 'F12', 'F15', 'F14', 'F16']"
   ]
  },
  {
   "cell_type": "code",
   "execution_count": null,
   "id": "15b67bae",
   "metadata": {},
   "outputs": [],
   "source": [
    "#Alcohol Dependence/ Abuse (not mental illness related)\n",
    "Alcohol=['303', '305.00', '305.01', 'F10.1', 'F10.2']"
   ]
  },
  {
   "cell_type": "code",
   "execution_count": null,
   "id": "5c1359bc",
   "metadata": {},
   "outputs": [],
   "source": [
    "#Diabetes Type 2\n",
    "\n",
    "Db2=['250.00', '250.02', '250.10', '250.20', '250.22', '250.30'\n",
    "                '250.12', '250.32', '250.40', '250.42', '250.50', '250.52',\n",
    "                '250.60', '250.62', '250.70', '250.72', '250.80', '250.82',\n",
    "                '250.90', '250.92', 'E11']"
   ]
  },
  {
   "cell_type": "code",
   "execution_count": null,
   "id": "3ec1eecd",
   "metadata": {},
   "outputs": [],
   "source": [
    "#Hypertensive diseases; Ischemic Heart Diseases; Pulmonary circ diseases; \n",
    "#other forms of heart disease\n",
    "\n",
    "CVD=['401', '402', '403', '404', '405', '410', '411', '412', '413', '414', \n",
    "     '415', '416', '417', '420', '421', '422', '423', '424', '425',\n",
    "     '426', '427', '428', '429', 'I10', 'I11', 'I12', 'I13', 'I15', 'I16',\n",
    "     'I1A', 'I20', 'I21', 'I22', 'I23', 'I24', 'I25', 'I26', 'I27', 'I28',\n",
    "     'I30', 'I31', 'I32', 'I33', 'I34', 'I35', 'I36', 'I37', 'I38', 'I39', \n",
    "     'I40', 'I41', 'I42', 'I43', 'I44', 'I45', 'I46', 'I47', 'I48', 'I49', \n",
    "     'I50', 'I51', 'I52']"
   ]
  },
  {
   "cell_type": "code",
   "execution_count": null,
   "id": "ed1d716d",
   "metadata": {},
   "outputs": [],
   "source": [
    "#Obesity\n",
    "Obesity=['278.00', '278.01', 'E66.9', 'E66.01', 'E66.09', 'E66.1', 'E66.2']"
   ]
  },
  {
   "cell_type": "code",
   "execution_count": null,
   "id": "e925c7f8",
   "metadata": {},
   "outputs": [],
   "source": [
    "#Family history of Gyn cancer- ovary, uterus, cervix, & ovary\n",
    "Family_History_Gyn=['V16.4', 'Z80.4']"
   ]
  },
  {
   "cell_type": "code",
   "execution_count": null,
   "id": "2a671fc4",
   "metadata": {},
   "outputs": [],
   "source": [
    "#Family history of cancer- any/other\n",
    "FHC=['Z80', 'V16' ]"
   ]
  },
  {
   "cell_type": "code",
   "execution_count": null,
   "id": "198695a4",
   "metadata": {},
   "outputs": [],
   "source": [
    "#Menopause- based on  female climacteric states or asymptomatic\n",
    "Menopause=['N951.1', 'Z78.0,' '627.2', 'V49.81']"
   ]
  },
  {
   "cell_type": "code",
   "execution_count": null,
   "id": "001b5436",
   "metadata": {},
   "outputs": [],
   "source": [
    "##Pregnancy : Pregnant state or Z3A= weeks of gestation and can be further classified\n",
    "\n",
    "Pregnancy=['Z33', 'Z3A', '765.2', 'V22', 'O82', 'O80', '650']"
   ]
  },
  {
   "cell_type": "code",
   "execution_count": null,
   "id": "a723da32",
   "metadata": {},
   "outputs": [],
   "source": [
    "#Ectopic or Abdominal\n",
    "\n",
    "Ectopic=['633.0', '633.9', 'O00']"
   ]
  },
  {
   "cell_type": "code",
   "execution_count": null,
   "id": "d30eb897",
   "metadata": {},
   "outputs": [],
   "source": [
    "#Lynch Syndrome= coded as Genetic susceptibility to malignant neoplasm \n",
    "#of other organs  (typically colorectal and endometrial)\n",
    "\n",
    "lynch=['V84.09', 'Z15.09']"
   ]
  },
  {
   "cell_type": "code",
   "execution_count": null,
   "id": "4aaafe97",
   "metadata": {},
   "outputs": [],
   "source": [
    "#PCOS\n",
    "\n",
    "PCOS=['256.4', 'E28.2']"
   ]
  },
  {
   "cell_type": "code",
   "execution_count": null,
   "id": "5353580d",
   "metadata": {},
   "outputs": [],
   "source": []
  },
  {
   "cell_type": "markdown",
   "id": "cd892488",
   "metadata": {},
   "source": [
    "## Call in Condition/ Procedure Tables from Stored DB"
   ]
  },
  {
   "cell_type": "code",
   "execution_count": null,
   "id": "c15d2241",
   "metadata": {},
   "outputs": [],
   "source": [
    "spark.sql(\"use non_CUA_db\")"
   ]
  },
  {
   "cell_type": "code",
   "execution_count": null,
   "id": "a9c1a4b7",
   "metadata": {},
   "outputs": [],
   "source": [
    "## Skeleton To build from\n",
    "\n",
    "pid= spark.sql(\"\"\"\n",
    "    SELECT *\n",
    "    FROM personid_table\n",
    "\"\"\")\n",
    "pid"
   ]
  },
  {
   "cell_type": "code",
   "execution_count": null,
   "id": "18ea808e",
   "metadata": {},
   "outputs": [],
   "source": [
    "pid.count()"
   ]
  },
  {
   "cell_type": "code",
   "execution_count": null,
   "id": "d9d8fc1b",
   "metadata": {},
   "outputs": [],
   "source": [
    "## Condition code Table (used for all)\n",
    "\n",
    "non_con= spark.sql(\"\"\"\n",
    "    SELECT personid, standardid AS stdid, display\n",
    "    FROM dem_con_left\n",
    "\"\"\")\n",
    "non_con"
   ]
  },
  {
   "cell_type": "code",
   "execution_count": null,
   "id": "ff519c38",
   "metadata": {},
   "outputs": [],
   "source": [
    "non_concat.limit(5).toPandas()"
   ]
  },
  {
   "cell_type": "code",
   "execution_count": null,
   "id": "0e40b7bd",
   "metadata": {},
   "outputs": [],
   "source": [
    "non_concat.select('personid').distinct().count()"
   ]
  },
  {
   "cell_type": "code",
   "execution_count": null,
   "id": "cf4208c9",
   "metadata": {},
   "outputs": [],
   "source": [
    "## Procedure Table (only used for procedures- C sections)\n",
    "non_pro= spark.sql(\"\"\"\n",
    "    SELECT personid, procedure_code,procedure_display\n",
    "    FROM procedure_table\n",
    "\"\"\")\n",
    "non_pro"
   ]
  },
  {
   "cell_type": "code",
   "execution_count": null,
   "id": "f3f4d6cb",
   "metadata": {},
   "outputs": [],
   "source": []
  },
  {
   "cell_type": "markdown",
   "id": "2987b3a3",
   "metadata": {},
   "source": [
    "## Initial binary pulls"
   ]
  },
  {
   "cell_type": "code",
   "execution_count": null,
   "id": "87b8d931",
   "metadata": {},
   "outputs": [],
   "source": [
    "CUA_ANY = CUA_con.withColumn(\n",
    "    \"CUA_ANY\",\n",
    "    when(col(\"stdid\").isin(CUA_ANY), 1).otherwise(0))\n",
    "\n",
    "condition_column = 'CUA_ANY'\n",
    "\n",
    "# Count the number of patients with the condition (where the column value is 1)\n",
    "\n",
    "filtered_CUA = CUA_ANY.filter(col(condition_column) == 1)\n",
    "\n",
    "filtered_CUA\n",
    "\n",
    "distinct_CUA=filtered_CUA.dropDuplicates(['personid'])\n",
    "\n",
    "print(distinct_CUA.count())\n",
    "\n",
    "clean_CUA=distinct_CUA.drop('stdid', 'display')"
   ]
  },
  {
   "cell_type": "code",
   "execution_count": null,
   "id": "60f53bd6",
   "metadata": {},
   "outputs": [],
   "source": [
    "clean_CUA.limit(5).toPandas("
   ]
  },
  {
   "cell_type": "code",
   "execution_count": null,
   "id": "54c81fa7",
   "metadata": {},
   "outputs": [],
   "source": [
    "non_endo = non_con.withColumn(\n",
    "    \"endo\",\n",
    "    when(col(\"stdid\").isin(Endometriosis), 1).otherwise(0))\n",
    "\n",
    "condition_column = 'endo'\n",
    "\n",
    "\n",
    "# Count the number of patients with the condition (where the column value is 1)\n",
    "\n",
    "filtered_endo = non_endo.filter(col(condition_column) == 1)\n",
    "\n",
    "filtered_endo\n",
    "\n",
    "distinct_endo=filtered_endo.dropDuplicates(['personid'])\n",
    "\n",
    "print(distinct_endo.count())\n",
    "\n",
    "clean_endo=distinct_endo.drop('stdid', 'display')"
   ]
  },
  {
   "cell_type": "code",
   "execution_count": null,
   "id": "1bfd9526",
   "metadata": {},
   "outputs": [],
   "source": [
    "non_infertility = non_con.withColumn(\n",
    "    \"infertility\",\n",
    "    when(col(\"stdid\").isin(Infertility), 1).otherwise(0))\n",
    "\n",
    "# Count the number of patients with the condition (where the column value is 1)\n",
    "\n",
    "filtered_infertility = non_infertility.filter(col(condition_column) == 1)\n",
    "\n",
    "filtered_infertility\n",
    "\n",
    "distinct_infertility=filtered_infertility.dropDuplicates(['personid'])\n",
    "\n",
    "print(distinct_infertility.count())\n",
    "\n",
    "clean_infertility=distinct_infertility.drop('stdid', 'display')"
   ]
  },
  {
   "cell_type": "code",
   "execution_count": null,
   "id": "52c24aa8",
   "metadata": {},
   "outputs": [],
   "source": [
    "non_RA = non_con.withColumn(\n",
    "    \"RA\",\n",
    "    when(col(\"stdid\").isin(Renal_Anomalies), 1).otherwise(0))\n",
    "\n",
    "condition_column = 'RA'\n",
    "\n",
    "# Count the number of patients with the condition (where the column value is 1)\n",
    "\n",
    "filtered_RA = non_RA.filter(col(condition_column) == 1)\n",
    "\n",
    "filtered_RA\n",
    "\n",
    "distinct_RA=filtered_RA.dropDuplicates(['personid'])\n",
    "\n",
    "print(distinct_RA.count())\n",
    "\n",
    "clean_RA=distinct_RA.drop('stdid', 'display')"
   ]
  },
  {
   "cell_type": "code",
   "execution_count": null,
   "id": "fc2e2d3d",
   "metadata": {},
   "outputs": [],
   "source": [
    "non_Dys = non_con.withColumn(\n",
    "    \"Dysmen\",\n",
    "    when(col(\"stdid\").isin(Dysmen), 1).otherwise(0))\n",
    "\n",
    "# Count the number of patients with the condition (where the column value is 1)\n",
    "\n",
    "filtered_Dys = non_Dys.filter(col(condition_column) == 1)\n",
    "\n",
    "filtered_Dys\n",
    "\n",
    "distinct_Dys=filtered_Dys.dropDuplicates(['personid'])\n",
    "\n",
    "print(distinct_Dys.count())\n",
    "\n",
    "clean_Dys=distinct_Dys.drop('stdid', 'display')"
   ]
  },
  {
   "cell_type": "code",
   "execution_count": null,
   "id": "d797329b",
   "metadata": {},
   "outputs": [],
   "source": [
    "non_Irreg = non_con.withColumn(\n",
    "    \"Irregular\",\n",
    "    when(col(\"stdid\").isin(Irregular), 1).otherwise(0))\n",
    "\n",
    "condition_column = 'Irregular'\n",
    "\n",
    "# Count the number of patients with the condition (where the column value is 1)\n",
    "\n",
    "filtered_Irreg = non_Irreg.filter(col(condition_column) == 1)\n",
    "\n",
    "filtered_Irreg\n",
    "\n",
    "distinct_Irreg=filtered_Irreg.dropDuplicates(['personid'])\n",
    "\n",
    "print(distinct_Irreg.count())\n",
    "\n",
    "clean_Irreg=distinct_Irreg.drop('stdid', 'display')"
   ]
  },
  {
   "cell_type": "code",
   "execution_count": null,
   "id": "cb761b71",
   "metadata": {},
   "outputs": [],
   "source": [
    "non_spinal = non_con.withColumn(\n",
    "    \"spinal\",\n",
    "    when(col(\"stdid\").isin(spinal), 1).otherwise(0))\n",
    "\n",
    "condition_column = 'spinal'\n",
    "\n",
    "# Count the number of patients with the condition (where the column value is 1)\n",
    "\n",
    "filtered_spinal = non_spinal.filter(col(condition_column) == 1)\n",
    "\n",
    "filtered_spinal\n",
    "\n",
    "distinct_spinal=filtered_spinal.dropDuplicates(['personid'])\n",
    "\n",
    "print(distinct_spinal.count())\n",
    "\n",
    "clean_spinal=distinct_spinal.drop('stdid', 'display')"
   ]
  },
  {
   "cell_type": "code",
   "execution_count": null,
   "id": "758f5c8f",
   "metadata": {},
   "outputs": [],
   "source": [
    "non_scoliosis = non_con.withColumn(\n",
    "    \"scoliosis\",\n",
    "    when(col(\"stdid\").isin(scoliosis), 1).otherwise(0))\n",
    "\n",
    "condition_column = 'scoliosis'\n",
    "\n",
    "# Count the number of patients with the condition (where the column value is 1)\n",
    "\n",
    "filtered_scoliosis = non_scoliosis.filter(col(condition_column) == 1)\n",
    "\n",
    "filtered_scoliosis\n",
    "\n",
    "distinct_scoliosis=filtered_scoliosis.dropDuplicates(['personid'])\n",
    "\n",
    "print(distinct_scoliosis.count())\n",
    "\n",
    "clean_scoliosis=distinct_scoliosis.drop('stdid', 'display')"
   ]
  },
  {
   "cell_type": "code",
   "execution_count": null,
   "id": "0ccefad5",
   "metadata": {},
   "outputs": [],
   "source": [
    "non_FT = non_con.withColumn(\n",
    "    \"FT_loss\",\n",
    "    when(col(\"stdid\").isin(FT_loss), 1).otherwise(0))\n",
    "\n",
    "condition_column = 'FT_loss'\n",
    "\n",
    "# Count the number of patients with the condition (where the column value is 1)\n",
    "\n",
    "filtered_FT = non_FT.filter(col(condition_column) == 1)\n",
    "\n",
    "filtered_FT\n",
    "\n",
    "distinct_FT=filtered_FT.dropDuplicates(['personid'])\n",
    "\n",
    "print(distinct_FT.count())\n",
    "\n",
    "clean_FT=distinct_FT.drop('stdid', 'display')"
   ]
  },
  {
   "cell_type": "code",
   "execution_count": null,
   "id": "5964c6ef",
   "metadata": {},
   "outputs": [],
   "source": [
    "non_hl = non_con.withColumn(\n",
    "    \"hearing_loss\",\n",
    "    when(col(\"stdid\").isin(hearing_loss), 1).otherwise(0))\n",
    "\n",
    "condition_column = 'hearing_loss'\n",
    "\n",
    "# Count the number of patients with the condition (where the column value is 1)\n",
    "\n",
    "filtered_hl = non_hl.filter(col(condition_column) == 1)\n",
    "\n",
    "filtered_hl\n",
    "\n",
    "distinct_hl=filtered_hl.dropDuplicates(['personid'])\n",
    "\n",
    "print(distinct_hl.count())\n",
    "\n",
    "clean_hl=distinct_hl.drop('stdid', 'display')"
   ]
  },
  {
   "cell_type": "code",
   "execution_count": null,
   "id": "bf946a3a",
   "metadata": {},
   "outputs": [],
   "source": [
    "non_cloacdys = non_con.withColumn(\n",
    "    \"cloac_dys\",\n",
    "    when(col(\"stdid\").isin(cloac_dys), 1).otherwise(0))\n",
    "\n",
    "condition_column = 'cloac_dys'\n",
    "\n",
    "# Count the number of patients with the condition (where the column value is 1)\n",
    "\n",
    "filtered_cloacdys = non_cloacdys.filter(col(condition_column) == 1)\n",
    "\n",
    "filtered_cloacdys\n",
    "\n",
    "distinct_cloacdys=filtered_cloacdys.dropDuplicates(['personid'])\n",
    "\n",
    "print(distinct_cloacdys.count())\n",
    "\n",
    "clean_cloacdys=distinct_cloacdys.drop('stdid', 'display')"
   ]
  },
  {
   "cell_type": "code",
   "execution_count": null,
   "id": "42c4df51",
   "metadata": {},
   "outputs": [],
   "source": [
    "non_mc = non_con.withColumn(\n",
    "    \"mc\",\n",
    "    when(col(\"stdid\").isin(Miscarriage), 1).otherwise(0))\n",
    "\n",
    "condition_column = 'mc'\n",
    "\n",
    "# Count the number of patients with the condition (where the column value is 1)\n",
    "\n",
    "filtered_mc = non_mc.filter(col(condition_column) == 1)\n",
    "\n",
    "filtered_mc\n",
    "\n",
    "distinct_mc=filtered_mc.dropDuplicates(['personid'])\n",
    "\n",
    "print(distinct_mc.count())\n",
    "\n",
    "clean_mc=distinct_mc.drop('stdid', 'display')"
   ]
  },
  {
   "cell_type": "code",
   "execution_count": null,
   "id": "36d0d99f",
   "metadata": {},
   "outputs": [],
   "source": [
    "non_eom = non_con.withColumn(\n",
    "    \"EOM\",\n",
    "    when(col(\"stdid\").isin(EOM), 1).otherwise(0))\n",
    "\n",
    "condition_column = 'EOM'\n",
    "\n",
    "# Count the number of patients with the condition (where the column value is 1)\n",
    "\n",
    "filtered_eom = non_eom.filter(col(condition_column) == 1)\n",
    "\n",
    "filtered_eom\n",
    "\n",
    "distinct_eom=filtered_eom.dropDuplicates(['personid'])\n",
    "\n",
    "print(distinct_eom.count())\n",
    "\n",
    "clean_eom=distinct_eom.drop('stdid', 'display')"
   ]
  },
  {
   "cell_type": "code",
   "execution_count": null,
   "id": "9afc7480",
   "metadata": {},
   "outputs": [],
   "source": [
    "non_hemato = non_con.withColumn(\n",
    "    \"hemato\",\n",
    "    when(col(\"stdid\").isin(Hemato), 1).otherwise(0))\n",
    "\n",
    "condition_column = 'hemato'\n",
    "\n",
    "# Count the number of patients with the condition (where the column value is 1)\n",
    "\n",
    "filtered_hemato = non_hemato.filter(col(condition_column) == 1)\n",
    "\n",
    "filtered_hemato\n",
    "\n",
    "distinct_hemato=filtered_hemato.dropDuplicates(['personid'])\n",
    "\n",
    "print(distinct_hemato.count())\n",
    "\n",
    "clean_hemato=distinct_hemato.drop('stdid', 'display')"
   ]
  },
  {
   "cell_type": "code",
   "execution_count": null,
   "id": "8290e01d",
   "metadata": {},
   "outputs": [],
   "source": [
    "non_preterm = non_con.withColumn(\n",
    "    \"preterm\",\n",
    "    when(col(\"stdid\").isin(preterm), 1).otherwise(0))\n",
    "\n",
    "condition_column = 'preterm'\n",
    "\n",
    "# Count the number of patients with the condition (where the column value is 1)\n",
    "\n",
    "filtered_preterm = non_preterm.filter(col(condition_column) == 1)\n",
    "\n",
    "filtered_preterm\n",
    "\n",
    "distinct_preterm=filtered_preterm.dropDuplicates(['personid'])\n",
    "\n",
    "print(distinct_preterm.count())\n",
    "\n",
    "clean_preterm=distinct_preterm.drop('stdid', 'display')"
   ]
  },
  {
   "cell_type": "code",
   "execution_count": null,
   "id": "c9ef2ac5",
   "metadata": {},
   "outputs": [],
   "source": [
    "non_mal = non_con.withColumn(\n",
    "    \"malpresent\",\n",
    "    when(col(\"stdid\").isin(malpresent), 1).otherwise(0))\n",
    "\n",
    "condition_column = 'malpresent'\n",
    "\n",
    "# Count the number of patients with the condition (where the column value is 1)\n",
    "\n",
    "filtered_mal = non_mal.filter(col(condition_column) == 1)\n",
    "\n",
    "filtered_mal\n",
    "\n",
    "distinct_mal=filtered_mal.dropDuplicates(['personid'])\n",
    "\n",
    "print(distinct_mal.count())\n",
    "\n",
    "clean_mal=distinct_mal.drop('stdid', 'display')"
   ]
  },
  {
   "cell_type": "code",
   "execution_count": null,
   "id": "7e2c7149",
   "metadata": {},
   "outputs": [],
   "source": [
    "non_pg = non_con.withColumn(\n",
    "    \"poor_growth\",\n",
    "    when(col(\"stdid\").isin(poor_growth), 1).otherwise(0))\n",
    "\n",
    "condition_column = 'poor_growth'\n",
    "\n",
    "# Count the number of patients with the condition (where the column value is 1)\n",
    "\n",
    "filtered_pg = non_pg.filter(col(condition_column) == 1)\n",
    "\n",
    "filtered_pg\n",
    "\n",
    "distinct_pg=filtered_pg.dropDuplicates(['personid'])\n",
    "\n",
    "print(distinct_pg.count())\n",
    "\n",
    "clean_pg=distinct_pg.drop('stdid', 'display')"
   ]
  },
  {
   "cell_type": "code",
   "execution_count": null,
   "id": "3d39a7d3",
   "metadata": {},
   "outputs": [],
   "source": [
    "non_pr = non_con.withColumn(\n",
    "    \"placenta_reten\",\n",
    "    when(col(\"stdid\").isin(placenta_reten), 1).otherwise(0))\n",
    "\n",
    "condition_column = 'placenta_reten'\n",
    "\n",
    "# Count the number of patients with the condition (where the column value is 1)\n",
    "\n",
    "filtered_pr = non_pr.filter(col(condition_column) == 1)\n",
    "\n",
    "filtered_pr\n",
    "\n",
    "distinct_pr=filtered_pr.dropDuplicates(['personid'])\n",
    "\n",
    "print(distinct_pr.count())\n",
    "\n",
    "clean_pr=distinct_pr.drop('stdid', 'display')"
   ]
  },
  {
   "cell_type": "code",
   "execution_count": null,
   "id": "66c8e203",
   "metadata": {},
   "outputs": [],
   "source": [
    "non_HPV = non_con.withColumn(\n",
    "    \"HPV\",\n",
    "    when(col(\"stdid\").isin(HPV), 1).otherwise(0))\n",
    "\n",
    "condition_column = 'HPV'\n",
    "\n",
    "# Count the number of patients with the condition (where the column value is 1)\n",
    "\n",
    "filtered_HPV = non_HPV.filter(col(condition_column) == 1)\n",
    "\n",
    "filtered_HPV\n",
    "\n",
    "distinct_HPV=filtered_HPV.dropDuplicates(['personid'])\n",
    "\n",
    "print(distinct_HPV.count())\n",
    "\n",
    "clean_HPV=distinct_HPV.drop('stdid', 'display')"
   ]
  },
  {
   "cell_type": "code",
   "execution_count": null,
   "id": "f2bd9bf6",
   "metadata": {},
   "outputs": [],
   "source": [
    "non_HIV = non_con.withColumn(\n",
    "    \"HIV\",\n",
    "    when(col(\"stdid\").isin(HIV), 1).otherwise(0))\n",
    "\n",
    "condition_column = 'HIV'\n",
    "\n",
    "# Count the number of patients with the condition (where the column value is 1)\n",
    "\n",
    "filtered_HIV = non_HIV.filter(col(condition_column) == 1)\n",
    "\n",
    "filtered_HIV\n",
    "\n",
    "distinct_HIV=filtered_HIV.dropDuplicates(['personid'])\n",
    "\n",
    "print(distinct_HIV.count())\n",
    "\n",
    "clean_HIV=distinct_HIV.drop('stdid', 'display')"
   ]
  },
  {
   "cell_type": "code",
   "execution_count": null,
   "id": "ead8d93f",
   "metadata": {},
   "outputs": [],
   "source": [
    "non_STI = non_con.withColumn(\n",
    "    \"STI\",\n",
    "    when(col(\"stdid\").isin(STI), 1).otherwise(0))\n",
    "\n",
    "condition_column = 'STI'\n",
    "\n",
    "# Count the number of patients with the condition (where the column value is 1)\n",
    "\n",
    "filtered_STI = non_STI.filter(col(condition_column) == 1)\n",
    "\n",
    "filtered_STI\n",
    "\n",
    "distinct_STI=filtered_STI.dropDuplicates(['personid'])\n",
    "\n",
    "print(distinct_STI.count())\n",
    "\n",
    "clean_STI=distinct_STI.drop('stdid', 'display')"
   ]
  },
  {
   "cell_type": "code",
   "execution_count": null,
   "id": "9e25822b",
   "metadata": {},
   "outputs": [],
   "source": [
    "non_Smoker = non_con.withColumn(\n",
    "    \"Smoker\",\n",
    "    when(col(\"stdid\").isin(Smoker), 1).otherwise(0))\n",
    "\n",
    "condition_column = 'Smoker'\n",
    "\n",
    "# Count the number of patients with the condition (where the column value is 1)\n",
    "\n",
    "filtered_Smoker = non_Smoker.filter(col(condition_column) == 1)\n",
    "\n",
    "filtered_Smoker\n",
    "\n",
    "distinct_Smoker=filtered_Smoker.dropDuplicates(['personid'])\n",
    "\n",
    "print(distinct_Smoker.count())\n",
    "\n",
    "clean_Smoker=distinct_Smoker.drop('stdid', 'display')"
   ]
  },
  {
   "cell_type": "code",
   "execution_count": null,
   "id": "0aefc560",
   "metadata": {},
   "outputs": [],
   "source": [
    "non_SA = non_con.withColumn(\n",
    "    \"SA\",\n",
    "    when(col(\"stdid\").isin(Substance_Abuse), 1).otherwise(0))\n",
    "\n",
    "condition_column = 'SA'\n",
    "\n",
    "# Count the number of patients with the condition (where the column value is 1)\n",
    "\n",
    "filtered_SA = non_SA.filter(col(condition_column) == 1)\n",
    "\n",
    "filtered_SA\n",
    "\n",
    "distinct_SA=filtered_SA.dropDuplicates(['personid'])\n",
    "\n",
    "print(distinct_SA.count())\n",
    "\n",
    "clean_SA=distinct_SA.drop('stdid', 'display')"
   ]
  },
  {
   "cell_type": "code",
   "execution_count": null,
   "id": "53210a2a",
   "metadata": {},
   "outputs": [],
   "source": [
    "non_AA = non_con.withColumn(\n",
    "    \"AA\",\n",
    "    when(col(\"stdid\").isin(Alcohol), 1).otherwise(0))\n",
    "\n",
    "condition_column = 'AA'\n",
    "\n",
    "# Count the number of patients with the condition (where the column value is 1)\n",
    "\n",
    "filtered_AA = non_AA.filter(col(condition_column) == 1)\n",
    "\n",
    "filtered_AA\n",
    "\n",
    "distinct_AA=filtered_AA.dropDuplicates(['personid'])\n",
    "\n",
    "print(distinct_AA.count())\n",
    "\n",
    "clean_AA=distinct_AA.drop('stdid', 'display')"
   ]
  },
  {
   "cell_type": "code",
   "execution_count": null,
   "id": "1e4e9b6c",
   "metadata": {},
   "outputs": [],
   "source": [
    "non_Db2 = non_con.withColumn(\n",
    "    \"Db2\",\n",
    "    when(col(\"stdid\").isin(Db2), 1).otherwise(0))\n",
    "\n",
    "condition_column = 'Db2'\n",
    "\n",
    "# Count the number of patients with the condition (where the column value is 1)\n",
    "\n",
    "filtered_Db2 = non_Db2.filter(col(condition_column) == 1)\n",
    "\n",
    "filtered_Db2\n",
    "\n",
    "distinct_Db2=filtered_Db2.dropDuplicates(['personid'])\n",
    "\n",
    "print(distinct_Db2.count())\n",
    "\n",
    "clean_Db2=distinct_Db2.drop('stdid', 'display')"
   ]
  },
  {
   "cell_type": "code",
   "execution_count": null,
   "id": "83565908",
   "metadata": {},
   "outputs": [],
   "source": [
    "non_CVD = non_con.withColumn(\n",
    "    \"CVD\",\n",
    "    when(col(\"stdid\").isin(CVD), 1).otherwise(0))\n",
    "\n",
    "condition_column = 'CVD'\n",
    "\n",
    "# Count the number of patients with the condition (where the column value is 1)\n",
    "\n",
    "filtered_CVD = non_CVD.filter(col(condition_column) == 1)\n",
    "\n",
    "filtered_CVD\n",
    "\n",
    "distinct_CVD=filtered_CVD.dropDuplicates(['personid'])\n",
    "\n",
    "print(distinct_CVD.count())\n",
    "\n",
    "clean_CVD=distinct_CVD.drop('stdid', 'display')"
   ]
  },
  {
   "cell_type": "code",
   "execution_count": null,
   "id": "8197763b",
   "metadata": {},
   "outputs": [],
   "source": [
    "non_FHGC = non_con.withColumn(\n",
    "    \"FHGC\",\n",
    "    when(col(\"stdid\").isin(Family_History_Gyn), 1).otherwise(0))\n",
    "\n",
    "condition_column = 'FHGC'\n",
    "\n",
    "# Count the number of patients with the condition (where the column value is 1)\n",
    "\n",
    "filtered_FHGC = non_FHGC.filter(col(condition_column) == 1)\n",
    "\n",
    "filtered_FHGC\n",
    "\n",
    "distinct_FHGC=filtered_FHGC.dropDuplicates(['personid'])\n",
    "\n",
    "print(distinct_FHGC.count())\n",
    "\n",
    "clean_FHGC=distinct_FHGC.drop('stdid', 'display')"
   ]
  },
  {
   "cell_type": "code",
   "execution_count": null,
   "id": "2941f6e6",
   "metadata": {},
   "outputs": [],
   "source": [
    "non_FHC = non_con.withColumn(\n",
    "    \"FHC\",\n",
    "    when(col(\"stdid\").isin(FHC), 1).otherwise(0))\n",
    "\n",
    "condition_column = 'FHC'\n",
    "\n",
    "# Count the number of patients with the condition (where the column value is 1)\n",
    "\n",
    "filtered_FHC = non_FHC.filter(col(condition_column) == 1)\n",
    "\n",
    "filtered_FHC\n",
    "\n",
    "distinct_FHC=filtered_FHC.dropDuplicates(['personid'])\n",
    "\n",
    "print(distinct_FHC.count())\n",
    "\n",
    "clean_FHC=distinct_FHC.drop('stdid', 'display')"
   ]
  },
  {
   "cell_type": "code",
   "execution_count": null,
   "id": "0f9b8f2e",
   "metadata": {},
   "outputs": [],
   "source": [
    "non_meno = non_con.withColumn(\n",
    "    \"meno\",\n",
    "    when(col(\"stdid\").isin(Menopause), 1).otherwise(0))\n",
    "\n",
    "condition_column = 'meno'\n",
    "\n",
    "# Count the number of patients with the condition (where the column value is 1)\n",
    "\n",
    "filtered_meno= non_meno.filter(col(condition_column) == 1)\n",
    "\n",
    "filtered_meno\n",
    "\n",
    "distinct_meno=filtered_meno.dropDuplicates(['personid'])\n",
    "\n",
    "print(distinct_meno.count())\n",
    "\n",
    "clean_meno=distinct_meno.drop('stdid', 'display')"
   ]
  },
  {
   "cell_type": "code",
   "execution_count": null,
   "id": "442906cd",
   "metadata": {},
   "outputs": [],
   "source": [
    "non_preg = non_con.withColumn(\n",
    "    \"preg\",\n",
    "    when(col(\"stdid\").isin(Pregnancy), 1).otherwise(0))\n",
    "\n",
    "condition_column = 'preg'\n",
    "\n",
    "\n",
    "# Count the number of patients with the condition (where the column value is 1)\n",
    "\n",
    "filtered_preg = non_preg.filter(col(condition_column) == 1)\n",
    "\n",
    "filtered_preg\n",
    "\n",
    "distinct_preg=filtered_preg.dropDuplicates(['personid'])\n",
    "\n",
    "print(distinct_preg.count())\n",
    "\n",
    "clean_preg=distinct_preg.drop('stdid', 'display')"
   ]
  },
  {
   "cell_type": "code",
   "execution_count": null,
   "id": "75e029c6",
   "metadata": {},
   "outputs": [],
   "source": [
    "non_ectop = non_con.withColumn(\n",
    "    \"ectop\",\n",
    "    when(col(\"stdid\").isin(Ectopic), 1).otherwise(0))\n",
    "\n",
    "condition_column = 'ectop'\n",
    "\n",
    "\n",
    "# Count the number of patients with the condition (where the column value is 1)\n",
    "\n",
    "filtered_ectop = non_ectop.filter(col(condition_column) == 1)\n",
    "\n",
    "filtered_ectop\n",
    "\n",
    "distinct_ectop=filtered_ectop.dropDuplicates(['personid'])\n",
    "\n",
    "print(distinct_ectop.count())\n",
    "\n",
    "clean_ectop=distinct_ectop.drop('stdid', 'display')"
   ]
  },
  {
   "cell_type": "code",
   "execution_count": null,
   "id": "851e31cc",
   "metadata": {},
   "outputs": [],
   "source": [
    "non_lynch = non_con.withColumn(\n",
    "    \"lynch\",\n",
    "    when(col(\"stdid\").isin(lynch), 1).otherwise(0))\n",
    "\n",
    "condition_column = 'lynch'\n",
    "\n",
    "\n",
    "# Count the number of patients with the condition (where the column value is 1)\n",
    "\n",
    "filtered_lynch = non_lynch.filter(col(condition_column) == 1)\n",
    "\n",
    "filtered_lynch\n",
    "\n",
    "distinct_lynch=filtered_lynch.dropDuplicates(['personid'])\n",
    "\n",
    "print(distinct_lynch.count())\n",
    "\n",
    "clean_lynch=distinct_lynch.drop('stdid', 'display')"
   ]
  },
  {
   "cell_type": "code",
   "execution_count": null,
   "id": "33d835ce",
   "metadata": {},
   "outputs": [],
   "source": [
    "non_PCOS = non_con.withColumn(\n",
    "    \"PCOS\",\n",
    "    when(col(\"stdid\").isin(PCOS), 1).otherwise(0))\n",
    "\n",
    "condition_column = 'PCOS'\n",
    "\n",
    "\n",
    "# Count the number of patients with the condition (where the column value is 1)\n",
    "\n",
    "filtered_PCOS = non_PCOS.filter(col(condition_column) == 1)\n",
    "\n",
    "filtered_PCOS\n",
    "\n",
    "distinct_PCOS=filtered_PCOS.dropDuplicates(['personid'])\n",
    "\n",
    "print(distinct_PCOS.count())\n",
    "\n",
    "clean_PCOS=distinct_PCOS.drop('stdid', 'display')"
   ]
  },
  {
   "cell_type": "code",
   "execution_count": null,
   "id": "a1db84c6",
   "metadata": {},
   "outputs": [],
   "source": [
    "PPROMc = non_con.withColumn(\n",
    "    \"PPROM\",\n",
    "    when(col(\"stdid\").isin(PPROM), 1).otherwise(0))\n",
    "\n",
    "condition_column = 'PPROM'\n",
    "\n",
    "filtered_PPROM = PPROMc.filter(col(condition_column) == 1)\n",
    "\n",
    "filtered_PPROM\n",
    "\n",
    "distinct_PPROM=filtered_PPROM.dropDuplicates(['personid'])\n",
    "\n",
    "print(distinct_PPROM.count())\n",
    "\n",
    "\n",
    "clean_PPROM=distinct_PPROM.drop('stdid', 'display')"
   ]
  },
  {
   "cell_type": "code",
   "execution_count": null,
   "id": "4310f66a",
   "metadata": {},
   "outputs": [],
   "source": [
    "MCCLDc = non_con.withColumn(\n",
    "    \"MCCLD\",\n",
    "    when(col(\"stdid\").isin(MCCLD), 1).otherwise(0))\n",
    "\n",
    "condition_column = 'MCCLD'\n",
    "\n",
    "filtered_MCCLD = MCCLDc.filter(col(condition_column) == 1)\n",
    "\n",
    "filtered_MCCLD\n",
    "\n",
    "distinct_MCCLD=filtered_MCCLD.dropDuplicates(['personid'])\n",
    "\n",
    "print(distinct_MCCLD.count())\n",
    "\n",
    "clean_MCCLD=distinct_MCCLD.drop('stdid', 'display')"
   ]
  },
  {
   "cell_type": "code",
   "execution_count": null,
   "id": "4125a32a",
   "metadata": {},
   "outputs": [],
   "source": [
    "HRPc = non_con.withColumn(\n",
    "    \"HRP\",\n",
    "    when(col(\"stdid\").isin(HRP), 1).otherwise(0))\n",
    "\n",
    "condition_column = 'HRP'\n",
    "\n",
    "filtered_HRP = HRPc.filter(col(condition_column) == 1)\n",
    "\n",
    "filtered_HRP\n",
    "\n",
    "distinct_HRP=filtered_HRP.dropDuplicates(['personid'])\n",
    "\n",
    "print(distinct_HRP.count())\n",
    "\n",
    "clean_HRP=distinct_HRP.drop('stdid', 'display')"
   ]
  },
  {
   "cell_type": "code",
   "execution_count": null,
   "id": "ba4a3ae7",
   "metadata": {},
   "outputs": [],
   "source": [
    "csectc = non_con.withColumn(\n",
    "    \"csect\",\n",
    "    when(col(\"stdid\").isin(csect), 1).otherwise(0))\n",
    "\n",
    "condition_column = 'csect'\n",
    "\n",
    "filtered_csect = csectc.filter(col(condition_column) == 1)\n",
    "\n",
    "filtered_csect\n",
    "\n",
    "distinct_csect=filtered_csect.dropDuplicates(['personid'])\n",
    "\n",
    "print(distinct_csect.count())\n",
    "\n",
    "clean_csect=distinct_csect.drop('stdid', 'display')"
   ]
  },
  {
   "cell_type": "code",
   "execution_count": null,
   "id": "57b4597f",
   "metadata": {},
   "outputs": [],
   "source": [
    "csectp = non_pro.withColumn(\n",
    "    \"csect\",\n",
    "    when(col(\"procedure_code\").isin(csect), 1).otherwise(0))\n",
    "\n",
    "condition_column = 'csect'\n",
    "\n",
    "filtered_csect1 = csectp.filter(col(condition_column) == 1)\n",
    "\n",
    "filtered_csect1\n",
    "\n",
    "distinct_csect1=filtered_csect1.dropDuplicates(['personid'])\n",
    "\n",
    "print(distinct_csect1.count())\n",
    "\n",
    "clean_csect1=distinct_csect1.drop('procedure_code', 'procedure_display')"
   ]
  },
  {
   "cell_type": "code",
   "execution_count": null,
   "id": "24e66e59",
   "metadata": {},
   "outputs": [],
   "source": [
    "combined_csect=clean_csect.union(clean_csect1)\n",
    "print(combined_csect.count())"
   ]
  },
  {
   "cell_type": "code",
   "execution_count": null,
   "id": "3a17d6c7",
   "metadata": {},
   "outputs": [],
   "source": [
    "csect2=combined_csect.dropDuplicates()\n",
    "csect2.count()"
   ]
  },
  {
   "cell_type": "code",
   "execution_count": null,
   "id": "f3a27e68",
   "metadata": {},
   "outputs": [],
   "source": [
    "ccsectc = non_con.withColumn(\n",
    "    \"ccsect\",\n",
    "    when(col(\"stdid\").isin(ccsect), 1).otherwise(0))\n",
    "\n",
    "condition_column = 'ccsect'\n",
    "\n",
    "filtered_ccsect = ccsectc.filter(col(condition_column) == 1)\n",
    "\n",
    "filtered_ccsect\n",
    "\n",
    "distinct_ccsect=filtered_ccsect.dropDuplicates(['personid'])\n",
    "\n",
    "print(distinct_ccsect.count())\n",
    "\n",
    "clean_ccsect=distinct_ccsect.drop('stdid', 'display')"
   ]
  },
  {
   "cell_type": "code",
   "execution_count": null,
   "id": "49cf4a96",
   "metadata": {},
   "outputs": [],
   "source": [
    "ccsectp = non_pro.withColumn(\n",
    "    \"ccsect\",\n",
    "    when(col(\"procedure_code\").isin(ccsect), 1).otherwise(0))\n",
    "\n",
    "condition_column = 'ccsect'\n",
    "\n",
    "filtered_ccsect1 = ccsectp.filter(col(condition_column) == 1)\n",
    "\n",
    "filtered_ccsect1\n",
    "\n",
    "distinct_ccsect1=filtered_ccsect1.dropDuplicates(['personid'])\n",
    "\n",
    "print(distinct_ccsect1.count())\n",
    "\n",
    "clean_ccsect1=distinct_ccsect1.drop('procedure_code', 'procedure_display')"
   ]
  },
  {
   "cell_type": "code",
   "execution_count": null,
   "id": "bd8413c3",
   "metadata": {},
   "outputs": [],
   "source": [
    "combined_ccsect=clean_ccsect.union(clean_ccsect1)\n",
    "combined_ccsect.count()"
   ]
  },
  {
   "cell_type": "code",
   "execution_count": null,
   "id": "450e9df6",
   "metadata": {},
   "outputs": [],
   "source": [
    "ccsect2=combined_ccsect.dropDuplicates()\n",
    "ccsect2.count()"
   ]
  },
  {
   "cell_type": "code",
   "execution_count": null,
   "id": "7e252d33",
   "metadata": {},
   "outputs": [],
   "source": [
    "lcsectc = non_con.withColumn(\n",
    "    \"lcsect\",\n",
    "    when(col(\"stdid\").isin(lcsect), 1).otherwise(0))\n",
    "\n",
    "condition_column = 'lcsect'\n",
    "\n",
    "filtered_lcsect = lcsectc.filter(col(condition_column) == 1)\n",
    "\n",
    "filtered_lcsect\n",
    "\n",
    "distinct_lcsect=filtered_lcsect.dropDuplicates(['personid'])\n",
    "\n",
    "print(distinct_lcsect.count())\n",
    "\n",
    "clean_lcsect=distinct_lcsect.drop('stdid', 'display')"
   ]
  },
  {
   "cell_type": "code",
   "execution_count": null,
   "id": "f5845ec9",
   "metadata": {},
   "outputs": [],
   "source": [
    "lcsectp = non_pro.withColumn(\n",
    "    \"lcsect\",\n",
    "    when(col(\"procedure_code\").isin(lcsect), 1).otherwise(0))\n",
    "\n",
    "condition_column = 'lcsect'\n",
    "\n",
    "filtered_lcsect1 = lcsectp.filter(col(condition_column) == 1)\n",
    "\n",
    "filtered_lcsect1\n",
    "\n",
    "distinct_lcsect1=filtered_lcsect1.dropDuplicates(['personid'])\n",
    "\n",
    "print(distinct_lcsect1.count())\n",
    "\n",
    "clean_lcsect1=distinct_lcsect1.drop('procedure_code', 'procedure_display')"
   ]
  },
  {
   "cell_type": "code",
   "execution_count": null,
   "id": "ea9ccf86",
   "metadata": {},
   "outputs": [],
   "source": [
    "combined_lcsect=clean_lcsect.union(clean_lcsect1)\n",
    "combined_lcsect.count()"
   ]
  },
  {
   "cell_type": "code",
   "execution_count": null,
   "id": "7bd40b07",
   "metadata": {},
   "outputs": [],
   "source": [
    "lcsect2=combined_lcsect.dropDuplicates()\n",
    "lcsect2.count()"
   ]
  },
  {
   "cell_type": "code",
   "execution_count": null,
   "id": "b6304dee",
   "metadata": {},
   "outputs": [],
   "source": [
    "epcsectc = non_con.withColumn(\n",
    "    \"epcsect\",\n",
    "    when(col(\"stdid\").isin(epcsect), 1).otherwise(0))\n",
    "\n",
    "condition_column = 'epcsect'\n",
    "\n",
    "filtered_epcsect = epcsectc.filter(col(condition_column) == 1)\n",
    "\n",
    "filtered_epcsect\n",
    "\n",
    "distinct_epcsect=filtered_epcsect.dropDuplicates(['personid'])\n",
    "\n",
    "print(distinct_epcsect.count())\n",
    "\n",
    "clean_epcsect=distinct_epcsect.drop('stdid', 'display')"
   ]
  },
  {
   "cell_type": "code",
   "execution_count": null,
   "id": "2d601041",
   "metadata": {},
   "outputs": [],
   "source": [
    "epcsectp = non_pro.withColumn(\n",
    "    \"epcsect\",\n",
    "    when(col(\"procedure_code\").isin(epcsect), 1).otherwise(0))\n",
    "\n",
    "condition_column = 'epcsect'\n",
    "\n",
    "filtered_epcsect1 = epcsectp.filter(col(condition_column) == 1)\n",
    "\n",
    "filtered_epcsect1\n",
    "\n",
    "distinct_epcsect1=filtered_epcsect1.dropDuplicates(['personid'])\n",
    "\n",
    "print(distinct_epcsect1.count())\n",
    "\n",
    "clean_epcsect1=distinct_epcsect1.drop('procedure_code', 'procedure_display')"
   ]
  },
  {
   "cell_type": "code",
   "execution_count": null,
   "id": "a282120a",
   "metadata": {},
   "outputs": [],
   "source": [
    "combined_epcsect=clean_epcsect.union(clean_epcsect1)\n",
    "combined_epcsect.count()"
   ]
  },
  {
   "cell_type": "code",
   "execution_count": null,
   "id": "cd826b10",
   "metadata": {},
   "outputs": [],
   "source": [
    "epcsect2=combined_epcsect.dropDuplicates()\n",
    "epcsect2.count()"
   ]
  },
  {
   "cell_type": "markdown",
   "id": "93748b66",
   "metadata": {},
   "source": [
    "#### Cancer (Outcomes last)"
   ]
  },
  {
   "cell_type": "code",
   "execution_count": null,
   "id": "d95001f5",
   "metadata": {},
   "outputs": [],
   "source": [
    "non_PCOS = non_con.withColumn(\n",
    "    \"PCOS\",\n",
    "    when(col(\"stdid\").isin(PCOS), 1).otherwise(0))\n",
    "\n",
    "condition_column = 'PCOS'\n",
    "\n",
    "\n",
    "# Count the number of patients with the condition (where the column value is 1)\n",
    "\n",
    "filtered_PCOS = non_PCOS.filter(col(condition_column) == 1)\n",
    "\n",
    "filtered_PCOS\n",
    "\n",
    "distinct_PCOS=filtered_PCOS.dropDuplicates(['personid'])\n",
    "\n",
    "print(distinct_PCOS.count())\n",
    "\n",
    "clean_PCOS=distinct_PCOS.drop('stdid', 'display')"
   ]
  },
  {
   "cell_type": "code",
   "execution_count": null,
   "id": "a3033228",
   "metadata": {},
   "outputs": [],
   "source": [
    "UTC = non_con.withColumn(\n",
    "    \"UTC\",\n",
    "    when(col(\"stdid\").isin(Uterine_Cancers), 1).otherwise(0))\n",
    "\n",
    "condition_column = 'UTC'\n",
    "\n",
    "filtered_UTC = UTC.filter(col(condition_column) == 1)\n",
    "\n",
    "filtered_UTC\n",
    "\n",
    "distinct_UTC=filtered_UTC.dropDuplicates(['personid'])\n",
    "\n",
    "print(distinct_UTC.count())\n",
    "\n",
    "clean_UTC=distinct_UTC.drop('stdid', 'display')"
   ]
  },
  {
   "cell_type": "code",
   "execution_count": null,
   "id": "6a5c5848",
   "metadata": {},
   "outputs": [],
   "source": [
    "OVC = non_con.withColumn(\n",
    "    \"OVC2\",\n",
    "    when(col(\"stdid\").isin(Ovarian_Cancers), 1).otherwise(0))\n",
    "\n",
    "condition_column = 'OVC'\n",
    "\n",
    "# Count the number of patients with the condition (where the column value is 1)\n",
    "\n",
    "filtered_OVC = OVC.filter(col(condition_column) == 1)\n",
    "\n",
    "filtered_OVC\n",
    "\n",
    "distinct_OVC=filtered_OVC.dropDuplicates(['personid'])\n",
    "\n",
    "print(distinct_OVC.count())\n",
    "\n",
    "clean_OVC=distinct_OVC.drop('stdid', 'display')"
   ]
  },
  {
   "cell_type": "code",
   "execution_count": null,
   "id": "863fe2d7",
   "metadata": {},
   "outputs": [],
   "source": [
    "OV_FT = non_con.withColumn(\n",
    "    \"OV_FT\",\n",
    "    when(col(\"stdid\").isin(OV_FT), 1).otherwise(0))\n",
    "\n",
    "condition_column = 'OV_FT'\n",
    "\n",
    "filtered_OV_FT = OV_FT.filter(col(condition_column) == 1)\n",
    "\n",
    "filtered_OV_FT\n",
    "\n",
    "distinct_OV_FT=filtered_OV_FT.dropDuplicates(['personid'])\n",
    "\n",
    "print(distinct_OV_FT.count())\n",
    "\n",
    "clean_OV_FT=distinct_OV_FT.drop('stdid', 'display')"
   ]
  },
  {
   "cell_type": "code",
   "execution_count": null,
   "id": "4ecf98b1",
   "metadata": {},
   "outputs": [],
   "source": [
    "CVX = non_con.withColumn(\n",
    "    \"CVX\",\n",
    "    when(col(\"stdid\").isin(Cervical_Cancers), 1).otherwise(0))\n",
    "\n",
    "condition_column = 'CVX'\n",
    "\n",
    "filtered_CVX = CVX.filter(col(condition_column) == 1)\n",
    "\n",
    "filtered_CVX\n",
    "\n",
    "distinct_CVX=filtered_CVX.dropDuplicates(['personid'])\n",
    "\n",
    "print(distinct_CVX.count())\n",
    "\n",
    "clean_CVX=distinct_CVX.drop('stdid', 'display')"
   ]
  },
  {
   "cell_type": "code",
   "execution_count": null,
   "id": "3d5f9e9e",
   "metadata": {},
   "outputs": [],
   "source": [
    "Other_Gyn = non_con.withColumn(\n",
    "    \"Other_Gyn\",\n",
    "    when(col(\"stdid\").isin(Other_Gyn_Cancers), 1).otherwise(0))\n",
    "\n",
    "condition_column = 'Other_Gyn'\n",
    "\n",
    "filtered_Other_Gyn = Other_Gyn.filter(col(condition_column) == 1)\n",
    "\n",
    "filtered_Other_Gyn\n",
    "\n",
    "distinct_Other_Gyn=filtered_Other_Gyn.dropDuplicates(['personid'])\n",
    "\n",
    "print(distinct_Other_Gyn.count())\n",
    "\n",
    "clean_Other_Gyn=distinct_Other_Gyn.drop('stdid', 'display')"
   ]
  },
  {
   "cell_type": "code",
   "execution_count": null,
   "id": "f2caabe0",
   "metadata": {},
   "outputs": [],
   "source": [
    "Any_Gyn = non_con.withColumn(\n",
    "    \"Any_Gyn\",\n",
    "    when(col(\"stdid\").isin(Any_Gyn_Cancers), 1).otherwise(0))\n",
    "\n",
    "condition_column = 'Any_Gyn'\n",
    "\n",
    "filtered_Any_Gyn = Any_Gyn.filter(col(condition_column) == 1)\n",
    "\n",
    "filtered_Any_Gyn\n",
    "\n",
    "distinct_Any_Gyn=filtered_Any_Gyn.dropDuplicates(['personid'])\n",
    "\n",
    "print(distinct_Any_Gyn.count())\n",
    "\n",
    "clean_Any_Gyn=distinct_Any_Gyn.drop('stdid', 'display')"
   ]
  },
  {
   "cell_type": "code",
   "execution_count": null,
   "id": "006b22df",
   "metadata": {},
   "outputs": [],
   "source": [
    "Breastc = non_con.withColumn(\n",
    "    \"Breastc\",\n",
    "    when(col(\"stdid\").isin(Breast_Cancers), 1).otherwise(0))\n",
    "\n",
    "condition_column = 'Breastc'\n",
    "\n",
    "filtered_Breastc = Breastc.filter(col(condition_column) == 1)\n",
    "\n",
    "filtered_Breastc\n",
    "\n",
    "distinct_Breastc=filtered_Breastc.dropDuplicates(['personid'])\n",
    "\n",
    "print(distinct_Breastc.count())\n",
    "\n",
    "clean_Breastc=distinct_Breastc.drop('stdid', 'display')"
   ]
  },
  {
   "cell_type": "code",
   "execution_count": null,
   "id": "27927838",
   "metadata": {},
   "outputs": [],
   "source": []
  },
  {
   "cell_type": "markdown",
   "id": "d8b049e2",
   "metadata": {},
   "source": [
    "## Combine Data"
   ]
  },
  {
   "cell_type": "code",
   "execution_count": null,
   "id": "600ec91f",
   "metadata": {},
   "outputs": [],
   "source": [
    "pid = spark.sql(\"\"\"\n",
    "    select personid\n",
    "    from personid_table\n",
    "    \"\"\")\n",
    "pid.cache()"
   ]
  },
  {
   "cell_type": "code",
   "execution_count": null,
   "id": "682a0bcc",
   "metadata": {},
   "outputs": [],
   "source": [
    "pid_CUA_ANY= pid.join(clean_CUA_ANY, 'personid', 'left')\n",
    "\n",
    "column_name = 'CUA_ANY'\n",
    "\n",
    "# Replace \"NaN\" values with zeros in the specified column\n",
    "Binary_CUA_ANY = pid_CUA_ANY.fillna({column_name: 0})\n",
    "Binary_CUA_ANY1=Binary_CUA_ANY.dropDuplicates()\n",
    "\n",
    "Binary_CUA_ANY1.select('personid').count()"
   ]
  },
  {
   "cell_type": "code",
   "execution_count": null,
   "id": "dd97ba33",
   "metadata": {},
   "outputs": [],
   "source": [
    "pid_endo= Binary_CUA_ANY1.join(clean_endo, 'personid', 'left')\n",
    "\n",
    "column_name = 'endo'\n",
    "\n",
    "# Replace \"NaN\" values with zeros in the specified column\n",
    "Binary_endo = pid_endo.fillna({column_name: 0})\n",
    "Binary_endo1=Binary_endo.dropDuplicates()\n",
    "\n",
    "Binary_endo1.select('personid').count()"
   ]
  },
  {
   "cell_type": "code",
   "execution_count": null,
   "id": "33088007",
   "metadata": {},
   "outputs": [],
   "source": [
    "pid_infertility= Binary_endo1.join(clean_infertility, 'personid', 'left')\n",
    "\n",
    "column_name = 'infertility'\n",
    "\n",
    "# Replace \"NaN\" values with zeros in the specified column\n",
    "Binary_infertility = pid_infertility.fillna({column_name: 0})\n",
    "Binary_infertility1=Binary_infertility.dropDuplicates()\n",
    "\n",
    "Binary_infertility1.select('personid').count()"
   ]
  },
  {
   "cell_type": "code",
   "execution_count": null,
   "id": "4d720ef2",
   "metadata": {},
   "outputs": [],
   "source": [
    "pid_RA= Binary_infertility1.join(clean_RA, 'personid', 'left')\n",
    "\n",
    "column_name = 'RA'\n",
    "\n",
    "# Replace \"NaN\" values with zeros in the specified column\n",
    "Binary_RA = pid_RA.fillna({column_name: 0})\n",
    "Binary_RA1=Binary_RA.dropDuplicates()\n",
    "\n",
    "Binary_RA1.select('personid').count()"
   ]
  },
  {
   "cell_type": "code",
   "execution_count": null,
   "id": "40a495eb",
   "metadata": {},
   "outputs": [],
   "source": [
    "pid_Dys= Binary_RA1.join(clean_Dys, 'personid', 'left')\n",
    "\n",
    "column_name = 'Dys'\n",
    "\n",
    "# Replace \"NaN\" values with zeros in the specified column\n",
    "Binary_Dys = pid_Dys.fillna({column_name: 0})\n",
    "Binary_Dys1=Binary_Dys.dropDuplicates()\n",
    "\n",
    "Binary_Dys1.select('personid').count()"
   ]
  },
  {
   "cell_type": "code",
   "execution_count": null,
   "id": "1348d82c",
   "metadata": {},
   "outputs": [],
   "source": [
    "pid_Irreg= Binary_Dys1.join(clean_Irreg, 'personid', 'left')\n",
    "\n",
    "column_name = 'Irreg'\n",
    "\n",
    "# Replace \"NaN\" values with zeros in the specified column\n",
    "Binary_Irreg = pid_Irreg.fillna({column_name: 0})\n",
    "Binary_Irreg1=Binary_Irreg.dropDuplicates()\n",
    "\n",
    "Binary_Irreg1.select('personid').count()"
   ]
  },
  {
   "cell_type": "code",
   "execution_count": null,
   "id": "174231ff",
   "metadata": {},
   "outputs": [],
   "source": [
    "pid_spinal= Binary_Irreg1.join(clean_spinal, 'personid', 'left')\n",
    "\n",
    "column_name = 'spinal'\n",
    "\n",
    "# Replace \"NaN\" values with zeros in the specified column\n",
    "Binary_spinal = pid_spinal.fillna({column_name: 0})\n",
    "Binary_spinal1=Binary_spinal.dropDuplicates()\n",
    "\n",
    "Binary_spinal1.select('personid').count()"
   ]
  },
  {
   "cell_type": "code",
   "execution_count": null,
   "id": "c00dc60e",
   "metadata": {},
   "outputs": [],
   "source": [
    "pid_scoliosis= Binary_spinal1.join(clean_scoliosis, 'personid', 'left')\n",
    "\n",
    "column_name = 'scoliosis'\n",
    "\n",
    "# Replace \"NaN\" values with zeros in the specified column\n",
    "Binary_scoliosis = pid_scoliosis.fillna({column_name: 0})\n",
    "Binary_scoliosis1=Binary_scoliosis.dropDuplicates()\n",
    "\n",
    "Binary_scoliosis1.select('personid').count()"
   ]
  },
  {
   "cell_type": "code",
   "execution_count": null,
   "id": "a901bd09",
   "metadata": {},
   "outputs": [],
   "source": [
    "pid_FT= Binary_scoliosis1.join(clean_FT, 'personid', 'left')\n",
    "\n",
    "column_name = 'FT'\n",
    "\n",
    "# Replace \"NaN\" values with zeros in the specified column\n",
    "Binary_FT = pid_FT.fillna({column_name: 0})\n",
    "Binary_FT1=Binary_FT.dropDuplicates()\n",
    "\n",
    "Binary_FT1.select('personid').count()"
   ]
  },
  {
   "cell_type": "code",
   "execution_count": null,
   "id": "57694483",
   "metadata": {},
   "outputs": [],
   "source": [
    "pid_hl= Binary_FT1.join(clean_hl, 'personid', 'left')\n",
    "\n",
    "column_name = 'hl'\n",
    "\n",
    "# Replace \"NaN\" values with zeros in the specified column\n",
    "Binary_hl = pid_hl.fillna({column_name: 0})\n",
    "Binary_hl1=Binary_hl.dropDuplicates()\n",
    "\n",
    "Binary_hl1.select('personid').count()"
   ]
  },
  {
   "cell_type": "code",
   "execution_count": null,
   "id": "ebc25440",
   "metadata": {},
   "outputs": [],
   "source": [
    "pid_cloacdys= Binary_hl1.join(clean_cloacdys, 'personid', 'left')\n",
    "\n",
    "column_name = 'cloacdys'\n",
    "\n",
    "# Replace \"NaN\" values with zeros in the specified column\n",
    "Binary_cloacdys = pid_cloacdys.fillna({column_name: 0})\n",
    "Binary_cloacdys1=Binary_cloacdys.dropDuplicates()\n",
    "\n",
    "Binary_cloacdys1.select('personid').count()"
   ]
  },
  {
   "cell_type": "code",
   "execution_count": null,
   "id": "59332369",
   "metadata": {},
   "outputs": [],
   "source": [
    "pid_mc= Binary_cloacdys1.join(clean_mc, 'personid', 'left')\n",
    "\n",
    "column_name = 'mc'\n",
    "\n",
    "# Replace \"NaN\" values with zeros in the specified column\n",
    "Binary_mc = pid_mc.fillna({column_name: 0})\n",
    "Binary_mc1=Binary_mc.dropDuplicates()\n",
    "\n",
    "Binary_mc1.select('personid').count()"
   ]
  },
  {
   "cell_type": "code",
   "execution_count": null,
   "id": "d813fd7b",
   "metadata": {},
   "outputs": [],
   "source": [
    "pid_eom= Binary_mc1.join(clean_eom, 'personid', 'left')\n",
    "\n",
    "column_name = 'eom'\n",
    "\n",
    "# Replace \"NaN\" values with zeros in the specified column\n",
    "Binary_eom = pid_eom.fillna({column_name: 0})\n",
    "Binary_eom1=Binary_eom.dropDuplicates()\n",
    "\n",
    "Binary_eom1.select('personid').count()"
   ]
  },
  {
   "cell_type": "code",
   "execution_count": null,
   "id": "9b280f51",
   "metadata": {},
   "outputs": [],
   "source": [
    "pid_hemato= Binary_eom1.join(clean_hemato, 'personid', 'left')\n",
    "\n",
    "column_name = 'hemato'\n",
    "\n",
    "# Replace \"NaN\" values with zeros in the specified column\n",
    "Binary_hemato = pid_hemato.fillna({column_name: 0})\n",
    "Binary_hemato1=Binary_hemato.dropDuplicates()\n",
    "\n",
    "Binary_hemato1.select('personid').count()"
   ]
  },
  {
   "cell_type": "code",
   "execution_count": null,
   "id": "84ce54ef",
   "metadata": {},
   "outputs": [],
   "source": [
    "pid_preterm= Binary_hemato1.join(clean_preterm, 'personid', 'left')\n",
    "\n",
    "column_name = 'preterm'\n",
    "\n",
    "# Replace \"NaN\" values with zeros in the specified column\n",
    "Binary_preterm = pid_preterm.fillna({column_name: 0})\n",
    "Binary_preterm1=Binary_preterm.dropDuplicates()\n",
    "\n",
    "Binary_preterm1.select('personid').count()"
   ]
  },
  {
   "cell_type": "code",
   "execution_count": null,
   "id": "c698a016",
   "metadata": {},
   "outputs": [],
   "source": [
    "pid_mal= Binary_preterm1.join(clean_mal, 'personid', 'left')\n",
    "\n",
    "column_name = 'mal'\n",
    "\n",
    "# Replace \"NaN\" values with zeros in the specified column\n",
    "Binary_mal = pid_mal.fillna({column_name: 0})\n",
    "Binary_mal1=Binary_mal.dropDuplicates()\n",
    "\n",
    "Binary_mal1.select('personid').count()"
   ]
  },
  {
   "cell_type": "code",
   "execution_count": null,
   "id": "0f2f27f7",
   "metadata": {},
   "outputs": [],
   "source": [
    "pid_pg= Binary_mal1.join(clean_pg, 'personid', 'left')\n",
    "\n",
    "column_name = 'pg'\n",
    "\n",
    "# Replace \"NaN\" values with zeros in the specified column\n",
    "Binary_pg= pid_pg.fillna({column_name: 0})\n",
    "Binary_pg1=Binary_pg.dropDuplicates()\n",
    "\n",
    "Binary_pg1.select('personid').count()"
   ]
  },
  {
   "cell_type": "code",
   "execution_count": null,
   "id": "1f3385bb",
   "metadata": {},
   "outputs": [],
   "source": [
    "pid_pr= Binary_pg1.join(clean_pr, 'personid', 'left')\n",
    "\n",
    "column_name = 'pr'\n",
    "\n",
    "# Replace \"NaN\" values with zeros in the specified column\n",
    "Binary_pr= pid_pr.fillna({column_name: 0})\n",
    "Binary_pr1=Binary_pr.dropDuplicates()\n",
    "\n",
    "Binary_pr1.select('personid').count()"
   ]
  },
  {
   "cell_type": "code",
   "execution_count": null,
   "id": "a3280a28",
   "metadata": {},
   "outputs": [],
   "source": [
    "pid_HPV= Binary_pr1.join(clean_HPV, 'personid', 'left')\n",
    "\n",
    "column_name = 'HPV'\n",
    "\n",
    "# Replace \"NaN\" values with zeros in the specified column\n",
    "Binary_HPV= pid_HPV.fillna({column_name: 0})\n",
    "Binary_HPV1=Binary_HPV.dropDuplicates()\n",
    "\n",
    "Binary_HPV1.select('personid').count()"
   ]
  },
  {
   "cell_type": "code",
   "execution_count": null,
   "id": "a936be9a",
   "metadata": {},
   "outputs": [],
   "source": [
    "pid_HIV= Binary_HPV1.join(clean_HIV, 'personid', 'left')\n",
    "\n",
    "column_name = 'HIV'\n",
    "\n",
    "# Replace \"NaN\" values with zeros in the specified column\n",
    "Binary_HIV= pid_HIV.fillna({column_name: 0})\n",
    "Binary_HIV1=Binary_HIV.dropDuplicates()\n",
    "\n",
    "Binary_HIV1.select('personid').count()"
   ]
  },
  {
   "cell_type": "code",
   "execution_count": null,
   "id": "03adc9bc",
   "metadata": {},
   "outputs": [],
   "source": [
    "pid_STI= Binary_HIV1.join(clean_STI, 'personid', 'left')\n",
    "\n",
    "column_name = 'STI'\n",
    "\n",
    "# Replace \"NaN\" values with zeros in the specified column\n",
    "Binary_STI= pid_STI.fillna({column_name: 0})\n",
    "Binary_STI1=Binary_STI.dropDuplicates()\n",
    "\n",
    "Binary_STI1.select('personid').count()"
   ]
  },
  {
   "cell_type": "code",
   "execution_count": null,
   "id": "3d913656",
   "metadata": {},
   "outputs": [],
   "source": [
    "pid_Smoker= Binary_STI1.join(clean_Smoker, 'personid', 'left')\n",
    "\n",
    "column_name = 'Smoker'\n",
    "\n",
    "# Replace \"NaN\" values with zeros in the specified column\n",
    "Binary_Smoker= pid_Smoker.fillna({column_name: 0})\n",
    "Binary_Smoker1=Binary_Smoker.dropDuplicates()\n",
    "\n",
    "Binary_Smoker1.select('personid').count()"
   ]
  },
  {
   "cell_type": "code",
   "execution_count": null,
   "id": "47645813",
   "metadata": {},
   "outputs": [],
   "source": [
    "pid_SA= Binary_Smoker1.join(clean_SA, 'personid', 'left')\n",
    "\n",
    "column_name = 'SA'\n",
    "\n",
    "# Replace \"NaN\" values with zeros in the specified column\n",
    "Binary_SA= pid_SA.fillna({column_name: 0})\n",
    "Binary_SA1=Binary_SA.dropDuplicates()\n",
    "\n",
    "Binary_SA1.select('personid').count()"
   ]
  },
  {
   "cell_type": "code",
   "execution_count": null,
   "id": "b31a8f8e",
   "metadata": {},
   "outputs": [],
   "source": [
    "pid_AA= Binary_SA1.join(clean_AA, 'personid', 'left')\n",
    "\n",
    "column_name = 'AA'\n",
    "\n",
    "# Replace \"NaN\" values with zeros in the specified column\n",
    "Binary_AA= pid_AA.fillna({column_name: 0})\n",
    "Binary_AA1=Binary_AA.dropDuplicates()\n",
    "\n",
    "Binary_AA1.select('personid').count()"
   ]
  },
  {
   "cell_type": "code",
   "execution_count": null,
   "id": "31654262",
   "metadata": {},
   "outputs": [],
   "source": [
    "pid_Db2= Binary_AA1.join(clean_Db2, 'personid', 'left')\n",
    "\n",
    "column_name = 'Db2'\n",
    "\n",
    "# Replace \"NaN\" values with zeros in the specified column\n",
    "Binary_Db2= pid_Db2.fillna({column_name: 0})\n",
    "Binary_Db21=Binary_Db2.dropDuplicates()\n",
    "\n",
    "Binary_Db21.select('personid').count()"
   ]
  },
  {
   "cell_type": "code",
   "execution_count": null,
   "id": "91813011",
   "metadata": {},
   "outputs": [],
   "source": [
    "pid_CVD= Binary_Db21.join(clean_CVD, 'personid', 'left')\n",
    "\n",
    "column_name = 'CVD'\n",
    "\n",
    "# Replace \"NaN\" values with zeros in the specified column\n",
    "Binary_CVD= pid_CVD.fillna({column_name: 0})\n",
    "Binary_CVD1=Binary_CVD.dropDuplicates()\n",
    "\n",
    "Binary_CVD1.select('personid').count()"
   ]
  },
  {
   "cell_type": "code",
   "execution_count": null,
   "id": "d29f46ac",
   "metadata": {},
   "outputs": [],
   "source": [
    "pid_FHGC= Binary_CVD1.join(clean_FHGC, 'personid', 'left')\n",
    "\n",
    "column_name = 'FHGC'\n",
    "\n",
    "# Replace \"NaN\" values with zeros in the specified column\n",
    "Binary_FHGC= pid_FHGC.fillna({column_name: 0})\n",
    "Binary_FHGC1=Binary_FHGC.dropDuplicates()\n",
    "\n",
    "Binary_FHGC1.select('personid').count()"
   ]
  },
  {
   "cell_type": "code",
   "execution_count": null,
   "id": "70ca3a2c",
   "metadata": {},
   "outputs": [],
   "source": [
    "pid_FHC= Binary_FHGC1.join(clean_FHC, 'personid', 'left')\n",
    "\n",
    "column_name = 'FHC'\n",
    "\n",
    "# Replace \"NaN\" values with zeros in the specified column\n",
    "Binary_FHC= pid_FHC.fillna({column_name: 0})\n",
    "Binary_FHC1=Binary_FHC.dropDuplicates()\n",
    "\n",
    "Binary_FHC1.select('personid').count()"
   ]
  },
  {
   "cell_type": "code",
   "execution_count": null,
   "id": "edd0f6cc",
   "metadata": {},
   "outputs": [],
   "source": [
    "pid_meno= Binary_FHC1.join(clean_meno, 'personid', 'left')\n",
    "\n",
    "column_name = 'meno'\n",
    "\n",
    "# Replace \"NaN\" values with zeros in the specified column\n",
    "Binary_meno= pid_meno.fillna({column_name: 0})\n",
    "Binary_meno1=Binary_meno.dropDuplicates()\n",
    "\n",
    "Binary_meno1.select('personid').count()"
   ]
  },
  {
   "cell_type": "code",
   "execution_count": null,
   "id": "83e7725d",
   "metadata": {},
   "outputs": [],
   "source": [
    "pid_preg= Binary_meno1.join(clean_preg, 'personid', 'left')\n",
    "\n",
    "column_name = 'preg'\n",
    "\n",
    "# Replace \"NaN\" values with zeros in the specified column\n",
    "Binary_preg= pid_preg.fillna({column_name: 0})\n",
    "Binary_preg1=Binary_preg.dropDuplicates()\n",
    "\n",
    "Binary_preg1.select('personid').count()"
   ]
  },
  {
   "cell_type": "code",
   "execution_count": null,
   "id": "c97a4f1a",
   "metadata": {},
   "outputs": [],
   "source": [
    "pid_preg= Binary_meno1.join(clean_preg, 'personid', 'left')\n",
    "\n",
    "column_name = 'preg'\n",
    "\n",
    "# Replace \"NaN\" values with zeros in the specified column\n",
    "Binary_preg= pid_preg.fillna({column_name: 0})\n",
    "Binary_preg1=Binary_preg.dropDuplicates()\n",
    "\n",
    "Binary_preg1.select('personid').count()"
   ]
  },
  {
   "cell_type": "code",
   "execution_count": null,
   "id": "45adf96e",
   "metadata": {},
   "outputs": [],
   "source": [
    "pid_ectop= Binary_preg1.join(clean_ectop, 'personid', 'left')\n",
    "\n",
    "column_name = 'ectop'\n",
    "\n",
    "# Replace \"NaN\" values with zeros in the specified column\n",
    "Binary_ectop= pid_ectop.fillna({column_name: 0})\n",
    "Binary_ectop1=Binary_ectop.dropDuplicates()\n",
    "\n",
    "Binary_ectop1.select('personid').count()"
   ]
  },
  {
   "cell_type": "code",
   "execution_count": null,
   "id": "6c130353",
   "metadata": {},
   "outputs": [],
   "source": [
    "pid_lynch= Binary_ectop1.join(clean_lynch, 'personid', 'left')\n",
    "\n",
    "column_name = 'lynch'\n",
    "\n",
    "# Replace \"NaN\" values with zeros in the specified column\n",
    "Binary_lynch= pid_lynch.fillna({column_name: 0})\n",
    "Binary_lynch1=Binary_lynch.dropDuplicates()\n",
    "\n",
    "Binary_lynch1.select('personid').count()"
   ]
  },
  {
   "cell_type": "code",
   "execution_count": null,
   "id": "8292a197",
   "metadata": {},
   "outputs": [],
   "source": [
    "pid_PCOS= Binary_lynch1.join(clean_PCOS, 'personid', 'left')\n",
    "\n",
    "column_name = 'PCOS'\n",
    "\n",
    "# Replace \"NaN\" values with zeros in the specified column\n",
    "Binary_PCOS= pid_PCOS.fillna({column_name: 0})\n",
    "Binary_PCOS1=Binary_PCOS.dropDuplicates()\n",
    "\n",
    "Binary_PCOS1.select('personid').count()= Binary_PCOS1.join(clean_lynch, 'personid', 'left')\n"
   ]
  },
  {
   "cell_type": "code",
   "execution_count": null,
   "id": "350057da",
   "metadata": {},
   "outputs": [],
   "source": [
    "pid_PPROM= Binary_PCOS1.join(clean_PPROM, 'personid', 'left')\n",
    "\n",
    "column_name = 'PPROM'\n",
    "\n",
    "# Replace \"NaN\" values with zeros in the specified column\n",
    "Binary_PPROM= pid_PPROM.fillna({column_name: 0})\n",
    "Binary_PPROM1=Binary_PPROM.dropDuplicates()\n",
    "\n",
    "Binary_PPROM1.select('personid').count()= Binary_PPROM1.join(clean_lynch, 'personid', 'left')\n"
   ]
  },
  {
   "cell_type": "code",
   "execution_count": null,
   "id": "b00142f2",
   "metadata": {},
   "outputs": [],
   "source": [
    "pid_MCCLD= Binary_PPROM1.join(clean_MCCLD, 'personid', 'left')\n",
    "\n",
    "column_name = 'MCCLD'\n",
    "\n",
    "# Replace \"NaN\" values with zeros in the specified column\n",
    "Binary_MCCLD = pid_MCCLD.fillna({column_name: 0})\n",
    "Binary_MCCLD1=Binary_MCCLD.dropDuplicates()\n",
    "\n",
    "Binary_MCCLD1.select('personid').count()"
   ]
  },
  {
   "cell_type": "code",
   "execution_count": null,
   "id": "b6e48904",
   "metadata": {},
   "outputs": [],
   "source": [
    "pid_HRP= Binary_MCCLD1.join(clean_HRP, 'personid', 'left')\n",
    "\n",
    "column_name = 'HRP'\n",
    "\n",
    "# Replace \"NaN\" values with zeros in the specified column\n",
    "Binary_HRP = pid_HRP.fillna({column_name: 0})\n",
    "Binary_HRP1=Binary_HRP.dropDuplicates()\n",
    "\n",
    "Binary_HRP1.select('personid').count()"
   ]
  },
  {
   "cell_type": "code",
   "execution_count": null,
   "id": "865825d8",
   "metadata": {},
   "outputs": [],
   "source": [
    "pid_csect=Binary_HRP1.join(csect2, 'personid', 'left')\n",
    "\n",
    "column_name = 'csect'\n",
    "\n",
    "# Replace \"NaN\" values with zeros in the specified column\n",
    "Binary_csect = pid_csect.fillna({column_name: 0})\n",
    "Binary_csect1=Binary_csect.dropDuplicates()\n",
    "\n",
    "Binary_csect1.select('personid').count()"
   ]
  },
  {
   "cell_type": "code",
   "execution_count": null,
   "id": "babe8c35",
   "metadata": {},
   "outputs": [],
   "source": [
    "pid_ccsect=Binary_csect1.join(ccsect2, 'personid', 'left')\n",
    "\n",
    "column_name = 'ccsect'\n",
    "\n",
    "# Replace \"NaN\" values with zeros in the specified column\n",
    "Binary_ccsect = pid_ccsect.fillna({column_name: 0})\n",
    "Binary_ccsect1=Binary_ccsect.dropDuplicates()\n",
    "\n",
    "Binary_ccsect1.select('personid').count()"
   ]
  },
  {
   "cell_type": "code",
   "execution_count": null,
   "id": "ccb6afb4",
   "metadata": {},
   "outputs": [],
   "source": [
    "pid_lcsect=Binary_ccsect1.join(lcsect2, 'personid', 'left')\n",
    "\n",
    "column_name = 'lcsect'\n",
    "\n",
    "# Replace \"NaN\" values with zeros in the specified column\n",
    "Binary_lcsect = pid_lcsect.fillna({column_name: 0})\n",
    "Binary_lcsect1=Binary_lcsect.dropDuplicates()\n",
    "\n",
    "Binary_lcsect1.select('personid').count()"
   ]
  },
  {
   "cell_type": "code",
   "execution_count": null,
   "id": "77d1123d",
   "metadata": {},
   "outputs": [],
   "source": [
    "pid_epcsect=Binary_lcsect1.join(epcsect2, 'personid', 'left')\n",
    "\n",
    "column_name = 'epcsect'\n",
    "\n",
    "# Replace \"NaN\" values with zeros in the specified column\n",
    "Binary_epcsect = pid_epcsect.fillna({column_name: 0})\n",
    "Binary_epcsect1=Binary_epcsect.dropDuplicates()\n",
    "\n",
    "Binary_epcsect1.select('personid').count()"
   ]
  },
  {
   "cell_type": "code",
   "execution_count": null,
   "id": "d639db89",
   "metadata": {},
   "outputs": [],
   "source": [
    "\n",
    "Binary_epcsect1.limit(25).toPandas()"
   ]
  },
  {
   "cell_type": "code",
   "execution_count": null,
   "id": "45c71aba",
   "metadata": {},
   "outputs": [],
   "source": [
    "pid_UTC=Binary_epcsect1.join(clean_UTC, 'personid', 'left')\n",
    "\n",
    "column_name = 'UTC'\n",
    "\n",
    "# Replace \"NaN\" values with zeros in the specified column\n",
    "Binary_UTC = pid_UTC.fillna({column_name: 0})\n",
    "Binary_UTC1=Binary_UTC.dropDuplicates()\n",
    "\n",
    "Binary_UTC1.select('personid').count()"
   ]
  },
  {
   "cell_type": "code",
   "execution_count": null,
   "id": "72caded9",
   "metadata": {},
   "outputs": [],
   "source": [
    "pid_OVC=Binary_UTC1.join(clean_OVC, 'personid', 'left')\n",
    "\n",
    "column_name = 'OVC'\n",
    "\n",
    "# Replace \"NaN\" values with zeros in the specified column\n",
    "Binary_OVC = pid_OVC.fillna({column_name: 0})\n",
    "Binary_OVC1=Binary_OVC.dropDuplicates()\n",
    "\n",
    "Binary_OVC1.select('personid').count()"
   ]
  },
  {
   "cell_type": "code",
   "execution_count": null,
   "id": "69403e78",
   "metadata": {},
   "outputs": [],
   "source": [
    "pid_OV_FT=Binary_OVC1.join(clean_OV_FT, 'personid', 'left')\n",
    "\n",
    "column_name = 'OV_FT'\n",
    "\n",
    "# Replace \"NaN\" values with zeros in the specified column\n",
    "Binary_OV_FT = pid_OV_FT.fillna({column_name: 0})\n",
    "Binary_OV_FT1=Binary_OV_FT.dropDuplicates()\n",
    "\n",
    "Binary_OV_FT1.select('personid').count()"
   ]
  },
  {
   "cell_type": "code",
   "execution_count": null,
   "id": "953d953e",
   "metadata": {},
   "outputs": [],
   "source": [
    "pid_CVX=Binary_OVC1.join(clean_CVX, 'personid', 'left')\n",
    "\n",
    "column_name = 'CVX'\n",
    "\n",
    "# Replace \"NaN\" values with zeros in the specified column\n",
    "Binary_CVX = pid_CVX.fillna({column_name: 0})\n",
    "Binary_CVX1=Binary_CVX.dropDuplicates()\n",
    "\n",
    "Binary_CVX1.select('personid').count()"
   ]
  },
  {
   "cell_type": "code",
   "execution_count": null,
   "id": "548df015",
   "metadata": {},
   "outputs": [],
   "source": [
    "pid_Other_Gyn=Binary_CVX1.join(clean_Other_Gyn, 'personid', 'left')\n",
    "\n",
    "column_name = 'Other_Gyn'\n",
    "\n",
    "# Replace \"NaN\" values with zeros in the specified column\n",
    "Binary_Other_Gyn = pid_Other_Gyn.fillna({column_name: 0})\n",
    "Binary_Other_Gyn1=Binary_Other_Gyn.dropDuplicates()\n",
    "\n",
    "Binary_Other_Gyn1.select('personid').count()"
   ]
  },
  {
   "cell_type": "code",
   "execution_count": null,
   "id": "69c42757",
   "metadata": {},
   "outputs": [],
   "source": [
    "pid_Any_Gyn=Binary_Other_Gyn1.join(clean_Any_Gyn, 'personid', 'left')\n",
    "\n",
    "column_name = 'Any_Gyn'\n",
    "\n",
    "# Replace \"NaN\" values with zeros in the specified column\n",
    "Binary_Any_Gyn = pid_Any_Gyn.fillna({column_name: 0})\n",
    "Binary_Any_Gyn1=Binary_Any_Gyn.dropDuplicates()\n",
    "\n",
    "Binary_Any_Gyn1.select('personid').count()"
   ]
  },
  {
   "cell_type": "code",
   "execution_count": null,
   "id": "7802d6ef",
   "metadata": {},
   "outputs": [],
   "source": [
    "pid_Breastc=Binary_Any_Gyn1.join(clean_Breastc, 'personid', 'left')\n",
    "\n",
    "column_name = 'Breastc'\n",
    "\n",
    "# Replace \"NaN\" values with zeros in the specified column\n",
    "Binary_Breastc = pid_Breastc.fillna({column_name: 0})\n",
    "Binary_Breastc1=Binary_Breastc.dropDuplicates()\n",
    "\n",
    "Binary_Breastc1.select('personid').count()"
   ]
  },
  {
   "cell_type": "code",
   "execution_count": null,
   "id": "bac3088a",
   "metadata": {},
   "outputs": [],
   "source": [
    "Binary_Breastc1.write.saveAsTable('non_CUA_db.non_covariate_matrix')"
   ]
  },
  {
   "cell_type": "code",
   "execution_count": null,
   "id": "13dd37f5",
   "metadata": {},
   "outputs": [],
   "source": []
  }
 ],
 "metadata": {
  "kernelspec": {
   "display_name": "Python 3 (ipykernel)",
   "language": "python",
   "name": "python3"
  },
  "language_info": {
   "codemirror_mode": {
    "name": "ipython",
    "version": 3
   },
   "file_extension": ".py",
   "mimetype": "text/x-python",
   "name": "python",
   "nbconvert_exporter": "python",
   "pygments_lexer": "ipython3",
   "version": "3.9.7"
  }
 },
 "nbformat": 4,
 "nbformat_minor": 5
}
