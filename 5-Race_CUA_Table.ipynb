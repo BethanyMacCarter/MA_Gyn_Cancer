{
 "cells": [
  {
   "cell_type": "markdown",
   "id": "d213a1b0",
   "metadata": {},
   "source": [
    "## Initiate Session and Imports"
   ]
  },
  {
   "cell_type": "code",
   "execution_count": null,
   "id": "c6152ba5",
   "metadata": {},
   "outputs": [],
   "source": [
    "spark"
   ]
  },
  {
   "cell_type": "code",
   "execution_count": null,
   "id": "2bf3730e",
   "metadata": {},
   "outputs": [],
   "source": [
    "# set max columns, rows, column width in pandas so doesn't truncate\n",
    "import pandas as pd\n",
    "pd.set_option('display.max_colwidth',250) # or -1\n",
    "pd.set_option('display.max_columns', None) # or 500\n",
    "pd.set_option('display.max_rows', None) # or 500\n",
    "\n",
    "# sets the cell width to 100% respective to the screen size\n",
    "from IPython.core.display import display, HTML\n",
    "display(HTML(\"<style>.container { width:92% !important; }</style>\"))\n",
    "\n",
    "from pyspark.sql.functions import when, col"
   ]
  },
  {
   "cell_type": "code",
   "execution_count": null,
   "id": "f9279d82",
   "metadata": {},
   "outputs": [],
   "source": [
    "spark.sql(\"use real_world_data_jun_2023\")"
   ]
  },
  {
   "cell_type": "markdown",
   "id": "a3da1cd0",
   "metadata": {},
   "source": [
    "## Create Dictionaries for defined codes"
   ]
  },
  {
   "cell_type": "markdown",
   "id": "c2c7b0b4",
   "metadata": {},
   "source": [
    "### Race & Ethnicity Codes"
   ]
  },
  {
   "cell_type": "code",
   "execution_count": null,
   "id": "6d3833bb",
   "metadata": {},
   "outputs": [],
   "source": [
    "#American INdian and Alaskan Native (from CDC so far)\n",
    "AIAN=['1000-9', '1002-5', '1004-1', '1006-6', '1008-2', '1010-8', '1011-6', \n",
    "      '1012-4', '1013-2', '1014-0', '1015-7', '1016-5', '1017-3', '1018-1', \n",
    "      '1019-9', '1021-5', '1022-3', '1023-1', '1024-9', '1026-4', '1028-0', \n",
    "      '1030-6', '1031-4', '1033-0', '1035-5', '1037-1', '1039-7', '1041-3', \n",
    "      '1042-1', '1044-7', '1045-4', '1046-2', '1047-0', '1048-8', '1049-6', \n",
    "      '1050-4', '1051-2', '1053-8', '1054-6', '1055-3', '1056-1', '1057-9', \n",
    "      '1058-7', '1059-5', '1060-3', '1061-1', '1062-9', '1063-7', '1064-5', \n",
    "      '1065-2', '1066-0', '1068-6', '1069-4', '1070-2', '1071-0', '1072-8', \n",
    "      '1073-6', '1074-4', '1076-9', '1078-5', '1080-1', '1082-7', '1083-5', \n",
    "      '1084-3', '1086-8', '1088-4', '1089-2', '1090-0', '1091-8', '1092-6', \n",
    "      '1093-4', '1094-2', '1095-9', '1096-7', '1097-5', '1098-3', '1100-7', \n",
    "      '1102-3', '1103-1', '1104-9', '1106-4', '1108-0', '1109-8', '1110-6', \n",
    "      '1112-2', '1114-8', '1115-5', '1116-3', '1117-1', '1118-9', '1119-7', \n",
    "      '1120-5', '1121-3', '1123-9', '1124-7', '1125-4', '1126-2', '1127-0', \n",
    "      '1128-8', '1129-6', '1130-4', '1131-2', '1132-0', '1133-8', '1134-6', \n",
    "      '1135-3', '1136-1', '1137-9', '1138-7', '1139-5', '1140-3', '1141-1', \n",
    "      '1142-9', '1143-7', '1144-5', '1145-2', '1146-0', '1147-8', '1148-6', \n",
    "      '1150-2', '1151-0', '1153-6', '1155-1', '1156-9', '1157-7', '1158-5', \n",
    "      '1159-3', '1160-1', '1162-7', '1163-5', '1165-0', '1167-6', '1169-2', \n",
    "      '1171-8', '1173-4', '1175-9', '1176-7', '1178-3', '1180-9', '1182-5', \n",
    "      '1184-1', '1186-6', '1187-4', '1189-0', '1191-6', '1193-2', '1194-0', \n",
    "      '1195-7', '1196-5', '1197-3', '1198-1', '1199-9', '1200-5', '1201-3', \n",
    "      '1202-1', '1203-9', '1204-7', '1205-4', '1207-0', '1209-6', '1211-2', \n",
    "      '1212-0', '1214-6', '1215-3', '1216-1', '1217-9', '1218-7', '1219-5', \n",
    "      '1220-3', '1222-9', '1223-7', '1224-5', '1225-2', '1226-0', '1227-8', \n",
    "      '1228-6', '1229-4', '1230-2', '1231-0', '1233-6', '1234-4', '1235-1', \n",
    "      '1236-9', '1237-7', '1238-5', '1239-3', '1240-1', '1241-9', '1242-7', \n",
    "      '1243-5', '1244-3', '1245-0', '1246-8', '1247-6', '1248-4', '1250-0', \n",
    "      '1252-6', '1254-2', '1256-7', '1258-3', '1260-9', '1262-5', '1264-1', \n",
    "      '1265-8', '1267-4', '1269-0', '1271-6', '1272-4', '1273-2', '1275-7', \n",
    "      '1277-3', '1279-9', '1281-5', '1282-3', '1283-1', '1285-6', '1286-4', \n",
    "      '1287-2', '1288-0', '1289-8', '1290-6', '1291-4', '1292-2', '1293-0', \n",
    "      '1294-8', '1295-5', '1297-1', '1299-7', '1301-1', '1303-7', '1305-2', \n",
    "      '1306-0', '1307-8', '1309-4', '1310-2', '1312-8', '1313-6', '1314-4', \n",
    "      '1315-1', '1317-7', '1319-3', '1321-9', '1323-5', '1325-0', '1326-8', \n",
    "      '1327-6', '1328-4', '1329-2', '1331-8', '1332-6', '1333-4', '1334-2', \n",
    "      '1335-9', '1336-7', '413490006']"
   ]
  },
  {
   "cell_type": "code",
   "execution_count": null,
   "id": "0e02edc9",
   "metadata": {},
   "outputs": [],
   "source": [
    "Asian=['2028-9', '2029-7', '2030-5', '2031-3', '2032-1', '2033-9', '2034-7', \n",
    "       '2035-4', '2036-2', '2037-0', '2038-8', '2039-6', '2040-4', '2041-2', \n",
    "       '2042-0', '2043-8', '2044-6', '2045-3', '2046-1', '2047-9', '2048-7', \n",
    "       '2049-5', '2050-3', '2051-1', '2052-9', '414481008']"
   ]
  },
  {
   "cell_type": "code",
   "execution_count": null,
   "id": "ffdb4e72",
   "metadata": {},
   "outputs": [],
   "source": [
    "Black=['2054-5', '2056-0', '2058-6', \n",
    "       '2060-2', '2061-0', '2062-8', '2063-6', '2064-4', '2065-1', '2066-9', \n",
    "       '2067-7', '2068-5', '2069-3', '2070-1', '2071-9', '2072-7', '2073-5', \n",
    "       '2074-3', '2075-0', '413464008', '413655005']"
   ]
  },
  {
   "cell_type": "code",
   "execution_count": null,
   "id": "637df48e",
   "metadata": {},
   "outputs": [],
   "source": [
    "#Native Hawaiian or Other Pacific Islander\n",
    "NHPI=['2076-8', '2078-4', '2079-2', '2080-0', '2081-8', '2082-6', '2083-4', \n",
    "      '2085-9', '2086-7', '2087-5', '2088-3', '2089-1', '2090-9', '2091-7', \n",
    "      '2092-5', '2093-3', '2094-1', '2095-8', '2096-6', '2097-4', '2098-2', \n",
    "      '2100-6', '2101-4', '2102-2', '2103-0', '2104-8', '413581001', '413600007'\n",
    "      '2500-7',]"
   ]
  },
  {
   "cell_type": "code",
   "execution_count": null,
   "id": "f3c2dc55",
   "metadata": {},
   "outputs": [],
   "source": [
    "#White minus MENA\n",
    "White=['2106-3', '2108-9', '2109-7', '2110-5', '2111-3', '2112-1', '2113-9',\n",
    "       '2114-7', '2115-4', '2116-2', '413773004']"
   ]
  },
  {
   "cell_type": "code",
   "execution_count": null,
   "id": "5dc21aae",
   "metadata": {},
   "outputs": [],
   "source": [
    "MENA=['2118-8', '2119-6', '2120-4', '2121-2', '2122-0', '2123-8', '2124-6', \n",
    "      '2125-3', '2126-1', '2127-9', '2129-5']"
   ]
  },
  {
   "cell_type": "code",
   "execution_count": null,
   "id": "1880ed86",
   "metadata": {},
   "outputs": [],
   "source": [
    "Hisp_Latino=['2135-2', '2137-8', '2138-6', '2139-4', '2140-2', '2141-0', '2142-8', \n",
    "             '2143-6', '2144-4', '2145-1', '2146-9', '2148-5', '2149-3', '2150-1', \n",
    "             '2151-9', '2152-7', '2153-5', '2155-0', '2156-8', '2157-6', '2158-4', \n",
    "             '2159-2', '2160-0', '2161-8', '2162-6', '2163-4', '2165-9', '2166-7', \n",
    "             '2167-5', '2168-3', '2169-1', '2170-9', '2171-7', '2172-5', '2173-3', \n",
    "             '2174-1', '2175-8', '2176-6', '2178-2', '2180-8', '2182-4', '2184-0']"
   ]
  },
  {
   "cell_type": "code",
   "execution_count": null,
   "id": "00002395",
   "metadata": {},
   "outputs": [],
   "source": [
    "#Other race & Other ethnic\n",
    "Other=['2131-1', '74964007']"
   ]
  },
  {
   "cell_type": "code",
   "execution_count": null,
   "id": "0303edc3",
   "metadata": {},
   "outputs": [],
   "source": [
    "NotHL=['2186-5']"
   ]
  },
  {
   "cell_type": "code",
   "execution_count": null,
   "id": "a909daf1",
   "metadata": {},
   "outputs": [],
   "source": [
    "#Asian or Pacific Islander ethnicity\n",
    "API_ethn=['413581001']"
   ]
  },
  {
   "cell_type": "code",
   "execution_count": null,
   "id": "7683481e",
   "metadata": {},
   "outputs": [],
   "source": [
    "#Unknown or not recorded, declined\n",
    "Unknown=['10241000175103', '312861003', '414808009', '415226007', \n",
    "               '415794004', '48861000175105', '312862005', 'NONE', 'None', 'PATIENT_DECLINED']"
   ]
  },
  {
   "cell_type": "code",
   "execution_count": null,
   "id": "924a8407",
   "metadata": {},
   "outputs": [],
   "source": [
    "Mixed=['414752008']"
   ]
  },
  {
   "cell_type": "markdown",
   "id": "95a7607d",
   "metadata": {},
   "source": [
    "## Geo Codes"
   ]
  },
  {
   "cell_type": "code",
   "execution_count": null,
   "id": "6aad5a3a",
   "metadata": {},
   "outputs": [],
   "source": [
    "Metropol=['metropolitan']"
   ]
  },
  {
   "cell_type": "code",
   "execution_count": null,
   "id": "4b3623bf",
   "metadata": {},
   "outputs": [],
   "source": [
    "Non_Metro=['non-metropolitan']"
   ]
  },
  {
   "cell_type": "code",
   "execution_count": null,
   "id": "1ccae861",
   "metadata": {},
   "outputs": [],
   "source": [
    "Urbn=['urban']"
   ]
  },
  {
   "cell_type": "code",
   "execution_count": null,
   "id": "7bd5cafb",
   "metadata": {},
   "outputs": [],
   "source": [
    "Rural=['rural']"
   ]
  },
  {
   "cell_type": "code",
   "execution_count": null,
   "id": "1ff1897c",
   "metadata": {},
   "outputs": [],
   "source": [
    "Unknown_geo=['none', 'None', 'NULL']"
   ]
  },
  {
   "cell_type": "markdown",
   "id": "2638de26",
   "metadata": {},
   "source": [
    "## Create race table from Demographics for CUA population"
   ]
  },
  {
   "cell_type": "code",
   "execution_count": null,
   "id": "78d1eed0",
   "metadata": {},
   "outputs": [],
   "source": [
    "spark.sql(\"use CUA_db\")"
   ]
  },
  {
   "cell_type": "code",
   "execution_count": null,
   "id": "d7461fb3",
   "metadata": {},
   "outputs": [],
   "source": [
    "## Skeleton To build from\n",
    "\n",
    "CUA= spark.sql(\"\"\"\n",
    "    SELECT *\n",
    "    FROM personid_table\n",
    "\"\"\")\n",
    "CUA"
   ]
  },
  {
   "cell_type": "code",
   "execution_count": null,
   "id": "6972c6df",
   "metadata": {},
   "outputs": [],
   "source": [
    "#CUA person ID list\n",
    "personid_list = list(CUA.select('personid').distinct().toPandas()['personid'])\n",
    "len(personid_list)"
   ]
  },
  {
   "cell_type": "code",
   "execution_count": null,
   "id": "d7fd3c67",
   "metadata": {},
   "outputs": [],
   "source": [
    "spark.sql(\"use real_world_data_jun_2023\")"
   ]
  },
  {
   "cell_type": "code",
   "execution_count": null,
   "id": "3905c948",
   "metadata": {},
   "outputs": [],
   "source": [
    "Race_code= spark.sql(\"\"\"\n",
    "    SELECT \n",
    "    personid, \n",
    "    races.standard.id[0] as race_id, \n",
    "    ethnicities.standard.id[0] as ethn_id,\n",
    "    testpatientflag\n",
    "    FROM demographics\n",
    "\"\"\")\n",
    "Race_code"
   ]
  },
  {
   "cell_type": "code",
   "execution_count": null,
   "id": "d24d8407",
   "metadata": {},
   "outputs": [],
   "source": [
    "race_table=Race_code.filter(col(\"personid\").isin(personid_list))"
   ]
  },
  {
   "cell_type": "code",
   "execution_count": null,
   "id": "b37d4a96",
   "metadata": {},
   "outputs": [],
   "source": [
    "race_table.select('personid').distinct().count()"
   ]
  },
  {
   "cell_type": "code",
   "execution_count": null,
   "id": "998a3a87",
   "metadata": {},
   "outputs": [],
   "source": [
    "true_patients=race_table.where(col('testpatientflag')==\"False\")"
   ]
  },
  {
   "cell_type": "code",
   "execution_count": null,
   "id": "323f94cd",
   "metadata": {},
   "outputs": [],
   "source": [
    "true_patients.select('personid').distinct().count()"
   ]
  },
  {
   "cell_type": "code",
   "execution_count": null,
   "id": "7385b36f",
   "metadata": {},
   "outputs": [],
   "source": [
    "Geo_pull= spark.sql(\"\"\"\n",
    "    SELECT \n",
    "    personid, \n",
    "    prefmetropolitan as Metro,\n",
    "    prefurban as Urban\n",
    "    FROM preferred_demographics\n",
    "\"\"\")\n",
    "Geo_pull"
   ]
  },
  {
   "cell_type": "code",
   "execution_count": null,
   "id": "39007e2d",
   "metadata": {},
   "outputs": [],
   "source": [
    "Geo_table=Geo_pull.filter(col(\"personid\").isin(personid_list))"
   ]
  },
  {
   "cell_type": "code",
   "execution_count": null,
   "id": "341bfdb3",
   "metadata": {},
   "outputs": [],
   "source": [
    "Geo_table.select('personid').distinct().count()"
   ]
  },
  {
   "cell_type": "code",
   "execution_count": null,
   "id": "f6ee52fc",
   "metadata": {},
   "outputs": [],
   "source": [
    "Geo_Race_CUA= true_patients.join(Geo_table, 'personid', 'left')\n",
    "Geo_Race_CUA.limit(5).toPandas()"
   ]
  },
  {
   "cell_type": "code",
   "execution_count": null,
   "id": "5a455b2c",
   "metadata": {},
   "outputs": [],
   "source": [
    "Geo_Race_CUA.select('personid').distinct().count()"
   ]
  },
  {
   "cell_type": "code",
   "execution_count": null,
   "id": "ba284a37",
   "metadata": {},
   "outputs": [],
   "source": [
    "geo_race_table=Geo_Race_CUA.drop('testpatientflag')"
   ]
  },
  {
   "cell_type": "code",
   "execution_count": null,
   "id": "bee5c82f",
   "metadata": {},
   "outputs": [],
   "source": [
    "geo_race_table.write.saveAsTable('CUA_db.geo_race')"
   ]
  },
  {
   "cell_type": "code",
   "execution_count": null,
   "id": "db88fd89",
   "metadata": {},
   "outputs": [],
   "source": []
  },
  {
   "cell_type": "markdown",
   "id": "dac52a2e",
   "metadata": {},
   "source": [
    "## Table pulls"
   ]
  },
  {
   "cell_type": "code",
   "execution_count": null,
   "id": "73962c90",
   "metadata": {},
   "outputs": [],
   "source": [
    "spark.sql(\"use CUA_db\")"
   ]
  },
  {
   "cell_type": "code",
   "execution_count": null,
   "id": "db86fe59",
   "metadata": {},
   "outputs": [],
   "source": [
    "Race_pull= spark.sql(\"\"\"\n",
    "    SELECT \n",
    "    personid, \n",
    "    race_id\n",
    "    FROM race_table\n",
    "\"\"\")\n",
    "Race_pull"
   ]
  },
  {
   "cell_type": "code",
   "execution_count": null,
   "id": "86149c0f",
   "metadata": {},
   "outputs": [],
   "source": [
    "Eth_pull= spark.sql(\"\"\"\n",
    "    SELECT \n",
    "    personid, \n",
    "    ethn_id\n",
    "    FROM race_table\n",
    "\"\"\")\n",
    "Eth_pull"
   ]
  },
  {
   "cell_type": "code",
   "execution_count": null,
   "id": "1f8f2332",
   "metadata": {},
   "outputs": [],
   "source": [
    "Urban_pull= spark.sql(\"\"\"\n",
    "    SELECT \n",
    "    personid, Urban\n",
    "    FROM geo_race\n",
    "\"\"\")\n",
    "Urban_pull"
   ]
  },
  {
   "cell_type": "code",
   "execution_count": null,
   "id": "78bb982a",
   "metadata": {},
   "outputs": [],
   "source": [
    "Metro_pull= spark.sql(\"\"\"\n",
    "    SELECT \n",
    "    personid, Metro\n",
    "    FROM geo_race\n",
    "\"\"\")\n",
    "Metro_pull"
   ]
  },
  {
   "cell_type": "markdown",
   "id": "828eab35",
   "metadata": {},
   "source": [
    "## Geo_Pulls"
   ]
  },
  {
   "cell_type": "markdown",
   "id": "5f0078d9",
   "metadata": {},
   "source": [
    "### Rural"
   ]
  },
  {
   "cell_type": "code",
   "execution_count": null,
   "id": "e2b89cc7",
   "metadata": {},
   "outputs": [],
   "source": [
    "Rural_geo = Urban_pull.withColumn(\n",
    "    \"rural\",\n",
    "    when(col(\"Urban\").isin(Rural), 1).otherwise(0))\n",
    "\n",
    "condition_column = 'rural'\n",
    "\n",
    "# Count the number of patients with the condition (where the column value is 1)\n",
    "\n",
    "filtered_rural = Rural_geo.filter(col(condition_column) == 1)\n",
    "\n",
    "count_with_condition = filtered_rural.count()\n",
    "\n",
    "# Show the count\n",
    "print(\"Number of rows with the condition:\", count_with_condition)\n",
    "\n",
    "Rural_geo1=Rural_geo.drop('Urban')\n",
    "\n",
    "Rural_geo1.limit(5).toPandas()"
   ]
  },
  {
   "cell_type": "code",
   "execution_count": null,
   "id": "39b19fa9",
   "metadata": {},
   "outputs": [],
   "source": [
    "filter_rural = Rural_geo1.filter(col(\"rural\") == 1)\n",
    "\n",
    "filter_rural\n",
    "\n",
    "distinct_rural=filter_rural.dropDuplicates(['personid'])\n",
    "\n",
    "distinct_rural.count()"
   ]
  },
  {
   "cell_type": "markdown",
   "id": "97c028ff",
   "metadata": {},
   "source": [
    "### Urban"
   ]
  },
  {
   "cell_type": "code",
   "execution_count": null,
   "id": "a1231c20",
   "metadata": {},
   "outputs": [],
   "source": [
    "urban_geo = Urban_pull.withColumn(\n",
    "    \"urbn\",\n",
    "    when(col(\"Urban\").isin(Urbn), 1).otherwise(0))\n",
    "\n",
    "condition_column = 'urbn'\n",
    "\n",
    "# Count the number of patients with the condition (where the column value is 1)\n",
    "\n",
    "filtered_urban = urban_geo.filter(col(condition_column) == 1)\n",
    "\n",
    "count_with_condition = filtered_urban.count()\n",
    "\n",
    "# Show the count\n",
    "print(\"Number of rows with the condition:\", count_with_condition)\n",
    "\n",
    "urban_geo1=urban_geo.drop('Urban')"
   ]
  },
  {
   "cell_type": "code",
   "execution_count": null,
   "id": "d7b56ec6",
   "metadata": {},
   "outputs": [],
   "source": [
    "filter_urban = urban_geo1.filter(col(\"urbn\") == 1)\n",
    "\n",
    "filter_urban\n",
    "\n",
    "distinct_urban=filter_urban.dropDuplicates(['personid'])\n",
    "\n",
    "distinct_urban.count()\n"
   ]
  },
  {
   "cell_type": "markdown",
   "id": "4ec3af73",
   "metadata": {},
   "source": [
    "### No info rural or urban"
   ]
  },
  {
   "cell_type": "code",
   "execution_count": null,
   "id": "80e9776b",
   "metadata": {},
   "outputs": [],
   "source": [
    "filtered_null2 = Urban_pull.withColumn(\"no_urban\", when(col(\"Urban\").isNull() | (col(\"Urban\") == \"None\"), 1).otherwise(0))"
   ]
  },
  {
   "cell_type": "code",
   "execution_count": null,
   "id": "29cf49de",
   "metadata": {},
   "outputs": [],
   "source": [
    "filter_ungeo = filtered_null2.filter(col(\"no_urban\") == 1)\n",
    "\n",
    "filter_ungeo\n",
    "\n",
    "distinct_ungeo=filter_ungeo.dropDuplicates(['personid'])\n",
    "\n",
    "distinct_ungeo.count()"
   ]
  },
  {
   "cell_type": "code",
   "execution_count": null,
   "id": "45c96b40",
   "metadata": {},
   "outputs": [],
   "source": [
    "clean_ungeo=distinct_ungeo.drop('Urban')"
   ]
  },
  {
   "cell_type": "markdown",
   "id": "d2aaeed8",
   "metadata": {},
   "source": [
    "### Metropolitan"
   ]
  },
  {
   "cell_type": "code",
   "execution_count": null,
   "id": "6199c0bf",
   "metadata": {},
   "outputs": [],
   "source": [
    "Metro_geo = Metro_pull.withColumn(\n",
    "    \"Metropol\",\n",
    "    when(col(\"Metro\").isin(Metropol), 1).otherwise(0))\n",
    "\n",
    "condition_column = 'Metropol'\n",
    "\n",
    "# Count the number of patients with the condition (where the column value is 1)\n",
    "\n",
    "filtered_metro_geo = Metro_geo.filter(col(condition_column) == 1)\n",
    "\n",
    "count_with_condition = filtered_metro_geo.count()\n",
    "\n",
    "# Show the count\n",
    "print(\"Number of rows with the condition:\", count_with_condition)\n",
    "\n",
    "Metro_geo1=Metro_geo.drop('Metro')"
   ]
  },
  {
   "cell_type": "code",
   "execution_count": null,
   "id": "d9b92d7a",
   "metadata": {},
   "outputs": [],
   "source": [
    "filter_Metro = Metro_geo1.filter(col(\"Metropol\") == 1)\n",
    "\n",
    "filter_Metro\n",
    "\n",
    "distinct_Metro=filter_Metro.dropDuplicates(['personid'])\n",
    "\n",
    "distinct_Metro.count()"
   ]
  },
  {
   "cell_type": "markdown",
   "id": "bc23662e",
   "metadata": {},
   "source": [
    "### Non-metropolitan"
   ]
  },
  {
   "cell_type": "code",
   "execution_count": null,
   "id": "54e0439b",
   "metadata": {},
   "outputs": [],
   "source": [
    "Non_metro_geo = Metro_pull.withColumn(\n",
    "    \"Non_metro\",\n",
    "    when(col(\"Metro\").isin(Non_Metro), 1).otherwise(0))\n",
    "\n",
    "condition_column = 'Non_metro'\n",
    "\n",
    "# Count the number of patients with the condition (where the column value is 1)\n",
    "\n",
    "filtered_Non_metro_geo = Non_metro_geo.filter(col(condition_column) == 1)\n",
    "\n",
    "count_with_condition = filtered_Non_metro_geo.count()\n",
    "\n",
    "# Show the count\n",
    "print(\"Number of rows with the condition:\", count_with_condition)\n",
    "\n",
    "Non_Metro_geo1=Non_metro_geo.drop('Metro')"
   ]
  },
  {
   "cell_type": "code",
   "execution_count": null,
   "id": "fd99d371",
   "metadata": {},
   "outputs": [],
   "source": [
    "filter_Non_metro = Non_Metro_geo1.filter(col(\"Non_metro\") == 1)\n",
    "\n",
    "filter_Non_metro\n",
    "\n",
    "distinct_Non_metro=filter_Non_metro.dropDuplicates(['personid'])\n",
    "\n",
    "distinct_Non_metro.count()"
   ]
  },
  {
   "cell_type": "markdown",
   "id": "d9a38cc9",
   "metadata": {},
   "source": [
    "### No metropolitan information"
   ]
  },
  {
   "cell_type": "code",
   "execution_count": null,
   "id": "b39a22d3",
   "metadata": {},
   "outputs": [],
   "source": [
    "filtered_unmetro = Metro_pull.withColumn(\"no_metro\", when(col(\"Metro\").isNull() | (col(\"Metro\") == \"None\"), 1).otherwise(0))"
   ]
  },
  {
   "cell_type": "code",
   "execution_count": null,
   "id": "82ed623c",
   "metadata": {},
   "outputs": [],
   "source": [
    "filter_unmetro2 = filtered_unmetro.filter(col(\"no_metro\") == 1)\n",
    "\n",
    "filter_unmetro2\n",
    "\n",
    "distinct_unmetro2=filter_unmetro2.dropDuplicates(['personid'])\n",
    "\n",
    "distinct_unmetro2.count()"
   ]
  },
  {
   "cell_type": "code",
   "execution_count": null,
   "id": "263f3a74",
   "metadata": {},
   "outputs": [],
   "source": [
    "clean_unmetro=distinct_unmetro2.drop('metro')"
   ]
  },
  {
   "cell_type": "code",
   "execution_count": null,
   "id": "c611e690",
   "metadata": {},
   "outputs": [],
   "source": [
    "clean_unmetro.limit(5).toPandas()"
   ]
  },
  {
   "cell_type": "markdown",
   "id": "9cd9ded4",
   "metadata": {},
   "source": [
    "### American Indian Alaskan Native"
   ]
  },
  {
   "cell_type": "code",
   "execution_count": null,
   "id": "778c9d52",
   "metadata": {},
   "outputs": [],
   "source": [
    "AIAN_race = Race_pull.withColumn(\n",
    "    \"AIAN\",\n",
    "    when(col(\"race_id\").isin(AIAN), 1).otherwise(0))\n",
    "\n",
    "condition_column = 'AIAN'\n",
    "\n",
    "# Count the number of patients with the condition (where the column value is 1)\n",
    "\n",
    "filtered_AIAN = AIAN_race.filter(col(condition_column) == 1)\n",
    "\n",
    "count_with_condition = filtered_AIAN.count()\n",
    "\n",
    "# Show the count\n",
    "print(\"Number of rows with the condition:\", count_with_condition)"
   ]
  },
  {
   "cell_type": "code",
   "execution_count": null,
   "id": "6f4ef25d",
   "metadata": {},
   "outputs": [],
   "source": [
    "AIAN_ethn = Eth_pull.withColumn(\n",
    "    \"AIAN\",\n",
    "    when(col(\"ethn_id\").isin(AIAN), 1).otherwise(0))\n",
    "\n",
    "condition_column = 'AIAN'\n",
    "\n",
    "# Count the number of patients with the condition (where the column value is 1)\n",
    "\n",
    "filtered_AIAN1 = AIAN_ethn.filter(col(condition_column) == 1)\n",
    "\n",
    "count_with_condition = filtered_AIAN1.count()\n",
    "\n",
    "# Show the count\n",
    "print(\"Number of rows with the condition:\", count_with_condition)\n",
    "##NOTE- Yielded 0 results, did not combine"
   ]
  },
  {
   "cell_type": "code",
   "execution_count": null,
   "id": "33c34405",
   "metadata": {},
   "outputs": [],
   "source": [
    "#AIAN_ethn1=AIAN_ethn.drop('ethn_id', 'ethn_display')\n",
    "AIAN_race1=AIAN_race.drop('race_id')"
   ]
  },
  {
   "cell_type": "code",
   "execution_count": null,
   "id": "0e5961cd",
   "metadata": {},
   "outputs": [],
   "source": [
    "filter_AINA = AIAN_race1.filter(col(\"AIAN\") == 1)\n",
    "\n",
    "filter_AINA\n",
    "\n",
    "distinct_AINA=filter_AINA.dropDuplicates(['personid'])\n",
    "\n",
    "distinct_AINA.count()"
   ]
  },
  {
   "cell_type": "markdown",
   "id": "40e1441e",
   "metadata": {},
   "source": [
    "### Native Hawaiian Pacific Islander"
   ]
  },
  {
   "cell_type": "code",
   "execution_count": null,
   "id": "e29c3564",
   "metadata": {},
   "outputs": [],
   "source": [
    "NHPI_race = Race_pull.withColumn(\n",
    "    \"NHPI\",\n",
    "    when(col(\"race_id\").isin(NHPI), 1).otherwise(0))\n",
    "\n",
    "condition_column = 'NHPI'\n",
    "\n",
    "# Count the number of patients with the condition (where the column value is 1)\n",
    "\n",
    "filtered_NHPI = NHPI_race.filter(col(condition_column) == 1)\n",
    "\n",
    "count_with_condition = filtered_NHPI.count()\n",
    "\n",
    "# Show the count\n",
    "print(\"Number of rows with the condition:\", count_with_condition)"
   ]
  },
  {
   "cell_type": "code",
   "execution_count": null,
   "id": "84df2c60",
   "metadata": {},
   "outputs": [],
   "source": [
    "NHPI_ethn = Eth_pull.withColumn(\n",
    "    \"NHPI\",\n",
    "    when(col(\"ethn_id\").isin(NHPI), 1).otherwise(0))\n",
    "\n",
    "condition_column = 'NHPI'\n",
    "\n",
    "# Count the number of patients with the condition (where the column value is 1)\n",
    "\n",
    "filtered_NHPI1 = NHPI_ethn.filter(col(condition_column) == 1)\n",
    "\n",
    "count_with_condition = filtered_NHPI1.count()\n",
    "\n",
    "# Show the count\n",
    "print(\"Number of rows with the condition:\", count_with_condition)\n",
    "\n",
    "##NOTE- Yielded 0 results, did not combine"
   ]
  },
  {
   "cell_type": "code",
   "execution_count": null,
   "id": "607f8ab0",
   "metadata": {},
   "outputs": [],
   "source": [
    "NHPI_race1=NHPI_race.drop('race_id')\n",
    "NHPI_race1.limit(5).toPandas()"
   ]
  },
  {
   "cell_type": "code",
   "execution_count": null,
   "id": "db062bc3",
   "metadata": {},
   "outputs": [],
   "source": [
    "filter_NHPI = NHPI_race1.filter(col(\"NHPI\") == 1)\n",
    "\n",
    "filter_NHPI\n",
    "\n",
    "distinct_NHPI=filter_NHPI.dropDuplicates(['personid'])\n",
    "\n",
    "distinct_NHPI.count()"
   ]
  },
  {
   "cell_type": "markdown",
   "id": "9ffcf21b",
   "metadata": {},
   "source": [
    "### Asian"
   ]
  },
  {
   "cell_type": "code",
   "execution_count": null,
   "id": "a9b89396",
   "metadata": {},
   "outputs": [],
   "source": [
    "Asian_race = Race_pull.withColumn(\n",
    "    \"Asian\",\n",
    "    when(col(\"race_id\").isin(Asian), 1).otherwise(0))\n",
    "\n",
    "condition_column = 'Asian'\n",
    "\n",
    "# Count the number of patients with the condition (where the column value is 1)\n",
    "\n",
    "filtered_Asian = Asian_race.filter(col(condition_column) == 1)\n",
    "\n",
    "count_with_condition = filtered_Asian.count()\n",
    "\n",
    "# Show the count\n",
    "print(\"Number of rows with the condition:\", count_with_condition)"
   ]
  },
  {
   "cell_type": "code",
   "execution_count": null,
   "id": "729a536d",
   "metadata": {},
   "outputs": [],
   "source": [
    "Asian_ethn = Eth_pull.withColumn(\n",
    "    \"Asian\",\n",
    "    when(col(\"ethn_id\").isin(Asian), 1).otherwise(0))\n",
    "\n",
    "condition_column = 'Asian'\n",
    "\n",
    "# Count the number of patients with the condition (where the column value is 1)\n",
    "\n",
    "filtered_Asian2 = Asian_ethn.filter(col(condition_column) == 1)\n",
    "\n",
    "count_with_condition = filtered_Asian2.count()\n",
    "\n",
    "# Show the count\n",
    "print(\"Number of rows with the condition:\", count_with_condition)\n",
    "\n",
    "##Note- yielded 0 results"
   ]
  },
  {
   "cell_type": "code",
   "execution_count": null,
   "id": "0808c168",
   "metadata": {},
   "outputs": [],
   "source": [
    "Asian_race1=Asian_race.drop('race_id')"
   ]
  },
  {
   "cell_type": "code",
   "execution_count": null,
   "id": "063962d6",
   "metadata": {},
   "outputs": [],
   "source": [
    "filter_Asian = Asian_race1.filter(col(\"Asian\") == 1)\n",
    "\n",
    "filter_Asian\n",
    "\n",
    "distinct_Asian=filter_Asian.dropDuplicates(['personid'])\n",
    "\n",
    "distinct_Asian.count()"
   ]
  },
  {
   "cell_type": "markdown",
   "id": "6a231dd6",
   "metadata": {},
   "source": [
    "### Black"
   ]
  },
  {
   "cell_type": "code",
   "execution_count": null,
   "id": "f0f11d47",
   "metadata": {},
   "outputs": [],
   "source": [
    "Black_race = Race_pull.withColumn(\n",
    "    \"Black\",\n",
    "    when(col(\"race_id\").isin(Black), 1).otherwise(0))\n",
    "\n",
    "condition_column = 'Black'\n",
    "\n",
    "# Count the number of patients with the condition (where the column value is 1)\n",
    "\n",
    "filtered_Black = Black_race.filter(col(condition_column) == 1)\n",
    "\n",
    "count_with_condition = filtered_Black.count()\n",
    "\n",
    "# Show the count\n",
    "print(\"Number of rows with the condition:\", count_with_condition)"
   ]
  },
  {
   "cell_type": "code",
   "execution_count": null,
   "id": "60ce156d",
   "metadata": {},
   "outputs": [],
   "source": [
    "Black_ethn = Eth_pull.withColumn(\n",
    "    \"Black\",\n",
    "    when(col(\"ethn_id\").isin(Black), 1).otherwise(0))\n",
    "\n",
    "condition_column = 'Black'\n",
    "\n",
    "# Count the number of patients with the condition (where the column value is 1)\n",
    "\n",
    "filtered_Black2 = Black_ethn.filter(col(condition_column) == 1)\n",
    "\n",
    "count_with_condition = filtered_Black2.count()\n",
    "\n",
    "# Show the count\n",
    "print(\"Number of rows with the condition:\", count_with_condition)\n",
    "\n",
    "##Note yielded 0 results"
   ]
  },
  {
   "cell_type": "code",
   "execution_count": null,
   "id": "8a6344d4",
   "metadata": {},
   "outputs": [],
   "source": [
    "Black_race1=Black_race.drop('race_id')\n",
    "Black_race1.limit(5).toPandas()"
   ]
  },
  {
   "cell_type": "code",
   "execution_count": null,
   "id": "df269ac7",
   "metadata": {},
   "outputs": [],
   "source": [
    "filter_Black = Black_race1.filter(col(\"Black\") == 1)\n",
    "\n",
    "filter_Black\n",
    "\n",
    "distinct_Black=filter_Black.dropDuplicates(['personid'])\n",
    "\n",
    "distinct_Black.count()"
   ]
  },
  {
   "cell_type": "markdown",
   "id": "ba27b3ed",
   "metadata": {},
   "source": [
    "### White"
   ]
  },
  {
   "cell_type": "code",
   "execution_count": null,
   "id": "5a34f40c",
   "metadata": {},
   "outputs": [],
   "source": [
    "White_race = Race_pull.withColumn(\n",
    "    \"White\",\n",
    "    when(col(\"race_id\").isin(White), 1).otherwise(0))\n",
    "\n",
    "condition_column = 'White'\n",
    "\n",
    "# Count the number of patients with the condition (where the column value is 1)\n",
    "\n",
    "filtered_White = White_race.filter(col(condition_column) == 1)\n",
    "\n",
    "count_with_condition = filtered_White.count()\n",
    "\n",
    "# Show the count\n",
    "print(\"Number of rows with the condition:\", count_with_condition)"
   ]
  },
  {
   "cell_type": "code",
   "execution_count": null,
   "id": "f006b77b",
   "metadata": {},
   "outputs": [],
   "source": [
    "White_ethn = Eth_pull.withColumn(\n",
    "    \"White\",\n",
    "    when(col(\"ethn_id\").isin(White), 1).otherwise(0))\n",
    "\n",
    "condition_column = 'White'\n",
    "\n",
    "# Count the number of patients with the condition (where the column value is 1)\n",
    "\n",
    "filtered_White2 = White_ethn.filter(col(condition_column) == 1)\n",
    "\n",
    "count_with_condition = filtered_White2.count()\n",
    "\n",
    "# Show the count\n",
    "print(\"Number of rows with the condition:\", count_with_condition)\n",
    "\n",
    "##Note- yielded 0 results"
   ]
  },
  {
   "cell_type": "code",
   "execution_count": null,
   "id": "77c4367e",
   "metadata": {},
   "outputs": [],
   "source": [
    "White_race1=White_race.drop('race_id')\n",
    "White_race1.limit(5).toPandas()"
   ]
  },
  {
   "cell_type": "code",
   "execution_count": null,
   "id": "4dde388f",
   "metadata": {},
   "outputs": [],
   "source": [
    "filter_White = White_race1.filter(col(\"White\") == 1)\n",
    "\n",
    "filter_White\n",
    "\n",
    "distinct_White=filter_White.dropDuplicates(['personid'])\n",
    "\n",
    "distinct_White.count()"
   ]
  },
  {
   "cell_type": "markdown",
   "id": "15b9868a",
   "metadata": {},
   "source": [
    "### Middle Eastern North African"
   ]
  },
  {
   "cell_type": "code",
   "execution_count": null,
   "id": "c2ddc8e0",
   "metadata": {},
   "outputs": [],
   "source": [
    "MENA_race = Race_pull.withColumn(\n",
    "    \"MENA\",\n",
    "    when(col(\"race_id\").isin(MENA), 1).otherwise(0))\n",
    "\n",
    "condition_column = 'MENA'\n",
    "\n",
    "# Count the number of patients with the condition (where the column value is 1)\n",
    "\n",
    "filtered_MENA = MENA_race.filter(col(condition_column) == 1)\n",
    "\n",
    "count_with_condition = filtered_MENA.count()\n",
    "\n",
    "# Show the count\n",
    "print(\"Number of rows with the condition:\", count_with_condition)"
   ]
  },
  {
   "cell_type": "code",
   "execution_count": null,
   "id": "ef340a3a",
   "metadata": {},
   "outputs": [],
   "source": [
    "MENA_ethn = Eth_pull.withColumn(\n",
    "    \"MENA\",\n",
    "    when(col(\"ethn_id\").isin(White), 1).otherwise(0))\n",
    "\n",
    "condition_column = 'MENA'\n",
    "\n",
    "# Count the number of patients with the condition (where the column value is 1)\n",
    "\n",
    "filtered_MENA2 = MENA_ethn.filter(col(condition_column) == 1)\n",
    "\n",
    "count_with_condition = filtered_MENA2.count()\n",
    "\n",
    "# Show the count\n",
    "print(\"Number of rows with the condition:\", count_with_condition)\n",
    "\n",
    "##Note- yielded 0 results"
   ]
  },
  {
   "cell_type": "code",
   "execution_count": null,
   "id": "1252d8b1",
   "metadata": {},
   "outputs": [],
   "source": [
    "MENA_race1=MENA_race.drop('race_id')\n",
    "MENA_race1.limit(5).toPandas()"
   ]
  },
  {
   "cell_type": "code",
   "execution_count": null,
   "id": "47d5e6a3",
   "metadata": {},
   "outputs": [],
   "source": [
    "filter_MENA = MENA_race1.filter(col(\"MENA\") == 1)\n",
    "\n",
    "filter_MENA\n",
    "\n",
    "distinct_MENA=filter_MENA.dropDuplicates(['personid'])\n",
    "\n",
    "distinct_MENA.count()"
   ]
  },
  {
   "cell_type": "markdown",
   "id": "05899b71",
   "metadata": {},
   "source": [
    "### Hispanic/ Latino"
   ]
  },
  {
   "cell_type": "code",
   "execution_count": null,
   "id": "7da50e9c",
   "metadata": {},
   "outputs": [],
   "source": [
    "Hisp_Latino_race = Race_pull.withColumn(\n",
    "    \"Hisp_Latino\",\n",
    "    when(col(\"race_id\").isin(Hisp_Latino), 1).otherwise(0))\n",
    "\n",
    "condition_column = 'Hisp_Latino'\n",
    "\n",
    "# Count the number of patients with the condition (where the column value is 1)\n",
    "\n",
    "filtered_Hisp_Latino = Hisp_Latino_race.filter(col(condition_column) == 1)\n",
    "\n",
    "count_with_condition = filtered_Hisp_Latino.count()\n",
    "\n",
    "# Show the count\n",
    "print(\"Number of rows with the condition:\", count_with_condition)"
   ]
  },
  {
   "cell_type": "code",
   "execution_count": null,
   "id": "23fd02a3",
   "metadata": {},
   "outputs": [],
   "source": [
    "Hisp_Latino_ethn = Eth_pull.withColumn(\n",
    "    \"Hisp_Latino\",\n",
    "    when(col(\"ethn_id\").isin(Hisp_Latino), 1).otherwise(0))\n",
    "\n",
    "condition_column = 'Hisp_Latino'\n",
    "\n",
    "# Count the number of patients with the condition (where the column value is 1)\n",
    "\n",
    "filtered_Hisp_Latino2 = Hisp_Latino_ethn.filter(col(condition_column) == 1)\n",
    "\n",
    "count_with_condition = filtered_Hisp_Latino2.count()\n",
    "\n",
    "# Show the count\n",
    "print(\"Number of rows with the condition:\", count_with_condition)"
   ]
  },
  {
   "cell_type": "code",
   "execution_count": null,
   "id": "1d975197",
   "metadata": {},
   "outputs": [],
   "source": [
    "Hisp_Latino_race.limit(5).toPandas()\n",
    "Hisp_Latino_race.count()"
   ]
  },
  {
   "cell_type": "code",
   "execution_count": null,
   "id": "177e390c",
   "metadata": {},
   "outputs": [],
   "source": [
    "Hisp_Latino_ethn.limit(5).toPandas()\n",
    "Hisp_Latino_ethn.count()"
   ]
  },
  {
   "cell_type": "code",
   "execution_count": null,
   "id": "a4d23db8",
   "metadata": {},
   "outputs": [],
   "source": [
    "Hisp_Latino_ethn1=Hisp_Latino_ethn.drop('ethn_id')\n",
    "Hisp_Latino_race1=Hisp_Latino_race.drop('race_id')"
   ]
  },
  {
   "cell_type": "code",
   "execution_count": null,
   "id": "5a84fb97",
   "metadata": {},
   "outputs": [],
   "source": [
    "combined_Hisp_Latino=Hisp_Latino_race1.union(Hisp_Latino_ethn1)"
   ]
  },
  {
   "cell_type": "code",
   "execution_count": null,
   "id": "7311bf2f",
   "metadata": {},
   "outputs": [],
   "source": [
    "Hisp_Latino_distinct=combined_Hisp_Latino.dropDuplicates()"
   ]
  },
  {
   "cell_type": "code",
   "execution_count": null,
   "id": "98395618",
   "metadata": {},
   "outputs": [],
   "source": [
    "Hisp_Latino_distinct.count()"
   ]
  },
  {
   "cell_type": "code",
   "execution_count": null,
   "id": "1050bcac",
   "metadata": {},
   "outputs": [],
   "source": [
    "filter_Hisp_Latino = combined_Hisp_Latino.filter(col(\"Hisp_Latino\") == 1)\n",
    "\n",
    "filter_Hisp_Latino\n",
    "\n",
    "distinct_Hisp_Latino=filter_Hisp_Latino.dropDuplicates(['personid'])\n",
    "\n",
    "distinct_Hisp_Latino.count()"
   ]
  },
  {
   "cell_type": "markdown",
   "id": "765838e4",
   "metadata": {},
   "source": [
    "### Other Race classification"
   ]
  },
  {
   "cell_type": "code",
   "execution_count": null,
   "id": "6cebf4ce",
   "metadata": {},
   "outputs": [],
   "source": [
    "Other_race = Race_pull.withColumn(\n",
    "    \"Other\",\n",
    "    when(col(\"race_id\").isin(Other), 1).otherwise(0))\n",
    "\n",
    "condition_column = 'Other'\n",
    "\n",
    "# Count the number of patients with the condition (where the column value is 1)\n",
    "\n",
    "filtered_Other = Other_race.filter(col(condition_column) == 1)\n",
    "\n",
    "count_with_condition = filtered_Other.count()\n",
    "\n",
    "# Show the count\n",
    "print(\"Number of rows with the condition:\", count_with_condition)"
   ]
  },
  {
   "cell_type": "code",
   "execution_count": null,
   "id": "f96ffa94",
   "metadata": {},
   "outputs": [],
   "source": [
    "Other_ethn = Eth_pull.withColumn(\n",
    "    \"Other\",\n",
    "    when(col(\"ethn_id\").isin(Other), 1).otherwise(0))\n",
    "\n",
    "condition_column = 'Other'\n",
    "\n",
    "# Count the number of patients with the condition (where the column value is 1)\n",
    "\n",
    "filtered_Other2 = Other_ethn.filter(col(condition_column) == 1)\n",
    "\n",
    "count_with_condition = filtered_Other2.count()\n",
    "\n",
    "# Show the count\n",
    "print(\"Number of rows with the condition:\", count_with_condition)"
   ]
  },
  {
   "cell_type": "code",
   "execution_count": null,
   "id": "acab402b",
   "metadata": {},
   "outputs": [],
   "source": [
    "Other_race.limit(5).toPandas()\n",
    "Other_race.count()"
   ]
  },
  {
   "cell_type": "code",
   "execution_count": null,
   "id": "4ca92267",
   "metadata": {},
   "outputs": [],
   "source": [
    "Other_ethn.limit(5).toPandas()\n",
    "Other_ethn.count()"
   ]
  },
  {
   "cell_type": "code",
   "execution_count": null,
   "id": "3fd5b081",
   "metadata": {},
   "outputs": [],
   "source": [
    "Other_ethn1=Other_ethn.drop('ethn_id')\n",
    "Other_race1=Other_race.drop('race_id')"
   ]
  },
  {
   "cell_type": "code",
   "execution_count": null,
   "id": "4a6b5b5d",
   "metadata": {},
   "outputs": [],
   "source": [
    "combined_Other=Other_race1.union(Other_ethn1)\n",
    "Other_distinct=combined_Other.dropDuplicates()\n",
    "Other_distinct.count()"
   ]
  },
  {
   "cell_type": "code",
   "execution_count": null,
   "id": "dd483f4d",
   "metadata": {},
   "outputs": [],
   "source": [
    "filter_Other = combined_Other.filter(col(\"Other\") == 1)\n",
    "\n",
    "filter_Other\n",
    "\n",
    "distinct_Other=filter_Other.dropDuplicates(['personid'])\n",
    "\n",
    "distinct_Other.count()"
   ]
  },
  {
   "cell_type": "markdown",
   "id": "b48bfabf",
   "metadata": {},
   "source": [
    "### Not Hispanic/ Latino Ethnicity"
   ]
  },
  {
   "cell_type": "code",
   "execution_count": null,
   "id": "7f9f17d3",
   "metadata": {},
   "outputs": [],
   "source": [
    "NotHL_race = Race_pull.withColumn(\n",
    "    \"NotHL\",\n",
    "    when(col(\"race_id\").isin(NotHL), 1).otherwise(0))\n",
    "\n",
    "condition_column = 'NotHL'\n",
    "\n",
    "# Count the number of patients with the condition (where the column value is 1)\n",
    "\n",
    "filtered_NotHL = NotHL_race.filter(col(condition_column) == 1)\n",
    "\n",
    "count_with_condition = filtered_NotHL.count()\n",
    "\n",
    "# Show the count\n",
    "print(\"Number of rows with the condition:\", count_with_condition)\n",
    "\n",
    "## Yielded 0 results"
   ]
  },
  {
   "cell_type": "code",
   "execution_count": null,
   "id": "5a3c6aaa",
   "metadata": {},
   "outputs": [],
   "source": [
    "NotHL_ethn = Eth_pull.withColumn(\n",
    "    \"NotHL\",\n",
    "    when(col(\"ethn_id\").isin(NotHL), 1).otherwise(0))\n",
    "\n",
    "condition_column = 'NotHL'\n",
    "\n",
    "# Count the number of patients with the condition (where the column value is 1)\n",
    "\n",
    "filtered_NotHL2 = NotHL_ethn.filter(col(condition_column) == 1)\n",
    "\n",
    "count_with_condition = filtered_NotHL2.count()\n",
    "\n",
    "# Show the count\n",
    "print(\"Number of rows with the condition:\", count_with_condition)"
   ]
  },
  {
   "cell_type": "code",
   "execution_count": null,
   "id": "de39dc23",
   "metadata": {},
   "outputs": [],
   "source": [
    "NotHL_ethn.limit(5).toPandas()\n",
    "NotHL_ethn.count()"
   ]
  },
  {
   "cell_type": "code",
   "execution_count": null,
   "id": "031b76fa",
   "metadata": {},
   "outputs": [],
   "source": [
    "NotHL_ethn1=NotHL_ethn.drop('ethn_id')"
   ]
  },
  {
   "cell_type": "code",
   "execution_count": null,
   "id": "f26c3b58",
   "metadata": {},
   "outputs": [],
   "source": [
    "filter_NotHL = NotHL_ethn1.filter(col(\"NotHL\") == 1)\n",
    "\n",
    "filter_NotHL\n",
    "\n",
    "distinct_NotHL=filter_NotHL.dropDuplicates(['personid'])\n",
    "\n",
    "distinct_NotHL.count()"
   ]
  },
  {
   "cell_type": "code",
   "execution_count": null,
   "id": "24efc958",
   "metadata": {},
   "outputs": [],
   "source": [
    "combined_NotHL=NotHL_race1.union(NotHL_ethn1)\n",
    "NotHL_distinct=combined_NotHL.dropDuplicates()\n",
    "NotHL_distinct.count()"
   ]
  },
  {
   "cell_type": "markdown",
   "id": "33552290",
   "metadata": {},
   "source": [
    "### Asian or Pacific Islander Ethnicity"
   ]
  },
  {
   "cell_type": "code",
   "execution_count": null,
   "id": "deeffd77",
   "metadata": {},
   "outputs": [],
   "source": [
    "API_ethn_race = Race_pull.withColumn(\n",
    "    \"API_ethn\",\n",
    "    when(col(\"race_id\").isin(API_ethn), 1).otherwise(0))\n",
    "\n",
    "condition_column = 'API_ethn'\n",
    "\n",
    "# Count the number of patients with the condition (where the column value is 1)\n",
    "\n",
    "filtered_API_ethn = API_ethn_race.filter(col(condition_column) == 1)\n",
    "\n",
    "count_with_condition = filtered_API_ethn.count()\n",
    "\n",
    "# Show the count\n",
    "print(\"Number of rows with the condition:\", count_with_condition)"
   ]
  },
  {
   "cell_type": "code",
   "execution_count": null,
   "id": "8d29f3a9",
   "metadata": {},
   "outputs": [],
   "source": [
    "API_ethn_ethn = Eth_pull.withColumn(\n",
    "    \"API_ethn\",\n",
    "    when(col(\"ethn_id\").isin(API_ethn), 1).otherwise(0))\n",
    "\n",
    "condition_column = 'API_ethn'\n",
    "\n",
    "# Count the number of patients with the condition (where the column value is 1)\n",
    "\n",
    "filtered_API_ethn2 = API_ethn_ethn.filter(col(condition_column) == 1)\n",
    "\n",
    "count_with_condition = filtered_API_ethn2.count()\n",
    "\n",
    "# Show the count\n",
    "print(\"Number of rows with the condition:\", count_with_condition)\n",
    "\n",
    "##Note-yielded 0 results"
   ]
  },
  {
   "cell_type": "code",
   "execution_count": null,
   "id": "a8f3063d",
   "metadata": {},
   "outputs": [],
   "source": [
    "API_ethn_race1=API_ethn_race.drop('race_id')"
   ]
  },
  {
   "cell_type": "code",
   "execution_count": null,
   "id": "5ca1a2bc",
   "metadata": {},
   "outputs": [],
   "source": [
    "filter_API_ethn = API_ethn_race1.filter(col(\"API_ethn\") == 1)\n",
    "\n",
    "filter_API_ethn\n",
    "\n",
    "distinct_API_ethn=filter_API_ethn.dropDuplicates(['personid'])\n",
    "\n",
    "distinct_API_ethn.count()"
   ]
  },
  {
   "cell_type": "markdown",
   "id": "56cfb563",
   "metadata": {},
   "source": [
    "### Mixed Race"
   ]
  },
  {
   "cell_type": "code",
   "execution_count": null,
   "id": "33d7792d",
   "metadata": {},
   "outputs": [],
   "source": [
    "Mixed_race = Race_pull.withColumn(\n",
    "    \"Mixed\",\n",
    "    when(col(\"race_id\").isin(Mixed), 1).otherwise(0))\n",
    "\n",
    "condition_column = 'Mixed'\n",
    "\n",
    "# Count the number of patients with the condition (where the column value is 1)\n",
    "\n",
    "filtered_Mixed = Mixed_race.filter(col(condition_column) == 1)\n",
    "\n",
    "count_with_condition = filtered_Mixed.count()\n",
    "\n",
    "# Show the count\n",
    "print(\"Number of rows with the condition:\", count_with_condition)"
   ]
  },
  {
   "cell_type": "code",
   "execution_count": null,
   "id": "e5626b8f",
   "metadata": {},
   "outputs": [],
   "source": [
    "Mixed_ethn = Eth_pull.withColumn(\n",
    "    \"Mixed\",\n",
    "    when(col(\"ethn_id\").isin(Mixed), 1).otherwise(0))\n",
    "\n",
    "condition_column = 'Mixed'\n",
    "\n",
    "# Count the number of patients with the condition (where the column value is 1)\n",
    "\n",
    "filtered_Mixed2 = Mixed_ethn.filter(col(condition_column) == 1)\n",
    "\n",
    "count_with_condition = filtered_Mixed2.count()\n",
    "\n",
    "# Show the count\n",
    "print(\"Number of rows with the condition:\", count_with_condition)\n",
    "\n",
    "### Note- yielded 0 results"
   ]
  },
  {
   "cell_type": "code",
   "execution_count": null,
   "id": "e49e94c3",
   "metadata": {},
   "outputs": [],
   "source": [
    "Mixed_race1=Mixed_race.drop('race_id')"
   ]
  },
  {
   "cell_type": "code",
   "execution_count": null,
   "id": "ed23e647",
   "metadata": {},
   "outputs": [],
   "source": [
    "filter_Mixed = Mixed_race1.filter(col(\"Mixed\") == 1)\n",
    "\n",
    "filter_Mixed\n",
    "\n",
    "distinct_Mixed=filter_Mixed.dropDuplicates(['personid'])\n",
    "\n",
    "distinct_Mixed.count()"
   ]
  },
  {
   "cell_type": "markdown",
   "id": "2d0714c2",
   "metadata": {},
   "source": [
    "### Unknown Race Classification"
   ]
  },
  {
   "cell_type": "code",
   "execution_count": null,
   "id": "6da93e78",
   "metadata": {},
   "outputs": [],
   "source": [
    "Unknown_race = Race_pull.withColumn(\n",
    "    \"Unknown\",\n",
    "    when(col(\"race_id\").isin(Unknown), 1).otherwise(0))\n",
    "\n",
    "condition_column = 'Unknown'\n",
    "\n",
    "# Count the number of patients with the condition (where the column value is 1)\n",
    "\n",
    "filtered_Unknown = Unknown_race.filter(col(condition_column) == 1)\n",
    "\n",
    "count_with_condition = filtered_Unknown.count()\n",
    "\n",
    "# Show the count\n",
    "print(\"Number of rows with the condition:\", count_with_condition)"
   ]
  },
  {
   "cell_type": "code",
   "execution_count": null,
   "id": "622a0bce",
   "metadata": {},
   "outputs": [],
   "source": [
    "Unknown_ethn = Eth_pull.withColumn(\n",
    "    \"Unknown\",\n",
    "    when(col(\"ethn_id\").isin(Unknown), 1).otherwise(0))\n",
    "\n",
    "condition_column = 'Unknown'\n",
    "\n",
    "# Count the number of patients with the condition (where the column value is 1)\n",
    "\n",
    "filtered_Unknown2 = Unknown_ethn.filter(col(condition_column) == 1)\n",
    "\n",
    "count_with_condition = filtered_Unknown2.count()\n",
    "\n",
    "# Show the count\n",
    "print(\"Number of rows with the condition:\", count_with_condition)"
   ]
  },
  {
   "cell_type": "code",
   "execution_count": null,
   "id": "9d1b2a21",
   "metadata": {},
   "outputs": [],
   "source": [
    "Unknown_race.limit(5).toPandas()\n",
    "Unknown_race.count()"
   ]
  },
  {
   "cell_type": "code",
   "execution_count": null,
   "id": "057193b6",
   "metadata": {},
   "outputs": [],
   "source": [
    "Unknown_ethn.limit(5).toPandas()\n",
    "Unknown_ethn.count()"
   ]
  },
  {
   "cell_type": "code",
   "execution_count": null,
   "id": "075f8569",
   "metadata": {},
   "outputs": [],
   "source": [
    "Unknown_ethn1=Unknown_ethn.drop('ethn_id')\n",
    "Unknown_race1=Unknown_race.drop('race_id')"
   ]
  },
  {
   "cell_type": "code",
   "execution_count": null,
   "id": "de2cafa7",
   "metadata": {},
   "outputs": [],
   "source": [
    "combined_Unknown=Unknown_race1.union(Unknown_ethn1)\n",
    "Unknown_distinct=combined_Unknown.dropDuplicates()\n",
    "Unknown_distinct.count()"
   ]
  },
  {
   "cell_type": "code",
   "execution_count": null,
   "id": "e3585d19",
   "metadata": {},
   "outputs": [],
   "source": [
    "filter_Unknown = combined_Unknown.filter(col(\"Unknown\") == 1)\n",
    "\n",
    "filter_Unknown\n",
    "\n",
    "distinct_Unknown=filter_Unknown.dropDuplicates(['personid'])\n",
    "\n",
    "distinct_Unknown.count()"
   ]
  },
  {
   "cell_type": "markdown",
   "id": "f93f2691",
   "metadata": {},
   "source": [
    "# Combining Data"
   ]
  },
  {
   "cell_type": "code",
   "execution_count": null,
   "id": "95514ef6",
   "metadata": {},
   "outputs": [],
   "source": [
    "spark.sql(\"use CUA_db\")"
   ]
  },
  {
   "cell_type": "code",
   "execution_count": null,
   "id": "304b4d3a",
   "metadata": {},
   "outputs": [],
   "source": [
    "pid = spark.sql(\"\"\"\n",
    "    select personid\n",
    "    from personid_table\n",
    "    \"\"\")\n",
    "pid.cache()"
   ]
  },
  {
   "cell_type": "code",
   "execution_count": null,
   "id": "1cfb171d",
   "metadata": {},
   "outputs": [],
   "source": [
    "demo_AINA= pid.join(distinct_AINA, 'personid', 'left')\n",
    "\n",
    "column_name = 'AIAN'\n",
    "\n",
    "# Replace \"NaN\" values with zeros in the specified column\n",
    "Binary_AINA = demo_AINA.fillna({column_name: 0})\n",
    "Binary_AINA1=Binary_AINA.dropDuplicates()\n",
    "\n",
    "Binary_AINA1.select('personid').count()"
   ]
  },
  {
   "cell_type": "code",
   "execution_count": null,
   "id": "ed88dc52",
   "metadata": {},
   "outputs": [],
   "source": [
    "Binary_AINA1.limit(5).toPandas()"
   ]
  },
  {
   "cell_type": "code",
   "execution_count": null,
   "id": "77977df3",
   "metadata": {},
   "outputs": [],
   "source": [
    "demo_NHPI= Binary_AINA1.join(distinct_NHPI, 'personid', 'left')\n",
    "\n",
    "column_name = 'NHPI'\n",
    "\n",
    "# Replace \"NaN\" values with zeros in the specified column\n",
    "Binary_NHPI = demo_NHPI.fillna({column_name: 0})\n",
    "Binary_NHPI1=Binary_NHPI.dropDuplicates()\n",
    "\n",
    "Binary_NHPI1.select('personid').count()"
   ]
  },
  {
   "cell_type": "code",
   "execution_count": null,
   "id": "fe2e8ac6",
   "metadata": {},
   "outputs": [],
   "source": [
    "demo_Asian= Binary_NHPI1.join(distinct_Asian, 'personid', 'left')\n",
    "\n",
    "column_name = 'Asian'\n",
    "\n",
    "# Replace \"NaN\" values with zeros in the specified column\n",
    "Binary_Asian = demo_Asian.fillna({column_name: 0})\n",
    "Binary_Asian1=Binary_Asian.dropDuplicates()\n",
    "\n",
    "Binary_Asian1.select('personid').count()"
   ]
  },
  {
   "cell_type": "code",
   "execution_count": null,
   "id": "70f8bd17",
   "metadata": {},
   "outputs": [],
   "source": [
    "demo_Black= Binary_Asian1.join(distinct_Black, 'personid', 'left')\n",
    "\n",
    "column_name = 'Black'\n",
    "\n",
    "# Replace \"NaN\" values with zeros in the specified column\n",
    "Binary_Black = demo_Black.fillna({column_name: 0})\n",
    "Binary_Black1=Binary_Black.dropDuplicates()\n",
    "\n",
    "Binary_Black1.select('personid').count()"
   ]
  },
  {
   "cell_type": "code",
   "execution_count": null,
   "id": "799a8d21",
   "metadata": {},
   "outputs": [],
   "source": [
    "demo_White= Binary_Black1.join(distinct_White, 'personid', 'left')\n",
    "\n",
    "column_name = 'White'\n",
    "\n",
    "# Replace \"NaN\" values with zeros in the specified column\n",
    "Binary_White = demo_White.fillna({column_name: 0})\n",
    "Binary_White1=Binary_White.dropDuplicates()\n",
    "\n",
    "Binary_White1.select('personid').count()"
   ]
  },
  {
   "cell_type": "code",
   "execution_count": null,
   "id": "41542cb9",
   "metadata": {},
   "outputs": [],
   "source": [
    "demo_MENA= Binary_White1.join(distinct_MENA, 'personid', 'left')\n",
    "\n",
    "column_name = 'MENA'\n",
    "\n",
    "# Replace \"NaN\" values with zeros in the specified column\n",
    "Binary_MENA = demo_MENA.fillna({column_name: 0})\n",
    "Binary_MENA1=Binary_MENA.dropDuplicates()\n",
    "\n",
    "Binary_MENA1.select('personid').count()"
   ]
  },
  {
   "cell_type": "code",
   "execution_count": null,
   "id": "0bd95092",
   "metadata": {},
   "outputs": [],
   "source": [
    "demo_HL= Binary_MENA1.join(distinct_Hisp_Latino, 'personid', 'left')\n",
    "\n",
    "column_name = 'Hisp_Latino'\n",
    "\n",
    "# Replace \"NaN\" values with zeros in the specified column\n",
    "Binary_HL = demo_HL.fillna({column_name: 0})\n",
    "Binary_HL1=Binary_HL.dropDuplicates()\n",
    "\n",
    "Binary_HL1.select('personid').count()"
   ]
  },
  {
   "cell_type": "code",
   "execution_count": null,
   "id": "045d1675",
   "metadata": {},
   "outputs": [],
   "source": [
    "demo_Other= Binary_HL1.join(distinct_Other, 'personid', 'left')\n",
    "\n",
    "column_name = 'Other'\n",
    "\n",
    "# Replace \"NaN\" values with zeros in the specified column\n",
    "Binary_Other = demo_Other.fillna({column_name: 0})\n",
    "Binary_Other1=Binary_Other.dropDuplicates()\n",
    "\n",
    "Binary_Other1.select('personid').count()"
   ]
  },
  {
   "cell_type": "code",
   "execution_count": null,
   "id": "c3f6771f",
   "metadata": {},
   "outputs": [],
   "source": [
    "demo_NotHL= Binary_Other1.join(distinct_NotHL, 'personid', 'left')\n",
    "\n",
    "column_name = 'NotHL'\n",
    "\n",
    "# Replace \"NaN\" values with zeros in the specified column\n",
    "Binary_NotHL = demo_NotHL.fillna({column_name: 0})\n",
    "Binary_NotHL1=Binary_NotHL.dropDuplicates()\n",
    "\n",
    "Binary_NotHL1.select('personid').count()"
   ]
  },
  {
   "cell_type": "code",
   "execution_count": null,
   "id": "8f406dc2",
   "metadata": {},
   "outputs": [],
   "source": [
    "demo_API= Binary_Other1.join(distinct_API_ethn, 'personid', 'left')\n",
    "\n",
    "column_name = 'API_ethn'\n",
    "\n",
    "# Replace \"NaN\" values with zeros in the specified column\n",
    "Binary_API = demo_API.fillna({column_name: 0})\n",
    "Binary_API1=Binary_API.dropDuplicates()\n",
    "\n",
    "Binary_API1.select('personid').count()"
   ]
  },
  {
   "cell_type": "code",
   "execution_count": null,
   "id": "c3893483",
   "metadata": {},
   "outputs": [],
   "source": [
    "demo_Mixed= Binary_API1.join(distinct_Mixed, 'personid', 'left')\n",
    "\n",
    "column_name = 'Mixed'\n",
    "\n",
    "# Replace \"NaN\" values with zeros in the specified column\n",
    "Binary_Mixed = demo_Mixed.fillna({column_name: 0})\n",
    "Binary_Mixed1=Binary_Mixed.dropDuplicates()\n",
    "\n",
    "Binary_Mixed1.select('personid').count()"
   ]
  },
  {
   "cell_type": "code",
   "execution_count": null,
   "id": "6c6278e9",
   "metadata": {},
   "outputs": [],
   "source": [
    "demo_Unknown= Binary_Mixed1.join(distinct_Unknown, 'personid', 'left')\n",
    "\n",
    "column_name = 'Unknown'\n",
    "\n",
    "# Replace \"NaN\" values with zeros in the specified column\n",
    "Binary_Unknown = demo_Unknown.fillna({column_name: 0})\n",
    "Binary_Unknown1=Binary_Unknown.dropDuplicates()\n",
    "\n",
    "Binary_Unknown1.select('personid').count()"
   ]
  },
  {
   "cell_type": "code",
   "execution_count": null,
   "id": "2124de5d",
   "metadata": {},
   "outputs": [],
   "source": [
    "Binary_Unknown1.limit(5).toPandas()"
   ]
  },
  {
   "cell_type": "code",
   "execution_count": null,
   "id": "284a6756",
   "metadata": {},
   "outputs": [],
   "source": [
    "#Binary_Unknown1.write.saveAsTable('non_CUA_db.race_matrix')"
   ]
  },
  {
   "cell_type": "code",
   "execution_count": null,
   "id": "f303ead0",
   "metadata": {},
   "outputs": [],
   "source": [
    "demo_urban= Binary_unknown1.join(distinct_urban, 'personid', 'left')\n",
    "\n",
    "column_name = 'urbn'\n",
    "\n",
    "# Replace \"NaN\" values with zeros in the specified column\n",
    "Binary_Urban = demo_urban.fillna({column_name: 0})\n",
    "Binary_Urban1=Binary_Urban.dropDuplicates()\n",
    "\n",
    "Binary_Urban1.select('personid').count()"
   ]
  },
  {
   "cell_type": "code",
   "execution_count": null,
   "id": "2db57fe5",
   "metadata": {},
   "outputs": [],
   "source": [
    "demo_rural= Binary_Urban1.join(distinct_rural, 'personid', 'left')\n",
    "\n",
    "column_name = 'rural'\n",
    "\n",
    "# Replace \"NaN\" values with zeros in the specified column\n",
    "Binary_rural = demo_rural.fillna({column_name: 0})\n",
    "Binary_rural1=Binary_rural.dropDuplicates()\n",
    "\n",
    "Binary_rural1.select('personid').count()"
   ]
  },
  {
   "cell_type": "code",
   "execution_count": null,
   "id": "1076f41b",
   "metadata": {},
   "outputs": [],
   "source": [
    "demo_Metropol= Binary_rural1.join(distinct_Metro, 'personid', 'left')\n",
    "\n",
    "column_name = 'Metropol'\n",
    "\n",
    "# Replace \"NaN\" values with zeros in the specified column\n",
    "Binary_Metropol = demo_Metropol.fillna({column_name: 0})\n",
    "Binary_Metropol1=Binary_Metropol.dropDuplicates()\n",
    "\n",
    "Binary_Metropol1.select('personid').count()"
   ]
  },
  {
   "cell_type": "code",
   "execution_count": null,
   "id": "7e43b321",
   "metadata": {},
   "outputs": [],
   "source": [
    "demo_Non_Metro= Binary_Metropol1.join(distinct_Non_metro, 'personid', 'left')\n",
    "\n",
    "column_name = 'Non_Metro'\n",
    "\n",
    "# Replace \"NaN\" values with zeros in the specified column\n",
    "Binary_Non_Metro = demo_Non_Metro.fillna({column_name: 0})\n",
    "Binary_Non_Metro1=Binary_Non_Metro.dropDuplicates()\n",
    "\n",
    "Binary_Non_Metro1.select('personid').count()"
   ]
  },
  {
   "cell_type": "code",
   "execution_count": null,
   "id": "3fd1bad9",
   "metadata": {},
   "outputs": [],
   "source": [
    "demo_ungeo= Binary_Non_Metro1.join(clean_ungeo, 'personid', 'left')\n",
    "\n",
    "column_name = 'no_urban'\n",
    "\n",
    "# Replace \"NaN\" values with zeros in the specified column\n",
    "Binary_ungeo = demo_ungeo.fillna({column_name: 0})\n",
    "Binary_ungeo1=Binary_ungeo.dropDuplicates()\n",
    "\n",
    "Binary_ungeo1.select('personid').count()"
   ]
  },
  {
   "cell_type": "code",
   "execution_count": null,
   "id": "314b2587",
   "metadata": {},
   "outputs": [],
   "source": [
    "demo_unmetro= Binary_ungeo1.join(clean_unmetro, 'personid', 'left')\n",
    "\n",
    "column_name = 'no_metro'\n",
    "\n",
    "# Replace \"NaN\" values with zeros in the specified column\n",
    "Binary_unmetro = demo_unmetro.fillna({column_name: 0})\n",
    "Binary_unmetro1=Binary_unmetro.dropDuplicates()\n",
    "\n",
    "Binary_unmetro1.select('personid').count()"
   ]
  },
  {
   "cell_type": "code",
   "execution_count": null,
   "id": "bdefd83e",
   "metadata": {},
   "outputs": [],
   "source": [
    "Binary_unmetro1.show()"
   ]
  },
  {
   "cell_type": "code",
   "execution_count": null,
   "id": "53c9121d",
   "metadata": {},
   "outputs": [],
   "source": [
    "Binary_unmetro_geo1.write.saveAsTable('CUA_db.geo_race_matrix')"
   ]
  }
 ],
 "metadata": {
  "kernelspec": {
   "display_name": "Python 3 (ipykernel)",
   "language": "python",
   "name": "python3"
  },
  "language_info": {
   "codemirror_mode": {
    "name": "ipython",
    "version": 3
   },
   "file_extension": ".py",
   "mimetype": "text/x-python",
   "name": "python",
   "nbconvert_exporter": "python",
   "pygments_lexer": "ipython3",
   "version": "3.9.7"
  }
 },
 "nbformat": 4,
 "nbformat_minor": 5
}
