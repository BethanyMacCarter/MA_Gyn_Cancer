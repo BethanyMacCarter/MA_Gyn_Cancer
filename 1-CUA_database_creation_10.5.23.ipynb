{
 "cells": [
  {
   "cell_type": "markdown",
   "id": "e0f7fd40",
   "metadata": {},
   "source": [
    "## Initiate session and imports"
   ]
  },
  {
   "cell_type": "code",
   "execution_count": null,
   "id": "8513ea19",
   "metadata": {},
   "outputs": [],
   "source": [
    "spark"
   ]
  },
  {
   "cell_type": "code",
   "execution_count": null,
   "id": "7790ffc3",
   "metadata": {},
   "outputs": [],
   "source": [
    "from pyspark.sql import SparkSession\n",
    "\n",
    "# Create a SparkSession with increased maxResultSize\n",
    "spark = SparkSession.builder \\\n",
    "    .appName(\"YourAppName\") \\\n",
    "    .config(\"spark.driver.maxResultSize\", \"4g\").getOrCreate()"
   ]
  },
  {
   "cell_type": "code",
   "execution_count": null,
   "id": "00fc5ad3",
   "metadata": {},
   "outputs": [],
   "source": [
    "# set max columns, rows, column width in pandas so doesn't truncate\n",
    "import pandas as pd\n",
    "pd.set_option('display.max_colwidth',250) # or -1\n",
    "pd.set_option('display.max_columns', None) # or 500\n",
    "pd.set_option('display.max_rows', None) # or 500\n",
    "\n",
    "# sets the cell width to 100% respective to the screen size\n",
    "from IPython.core.display import display, HTML\n",
    "display(HTML(\"<style>.container { width:92% !important; }</style>\"))\n",
    "\n",
    "##Imports\n",
    "from pyspark.sql.functions import when, col\n",
    "from pyspark.sql.functions import col, to_date, datediff, current_date"
   ]
  },
  {
   "cell_type": "markdown",
   "id": "f4958214",
   "metadata": {},
   "source": [
    "## MA Cohort Selection"
   ]
  },
  {
   "cell_type": "code",
   "execution_count": null,
   "id": "dbee7d0b",
   "metadata": {},
   "outputs": [],
   "source": [
    "spark.sql(\"use real_world_data_jun_2023\")"
   ]
  },
  {
   "cell_type": "code",
   "execution_count": null,
   "id": "b4b3ba37",
   "metadata": {},
   "outputs": [],
   "source": [
    "#Select personid from condition table if in list of codes \n",
    "#from MA (includes ICD 9/10 and Snomet-CT)\n",
    "\n",
    "condition_sdf = spark.sql(\"\"\"\n",
    "    select personid, conditioncode.standard.id as stdid,\n",
    "    conditioncode.standard.primaryDisplay as display\n",
    "    from condition\n",
    "    where conditioncode.standard.id in ('Q51.0','752.31', '204844007', '783231007', '783230008', '17142008', \n",
    "\t'Q51.1','Q51.10', 'Q51.11','752.2', '360422007', '10835661000119100', '21346009', '722431007', \n",
    "\t'Q51.2', '752.35',  '1230025003','22504001', 'Q51.3', '752.34', '31401003', '237223005', '237224004', '237225003', '237221007', '237220008', '237219002',\n",
    "\t'Q51.818', '752.39','Q51.811', '752.32', '253832006', 'Q51.4', '752.33', '1372004', 'Q51.810', '752.36', '38437003', \n",
    "\t'Q52.11', '752.46', '142191000119104', 'Q52.12', 'Q52.120', 'Q52.120','Q52.121', 'Q52.122', 'Q52.123', 'Q52.124', 'Q52.129', '752.47', '142201000119101')\n",
    "\"\"\")\n",
    "\n",
    "condition_sdf.cache()\n",
    "\n",
    "print(condition_sdf.select('personid').distinct().count())"
   ]
  },
  {
   "cell_type": "code",
   "execution_count": null,
   "id": "58024c5a",
   "metadata": {},
   "outputs": [],
   "source": [
    "#Select personid from problemlist table if in list of codes \n",
    "#from MA (includes ICD 9/10 and Snomet-CT)\n",
    "\n",
    "problem_sdf = spark.sql(\"\"\"\n",
    "    select personid, problemlistcode.standard.id as stdid,\n",
    "    problemlistcode.standard.primaryDisplay as display\n",
    "    from problem_list\n",
    "    where problemlistcode.standard.id in ('Q51.0','752.31', '204844007', '783231007', '783230008', '17142008', \n",
    "\t'Q51.1','Q51.10', 'Q51.11','752.2', '360422007', '10835661000119100', '21346009', '722431007', \n",
    "\t'Q51.2', '752.35',  '1230025003','22504001', 'Q51.3', '752.34', '31401003', '237223005', '237224004', '237225003', '237221007', '237220008', '237219002',\n",
    "\t'Q51.818', '752.39','Q51.811', '752.32', '253832006', 'Q51.4', '752.33', '1372004', 'Q51.810', '752.36', '38437003', \n",
    "\t'Q52.11', '752.46', '142191000119104', 'Q52.12', 'Q52.120', 'Q52.121', 'Q52.122', 'Q52.123', 'Q52.124', 'Q52.129', '752.47', '142201000119101')\n",
    "\"\"\")\n",
    "\n",
    "problem_sdf.cache()\n",
    "\n",
    "print(problem_sdf.select('personid').distinct().count())"
   ]
  },
  {
   "cell_type": "code",
   "execution_count": null,
   "id": "d0430bbf",
   "metadata": {},
   "outputs": [],
   "source": [
    "##Concatenate the personids from condition and problemlist into one\n",
    "##ensure all distinct/ no duplicates\n",
    "\n",
    "all_codes=condition_sdf.union(problem_sdf)\n",
    "\n",
    "concat_count=all_codes.select('personid').distinct().count()\n",
    "\n",
    "print(concat_count)\n",
    "\n",
    "all_codes.limit(10).toPandas()\n",
    "\n",
    "CUA_patients_codes=all_codes.distinct()\n",
    "\n",
    "CUA_personlist= list(CUA_patients_codes.select('personid').distinct().toPandas()['personid'])\n",
    "print(len(CUA_personlist))"
   ]
  },
  {
   "cell_type": "code",
   "execution_count": null,
   "id": "25fb94cb",
   "metadata": {},
   "outputs": [],
   "source": [
    "#persist table with all personids collected\n",
    "\n",
    "personid_table=all_codes.select('personid').distinct()\n",
    "\n",
    "personid_table.limit(5).toPandas()\n",
    "\n",
    "print(personid_table.count())\n"
   ]
  },
  {
   "cell_type": "code",
   "execution_count": null,
   "id": "00667f1d",
   "metadata": {},
   "outputs": [],
   "source": [
    "##save tables to the pre-existing database (CUA_db)\n",
    "#personid_table = just 1 column with personid codes\n",
    "#CUA_patients_codes = personid + MA diagnostic code\n",
    "\n",
    "personid_table.write.saveAsTable('CUA_db.personid_table')\n",
    "\n",
    "CUA_patients_codes.write.saveAsTable('CUA_db.CUA_patient_codes')"
   ]
  },
  {
   "cell_type": "markdown",
   "id": "5ab4da32",
   "metadata": {},
   "source": [
    "## Create Table for MA cohort with ALL condition codes"
   ]
  },
  {
   "cell_type": "markdown",
   "id": "22cbf4d1",
   "metadata": {},
   "source": [
    "### Temporary pull tables with ALL condition codes/ problem_lists"
   ]
  },
  {
   "cell_type": "code",
   "execution_count": null,
   "id": "a0044423",
   "metadata": {},
   "outputs": [],
   "source": [
    "condition= spark.sql(\"\"\"\n",
    "    select personid, conditioncode.standard.id as stdid, conditioncode.standard.primaryDisplay as display\n",
    "    from condition\n",
    "\"\"\")\n",
    "condition.cache()"
   ]
  },
  {
   "cell_type": "code",
   "execution_count": null,
   "id": "d7290c3c",
   "metadata": {},
   "outputs": [],
   "source": [
    "problem=spark.sql(\"\"\"\n",
    "    select personid, problemlistcode.standard.id as stdid,\n",
    "    problemlistcode.standard.primaryDisplay as display\n",
    "    from problem_list\n",
    "\"\"\")\n",
    "problem.cache()"
   ]
  },
  {
   "cell_type": "markdown",
   "id": "c21b0140",
   "metadata": {},
   "source": [
    "### Filter condition and problem tables for MA population and combine"
   ]
  },
  {
   "cell_type": "code",
   "execution_count": null,
   "id": "92693566",
   "metadata": {},
   "outputs": [],
   "source": [
    "CUA_prob=problem.filter(col(\"personid\").isin(CUA_personlist))\n",
    "print(CUA_prob.select('personid').distinct().count())"
   ]
  },
  {
   "cell_type": "code",
   "execution_count": null,
   "id": "5f790aa1",
   "metadata": {},
   "outputs": [],
   "source": [
    "CUA_cond=condition.filter(col(\"personid\").isin(CUA_personlist))\n",
    "print(CUA_cond.select('personid').distinct().count())"
   ]
  },
  {
   "cell_type": "code",
   "execution_count": null,
   "id": "6d4c9988",
   "metadata": {},
   "outputs": [],
   "source": [
    "CUA_concat=CUA_cond.union(CUA_prob)\n",
    "CUA_concat_count=CUA_concat.select('personid').distinct().count()\n",
    "print(CUA_concat_count)\n",
    "CUA_concat.limit(20).toPandas()"
   ]
  },
  {
   "cell_type": "code",
   "execution_count": null,
   "id": "e6b90af3",
   "metadata": {},
   "outputs": [],
   "source": [
    "CUA_concat.write.saveAsTable('CUA_db.CUA_concat')"
   ]
  },
  {
   "cell_type": "markdown",
   "id": "347ce276",
   "metadata": {},
   "source": [
    "## Add Procedure Table"
   ]
  },
  {
   "cell_type": "code",
   "execution_count": null,
   "id": "7c1e87c3",
   "metadata": {},
   "outputs": [],
   "source": [
    "procedure= spark.sql(\"\"\"\n",
    "    SELECT \n",
    "    personid,\n",
    "    procedurecode.standard.id as procedure_code,\n",
    "    procedurecode.standard.primaryDisplay as procedure_display,\n",
    "    servicestartdate as startdate,\n",
    "    serviceenddate as enddate\n",
    "    FROM procedure\n",
    "\"\"\")\n",
    "procedure"
   ]
  },
  {
   "cell_type": "code",
   "execution_count": null,
   "id": "b1c850a1",
   "metadata": {},
   "outputs": [],
   "source": [
    "CUA_procedure=procedure.filter(col(\"personid\").isin(CUAperson_list))"
   ]
  },
  {
   "cell_type": "code",
   "execution_count": null,
   "id": "223205e0",
   "metadata": {},
   "outputs": [],
   "source": [
    "CUA_procedure.limit(5).toPandas()"
   ]
  },
  {
   "cell_type": "code",
   "execution_count": null,
   "id": "73b6e37b",
   "metadata": {},
   "outputs": [],
   "source": [
    "CUA_procedure.select('personid').distinct().count()"
   ]
  },
  {
   "cell_type": "code",
   "execution_count": null,
   "id": "741588b5",
   "metadata": {},
   "outputs": [],
   "source": [
    "CUA_procedure.write.saveAsTable('CUA_db.procedure_table')"
   ]
  },
  {
   "cell_type": "markdown",
   "id": "590c47e7",
   "metadata": {},
   "source": [
    "## Add demographics"
   ]
  },
  {
   "cell_type": "code",
   "execution_count": null,
   "id": "f01beaf9",
   "metadata": {},
   "outputs": [],
   "source": [
    "demographics_sdf=spark.sql(\"\"\"\n",
    "    SELECT personid, birthdate, deceased, dateofdeath, races.standard.id as race_id, \n",
    "    races.standard.primaryDisplay as race_display, \n",
    "    ethnicities.standard.id as ethnic_id, \n",
    "    ethnicities.standard.codingSystemId as ethnic_id1,\n",
    "    ethnicities.standard.primaryDisplay as ethnic_display, testpatientflag, \n",
    "    zipcodes.zipcode1 as zipcode,\n",
    "    zipcodes.begineffectiveyear as zip_year,\n",
    "    gender.standard.primaryDisplay as gender\n",
    "    FROM demographics\n",
    "    WHERE gender.standard.primaryDisplay== \"Female\"\n",
    "    \"\"\")\n",
    "demographics_sdf"
   ]
  },
  {
   "cell_type": "code",
   "execution_count": null,
   "id": "492d1957",
   "metadata": {},
   "outputs": [],
   "source": [
    "#Get age of patients (as of Sept 25, 2023)\n",
    "dem_age=demographics_sdf.select('personid','birthdate', 'deceased', 'dateofdeath', 'race_id', 'race_display', 'ethnic_id', 'ethnic_display', 'testpatientflag','zipcode', 'zip_year', 'gender')\\\n",
    "            .withColumn('age',datediff(current_date(),to_date(col('birthdate')))/365.25)\\\n",
    "            .drop('birthdate')\n",
    "dem_age"
   ]
  },
  {
   "cell_type": "code",
   "execution_count": null,
   "id": "4bf537b7",
   "metadata": {},
   "outputs": [],
   "source": [
    "#Filter test patients\n",
    "true_patients=dem_age.where(col('testpatientflag')==\"False\")\n",
    "true_patients.limit(5).toPandas()\n",
    "\n",
    "print(true_patients.select('personid').distinct().count())"
   ]
  },
  {
   "cell_type": "code",
   "execution_count": null,
   "id": "0c22e71b",
   "metadata": {},
   "outputs": [],
   "source": [
    "demo_CUA=true_patients.filter(col(\"personid\").isin(CUA_personlist))\n",
    "demo_CUA.select('personid').distinct().count()"
   ]
  },
  {
   "cell_type": "code",
   "execution_count": null,
   "id": "23afbb56",
   "metadata": {},
   "outputs": [],
   "source": [
    "CUA_demo.write.saveAsTable('CUA_db.demo_CUA')"
   ]
  },
  {
   "cell_type": "markdown",
   "id": "17cffe9b",
   "metadata": {},
   "source": [
    "## Incorporate BMI"
   ]
  },
  {
   "cell_type": "code",
   "execution_count": null,
   "id": "d8400997",
   "metadata": {},
   "outputs": [],
   "source": [
    "BMI_pull= spark.sql(\"\"\"\n",
    "    SELECT personid, measurementcode.standard.id as id, measurementcode.standard.primaryDisplay as display, \n",
    "    typedvalue.numericValue.value as BMI_ratio, servicedate, typedvalue.dateValue.date \n",
    "    FROM measurement\n",
    "    WHERE measurementcode.standard.id=='39156-5'\n",
    "\"\"\")\n",
    "BMI_pull"
   ]
  },
  {
   "cell_type": "code",
   "execution_count": null,
   "id": "09e8daf7",
   "metadata": {},
   "outputs": [],
   "source": [
    "BMI=BMI_pull.drop(\"id\", \"display\", \"servicedate\", \"date\")\n",
    "BMI.limit(10).toPandas()"
   ]
  },
  {
   "cell_type": "code",
   "execution_count": null,
   "id": "c3dd9229",
   "metadata": {},
   "outputs": [],
   "source": [
    "BMI_numeric = BMI.withColumn(\"BMI_ratio\", col(\"BMI_ratio\").cast(FloatType()))"
   ]
  },
  {
   "cell_type": "code",
   "execution_count": null,
   "id": "824ab201",
   "metadata": {},
   "outputs": [],
   "source": [
    "BMI_CUA=BMI_numeric.filter(col(\"personid\").isin(CUA_personlist))\n",
    "print(BMI_CUA.select('personid').distinct().count())"
   ]
  },
  {
   "cell_type": "code",
   "execution_count": null,
   "id": "d8cc23ff",
   "metadata": {},
   "outputs": [],
   "source": [
    "max_bmi = BMI_CUA.agg(max(\"BMI_ratio\").alias(\"max_BMI_ratio\"))\n",
    "max_bmi.limit(20).toPandas()"
   ]
  },
  {
   "cell_type": "code",
   "execution_count": null,
   "id": "e3f24bd0",
   "metadata": {},
   "outputs": [],
   "source": [
    "min_bmi = BMI_CUA.agg(min(\"BMI_ratio\").alias(\"min_BMI_ratio\"))\n",
    "min_bmi.show()"
   ]
  },
  {
   "cell_type": "code",
   "execution_count": null,
   "id": "fc397b3e",
   "metadata": {},
   "outputs": [],
   "source": [
    "filtered_BMI = BMI_CUA.filter((BMI_CUA[\"BMI_ratio\"] >= 10) & (BMI_CUA[\"BMI_ratio\"] <= 204))"
   ]
  },
  {
   "cell_type": "code",
   "execution_count": null,
   "id": "cd37056c",
   "metadata": {},
   "outputs": [],
   "source": [
    "BMI_max=filtered_BMI.groupBy('personid').max('BMI_ratio')"
   ]
  },
  {
   "cell_type": "code",
   "execution_count": null,
   "id": "9e206d00",
   "metadata": {},
   "outputs": [],
   "source": [
    "BMI_max1 = BMI_max.withColumnRenamed(\"max(BMI_ratio)\", \"max_BMI_ratio\")"
   ]
  },
  {
   "cell_type": "markdown",
   "id": "a3f99025",
   "metadata": {},
   "source": [
    "## Combine demo & BMI tables"
   ]
  },
  {
   "cell_type": "code",
   "execution_count": null,
   "id": "0d26cb66",
   "metadata": {},
   "outputs": [],
   "source": [
    "spark.sql(\"use CUA_db\")"
   ]
  },
  {
   "cell_type": "code",
   "execution_count": null,
   "id": "0e4fca0d",
   "metadata": {},
   "outputs": [],
   "source": [
    "CUA_demo1 = spark.sql(\"\"\"\n",
    "    select personid\n",
    "    from CUA_demo\n",
    "    \"\"\")\n",
    "CUA_demo1"
   ]
  },
  {
   "cell_type": "code",
   "execution_count": null,
   "id": "bcaf15cf",
   "metadata": {},
   "outputs": [],
   "source": [
    "demo_BMI=CUA_demo1.join(BMI_max1,['personid'],how='left')\n",
    "demo_BMI.limit(15).toPandas()\n",
    "print(demo_BMI.select('personid').distinct().count())"
   ]
  },
  {
   "cell_type": "code",
   "execution_count": null,
   "id": "1dba2601",
   "metadata": {},
   "outputs": [],
   "source": [
    "demo_BMI.write.saveAsTable('CUA_db.demo_BMI')"
   ]
  },
  {
   "cell_type": "markdown",
   "id": "fd01f9d1",
   "metadata": {},
   "source": [
    "## Check for newly created tables"
   ]
  },
  {
   "cell_type": "code",
   "execution_count": null,
   "id": "a6f136bf",
   "metadata": {},
   "outputs": [],
   "source": [
    "spark.sql(\"use CUA_db\")"
   ]
  },
  {
   "cell_type": "code",
   "execution_count": null,
   "id": "07d20525",
   "metadata": {},
   "outputs": [],
   "source": [
    "##check for newly created tables\n",
    "spark.sql(\"show tables\").toPandas()"
   ]
  },
  {
   "cell_type": "code",
   "execution_count": null,
   "id": "42604543",
   "metadata": {},
   "outputs": [],
   "source": []
  }
 ],
 "metadata": {
  "kernelspec": {
   "display_name": "Python 3 (ipykernel)",
   "language": "python",
   "name": "python3"
  },
  "language_info": {
   "codemirror_mode": {
    "name": "ipython",
    "version": 3
   },
   "file_extension": ".py",
   "mimetype": "text/x-python",
   "name": "python",
   "nbconvert_exporter": "python",
   "pygments_lexer": "ipython3",
   "version": "3.9.7"
  }
 },
 "nbformat": 4,
 "nbformat_minor": 5
}
