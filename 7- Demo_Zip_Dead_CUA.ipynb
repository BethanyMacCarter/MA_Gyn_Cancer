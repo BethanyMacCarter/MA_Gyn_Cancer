{
 "cells": [
  {
   "cell_type": "code",
   "execution_count": null,
   "id": "b6c9cab0",
   "metadata": {},
   "outputs": [],
   "source": [
    "spark"
   ]
  },
  {
   "cell_type": "code",
   "execution_count": null,
   "id": "7d9438e8",
   "metadata": {},
   "outputs": [],
   "source": [
    "# set max columns, rows, column width in pandas so doesn't truncate\n",
    "import pandas as pd\n",
    "pd.set_option('display.max_colwidth',250) # or -1\n",
    "pd.set_option('display.max_columns', None) # or 500\n",
    "pd.set_option('display.max_rows', None) # or 500\n",
    "\n",
    "# sets the cell width to 100% respective to the screen size\n",
    "from IPython.core.display import display, HTML\n",
    "from pyspark.sql.functions import when, col\n",
    "display(HTML(\"<style>.container { width:92% !important; }</style>\"))"
   ]
  },
  {
   "cell_type": "code",
   "execution_count": null,
   "id": "a8cdfa37",
   "metadata": {},
   "outputs": [],
   "source": []
  },
  {
   "cell_type": "code",
   "execution_count": null,
   "id": "c4d2a7fc",
   "metadata": {},
   "outputs": [],
   "source": []
  },
  {
   "cell_type": "code",
   "execution_count": null,
   "id": "5d075415",
   "metadata": {},
   "outputs": [],
   "source": []
  },
  {
   "cell_type": "code",
   "execution_count": null,
   "id": "f719c69d",
   "metadata": {},
   "outputs": [],
   "source": [
    "spark.sql(\"use CUA_db\")"
   ]
  },
  {
   "cell_type": "code",
   "execution_count": null,
   "id": "e98336e6",
   "metadata": {},
   "outputs": [],
   "source": [
    "pid= spark.sql(\"\"\"\n",
    "    SELECT *\n",
    "    FROM personid_table\n",
    " \"\"\")\n",
    "pid"
   ]
  },
  {
   "cell_type": "code",
   "execution_count": null,
   "id": "10db643b",
   "metadata": {},
   "outputs": [],
   "source": [
    "#CUA person ID list\n",
    "personid_list = list(pid.select('personid').distinct().toPandas()['personid'])\n",
    "len(personid_list)"
   ]
  },
  {
   "cell_type": "code",
   "execution_count": null,
   "id": "9d317f35",
   "metadata": {},
   "outputs": [],
   "source": []
  },
  {
   "cell_type": "code",
   "execution_count": null,
   "id": "7c961be1",
   "metadata": {},
   "outputs": [],
   "source": []
  },
  {
   "cell_type": "code",
   "execution_count": null,
   "id": "061c54b3",
   "metadata": {},
   "outputs": [],
   "source": [
    "spark.sql(\"use real_world_data_jun_2023\")"
   ]
  },
  {
   "cell_type": "code",
   "execution_count": null,
   "id": "13af574f",
   "metadata": {},
   "outputs": [],
   "source": [
    "Zips=spark.sql(\"\"\"\n",
    "    SELECT personid, prefzip \n",
    "    FROM preferred_demographics\n",
    "    \"\"\")\n",
    "Zips"
   ]
  },
  {
   "cell_type": "code",
   "execution_count": null,
   "id": "d9f5f401",
   "metadata": {},
   "outputs": [],
   "source": [
    "zips_CUA=Zips.filter(col(\"personid\").isin(personid_list))\n",
    "zips_CUA.select('personid').distinct().count()"
   ]
  },
  {
   "cell_type": "code",
   "execution_count": null,
   "id": "25793d96",
   "metadata": {},
   "outputs": [],
   "source": [
    "zips_CUA.write.saveAsTable('CUA_db.zip_table')"
   ]
  },
  {
   "cell_type": "code",
   "execution_count": null,
   "id": "43d185e4",
   "metadata": {},
   "outputs": [],
   "source": [
    "demographics_sdf=spark.sql(\"\"\"\n",
    "    SELECT personid, birthdate, deceased, testpatientflag, \n",
    "    zipcodes[0] as zipcodes\n",
    "    FROM demographics\n",
    "    \"\"\")\n",
    "demographics_sdf"
   ]
  },
  {
   "cell_type": "code",
   "execution_count": null,
   "id": "84b578b2",
   "metadata": {},
   "outputs": [],
   "source": [
    "demo_CUA=demographics_sdf.filter(col(\"personid\").isin(personid_list))"
   ]
  },
  {
   "cell_type": "code",
   "execution_count": null,
   "id": "cb55c66c",
   "metadata": {},
   "outputs": [],
   "source": [
    "#import Spark SQL dataframe functions\n",
    "from pyspark.sql.functions import col, to_date, datediff, current_date\n",
    "\n",
    "#Get age of patients (as of Sept 25, 2023)\n",
    "dem_age=demo_CUA.select('personid','birthdate', 'deceased','testpatientflag','zipcodes')\\\n",
    "            .withColumn('age',datediff(current_date(),to_date(col('birthdate')))/365.25)\\\n",
    "            .drop('birthdate')\n",
    "dem_age"
   ]
  },
  {
   "cell_type": "code",
   "execution_count": null,
   "id": "c305de32",
   "metadata": {},
   "outputs": [],
   "source": [
    "dem_age.select('personid').distinct().count()"
   ]
  },
  {
   "cell_type": "code",
   "execution_count": null,
   "id": "57c1ca1a",
   "metadata": {},
   "outputs": [],
   "source": [
    "#Filter test patients\n",
    "true_patients=dem_age.where(col('testpatientflag')==\"False\")"
   ]
  },
  {
   "cell_type": "code",
   "execution_count": null,
   "id": "9a31993f",
   "metadata": {},
   "outputs": [],
   "source": [
    "CUA_demo_clean=true_patients.drop(\"testpatientflag\")"
   ]
  },
  {
   "cell_type": "code",
   "execution_count": null,
   "id": "e1106ba6",
   "metadata": {},
   "outputs": [],
   "source": [
    "CUA_demo_clean.write.saveAsTable('CUA_db.demo_clean')"
   ]
  },
  {
   "cell_type": "code",
   "execution_count": null,
   "id": "b132f451",
   "metadata": {},
   "outputs": [],
   "source": []
  },
  {
   "cell_type": "markdown",
   "id": "68ad89d4",
   "metadata": {},
   "source": [
    "## Setup Deceased Status as Binary"
   ]
  },
  {
   "cell_type": "code",
   "execution_count": null,
   "id": "3a041bff",
   "metadata": {},
   "outputs": [],
   "source": [
    "spark.sql(\"use CUA_db\")"
   ]
  },
  {
   "cell_type": "code",
   "execution_count": null,
   "id": "32dfc84a",
   "metadata": {},
   "outputs": [],
   "source": [
    "for_death = spark.sql(\"\"\"\n",
    "    select personid, deceased\n",
    "    from demo_clean\n",
    "    \"\"\")\n",
    "for_death.cache()"
   ]
  },
  {
   "cell_type": "code",
   "execution_count": null,
   "id": "8a1b515c",
   "metadata": {},
   "outputs": [],
   "source": [
    "dead = for_death.withColumn(\"dead\", when(col(\"deceased\") == True, 1).otherwise(0))\n",
    "\n",
    "condition_column = 'dead'\n",
    "\n",
    "# Count the number of patients with the condition (where the column value is 1)\n",
    "\n",
    "filtered_dead = dead.filter(col(condition_column) == 1)\n",
    "\n",
    "count_with_condition = filtered_dead.count()\n",
    "\n",
    "# Show the count\n",
    "print(\"Number of rows with the condition:\", count_with_condition)"
   ]
  },
  {
   "cell_type": "code",
   "execution_count": null,
   "id": "aafe6686",
   "metadata": {},
   "outputs": [],
   "source": [
    "filter_dead = dead.filter(col(\"dead\") == 1)\n",
    "\n",
    "filter_dead\n",
    "\n",
    "distinct_dead=filter_dead.dropDuplicates(['personid'])\n",
    "\n",
    "distinct_dead.count()"
   ]
  },
  {
   "cell_type": "code",
   "execution_count": null,
   "id": "85c2c837",
   "metadata": {},
   "outputs": [],
   "source": [
    "distinct_dead1=distinct_dead.drop('deceased')"
   ]
  },
  {
   "cell_type": "code",
   "execution_count": null,
   "id": "0cb4b0aa",
   "metadata": {},
   "outputs": [],
   "source": [
    "distinct_dead1.limit(5).toPandas()"
   ]
  },
  {
   "cell_type": "markdown",
   "id": "113a629e",
   "metadata": {},
   "source": [
    "## Zipcode Region Setup"
   ]
  },
  {
   "cell_type": "code",
   "execution_count": null,
   "id": "4d1a451c",
   "metadata": {},
   "outputs": [],
   "source": [
    "spark.sql(\"use CUA_db\")"
   ]
  },
  {
   "cell_type": "code",
   "execution_count": null,
   "id": "8ac06ee4",
   "metadata": {},
   "outputs": [],
   "source": [
    "zips = spark.sql(\"\"\"\n",
    "    select personid, prefzip\n",
    "    from zip_table\n",
    "    \"\"\")\n",
    "zips.cache()"
   ]
  },
  {
   "cell_type": "code",
   "execution_count": null,
   "id": "37ea9b57",
   "metadata": {},
   "outputs": [],
   "source": [
    "zip0 = zips.withColumn(\"R0\", when(col(\"prefzip\") == 0, 1).otherwise(0))\n",
    "\n",
    "condition_column = 'R0'\n",
    "\n",
    "# Count the number of patients with the condition (where the column value is 1)\n",
    "\n",
    "filtered_zip0 = zip0.filter(col(condition_column) == 1)\n",
    "\n",
    "count_with_condition = filtered_zip0.count()\n",
    "\n",
    "# Show the count\n",
    "print(\"Number of rows with the condition:\", count_with_condition)"
   ]
  },
  {
   "cell_type": "code",
   "execution_count": null,
   "id": "b882e0e0",
   "metadata": {},
   "outputs": [],
   "source": [
    "filter_zip0 = zip0.filter(col(\"R0\") == 1)\n",
    "\n",
    "filter_zip0\n",
    "\n",
    "distinct_zip0=filter_zip0.dropDuplicates(['personid'])\n",
    "\n",
    "distinct_zip0.count()"
   ]
  },
  {
   "cell_type": "code",
   "execution_count": null,
   "id": "a95002da",
   "metadata": {},
   "outputs": [],
   "source": [
    "zip1 = zips.withColumn(\"R1\", when(col(\"prefzip\") == 1, 1).otherwise(0))\n",
    "\n",
    "condition_column = 'R1'\n",
    "\n",
    "# Count the number of patients with the condition (where the column value is 1)\n",
    "\n",
    "filtered_zip1 = zip1.filter(col(condition_column) == 1)\n",
    "\n",
    "count_with_condition = filtered_zip1.count()\n",
    "\n",
    "# Show the count\n",
    "print(\"Number of rows with the condition:\", count_with_condition)"
   ]
  },
  {
   "cell_type": "code",
   "execution_count": null,
   "id": "b1761397",
   "metadata": {},
   "outputs": [],
   "source": [
    "filter_zip1 = zip1.filter(col(\"R1\") == 1)\n",
    "\n",
    "filter_zip1\n",
    "\n",
    "distinct_zip1=filter_zip1.dropDuplicates(['personid'])\n",
    "\n",
    "distinct_zip1.count()"
   ]
  },
  {
   "cell_type": "code",
   "execution_count": null,
   "id": "33d96006",
   "metadata": {},
   "outputs": [],
   "source": [
    "zip2 = zips.withColumn(\"R2\", when(col(\"prefzip\") == 2, 1).otherwise(0))\n",
    "\n",
    "condition_column = 'R2'\n",
    "\n",
    "# Count the number of patients with the condition (where the column value is 1)\n",
    "\n",
    "filtered_zip2 = zip2.filter(col(condition_column) == 1)\n",
    "\n",
    "count_with_condition = filtered_zip2.count()\n",
    "\n",
    "# Show the count\n",
    "print(\"Number of rows with the condition:\", count_with_condition)"
   ]
  },
  {
   "cell_type": "code",
   "execution_count": null,
   "id": "811f8687",
   "metadata": {},
   "outputs": [],
   "source": [
    "filter_zip2 = zip2.filter(col(\"R2\") == 1)\n",
    "\n",
    "filter_zip2\n",
    "\n",
    "distinct_zip2=filter_zip2.dropDuplicates(['personid'])\n",
    "\n",
    "distinct_zip2.count()"
   ]
  },
  {
   "cell_type": "code",
   "execution_count": null,
   "id": "8ee6e899",
   "metadata": {},
   "outputs": [],
   "source": [
    "zip3 = zips.withColumn(\"R3\", when(col(\"prefzip\") == 3, 1).otherwise(0))\n",
    "\n",
    "condition_column = 'R3'\n",
    "\n",
    "# Count the number of patients with the condition (where the column value is 1)\n",
    "\n",
    "filtered_zip3 = zip3.filter(col(condition_column) == 1)\n",
    "\n",
    "count_with_condition = filtered_zip3.count()\n",
    "\n",
    "# Show the count\n",
    "print(\"Number of rows with the condition:\", count_with_condition)"
   ]
  },
  {
   "cell_type": "code",
   "execution_count": null,
   "id": "e064b2ca",
   "metadata": {},
   "outputs": [],
   "source": [
    "filter_zip3 = zip3.filter(col(\"R3\") == 1)\n",
    "\n",
    "filter_zip3\n",
    "\n",
    "distinct_zip3=filter_zip3.dropDuplicates(['personid'])\n",
    "\n",
    "distinct_zip3.count()"
   ]
  },
  {
   "cell_type": "code",
   "execution_count": null,
   "id": "a1871bb9",
   "metadata": {},
   "outputs": [],
   "source": [
    "zip4 = zips.withColumn(\"R4\", when(col(\"prefzip\") == 4, 1).otherwise(0))\n",
    "\n",
    "condition_column = 'R4'\n",
    "\n",
    "# Count the number of patients with the condition (where the column value is 1)\n",
    "\n",
    "filtered_zip4 = zip4.filter(col(condition_column) == 1)\n",
    "\n",
    "count_with_condition = filtered_zip4.count()\n",
    "\n",
    "# Show the count\n",
    "print(\"Number of rows with the condition:\", count_with_condition)"
   ]
  },
  {
   "cell_type": "code",
   "execution_count": null,
   "id": "e7faa91e",
   "metadata": {},
   "outputs": [],
   "source": [
    "filter_zip4 = zip4.filter(col(\"R4\") == 1)\n",
    "\n",
    "filter_zip4\n",
    "\n",
    "distinct_zip4=filter_zip4.dropDuplicates(['personid'])\n",
    "\n",
    "distinct_zip4.count()"
   ]
  },
  {
   "cell_type": "code",
   "execution_count": null,
   "id": "aad432bc",
   "metadata": {},
   "outputs": [],
   "source": [
    "zip5 = zips.withColumn(\"R5\", when(col(\"prefzip\") == 5, 1).otherwise(0))\n",
    "\n",
    "condition_column = 'R5'\n",
    "\n",
    "# Count the number of patients with the condition (where the column value is 1)\n",
    "\n",
    "filtered_zip5 = zip5.filter(col(condition_column) == 1)\n",
    "\n",
    "count_with_condition = filtered_zip5.count()\n",
    "\n",
    "# Show the count\n",
    "print(\"Number of rows with the condition:\", count_with_condition)"
   ]
  },
  {
   "cell_type": "code",
   "execution_count": null,
   "id": "a8fc8f18",
   "metadata": {},
   "outputs": [],
   "source": [
    "filter_zip5 = zip5.filter(col(\"R5\") == 1)\n",
    "\n",
    "filter_zip5\n",
    "\n",
    "distinct_zip5=filter_zip5.dropDuplicates(['personid'])\n",
    "\n",
    "distinct_zip5.count()"
   ]
  },
  {
   "cell_type": "code",
   "execution_count": null,
   "id": "311a4943",
   "metadata": {},
   "outputs": [],
   "source": [
    "zip6 = zips.withColumn(\"R6\", when(col(\"prefzip\") == 6, 1).otherwise(0))\n",
    "\n",
    "condition_column = 'R6'\n",
    "\n",
    "# Count the number of patients with the condition (where the column value is 1)\n",
    "\n",
    "filtered_zip6 = zip6.filter(col(condition_column) == 1)\n",
    "\n",
    "count_with_condition = filtered_zip6.count()\n",
    "\n",
    "# Show the count\n",
    "print(\"Number of rows with the condition:\", count_with_condition)"
   ]
  },
  {
   "cell_type": "code",
   "execution_count": null,
   "id": "08deb3ad",
   "metadata": {},
   "outputs": [],
   "source": [
    "filter_zip6 = zip6.filter(col(\"R6\") == 1)\n",
    "\n",
    "filter_zip6\n",
    "\n",
    "distinct_zip6=filter_zip6.dropDuplicates(['personid'])\n",
    "\n",
    "distinct_zip6.count()"
   ]
  },
  {
   "cell_type": "code",
   "execution_count": null,
   "id": "1d461f3d",
   "metadata": {},
   "outputs": [],
   "source": [
    "zip7 = zips.withColumn(\"R7\", when(col(\"prefzip\") == 7, 1).otherwise(0))\n",
    "\n",
    "condition_column = 'R7'\n",
    "\n",
    "# Count the number of patients with the condition (where the column value is 1)\n",
    "\n",
    "filtered_zip7 = zip7.filter(col(condition_column) == 1)\n",
    "\n",
    "count_with_condition = filtered_zip7.count()\n",
    "\n",
    "# Show the count\n",
    "print(\"Number of rows with the condition:\", count_with_condition)"
   ]
  },
  {
   "cell_type": "code",
   "execution_count": null,
   "id": "e2812153",
   "metadata": {},
   "outputs": [],
   "source": [
    "filter_zip7 = zip7.filter(col(\"R7\") == 1)\n",
    "\n",
    "filter_zip7\n",
    "\n",
    "distinct_zip7=filter_zip7.dropDuplicates(['personid'])\n",
    "\n",
    "distinct_zip7.count()"
   ]
  },
  {
   "cell_type": "code",
   "execution_count": null,
   "id": "b5db77ff",
   "metadata": {},
   "outputs": [],
   "source": [
    "zip8 = zips.withColumn(\"R8\", when(col(\"prefzip\") == 8, 1).otherwise(0))\n",
    "\n",
    "condition_column = 'R8'\n",
    "\n",
    "# Count the number of patients with the condition (where the column value is 1)\n",
    "\n",
    "filtered_zip8 = zip8.filter(col(condition_column) == 1)\n",
    "\n",
    "count_with_condition = filtered_zip8.count()\n",
    "\n",
    "# Show the count\n",
    "print(\"Number of rows with the condition:\", count_with_condition)"
   ]
  },
  {
   "cell_type": "code",
   "execution_count": null,
   "id": "9e5ac171",
   "metadata": {},
   "outputs": [],
   "source": [
    "filter_zip8 = zip8.filter(col(\"R8\") == 1)\n",
    "\n",
    "filter_zip8\n",
    "\n",
    "distinct_zip8=filter_zip8.dropDuplicates(['personid'])\n",
    "\n",
    "distinct_zip8.count()"
   ]
  },
  {
   "cell_type": "code",
   "execution_count": null,
   "id": "b17de5b9",
   "metadata": {},
   "outputs": [],
   "source": [
    "zip9 = zips.withColumn(\"R9\", when(col(\"prefzip\") == 9, 1).otherwise(0))\n",
    "\n",
    "condition_column = 'R9'\n",
    "\n",
    "# Count the number of patients with the condition (where the column value is 1)\n",
    "\n",
    "filtered_zip9 = zip9.filter(col(condition_column) == 1)\n",
    "\n",
    "count_with_condition = filtered_zip9.count()\n",
    "\n",
    "# Show the count\n",
    "print(\"Number of rows with the condition:\", count_with_condition)"
   ]
  },
  {
   "cell_type": "code",
   "execution_count": null,
   "id": "a14e1b89",
   "metadata": {},
   "outputs": [],
   "source": [
    "filter_zip9 = zip9.filter(col(\"R9\") == 1)\n",
    "\n",
    "filter_zip9\n",
    "\n",
    "distinct_zip9=filter_zip9.dropDuplicates(['personid'])\n",
    "\n",
    "distinct_zip9.count()"
   ]
  },
  {
   "cell_type": "code",
   "execution_count": null,
   "id": "8701332c",
   "metadata": {},
   "outputs": [],
   "source": [
    "no_code=[\"None\"]"
   ]
  },
  {
   "cell_type": "code",
   "execution_count": null,
   "id": "7faa84f7",
   "metadata": {},
   "outputs": [],
   "source": [
    "filtered_null = zips.filter(zips[\"prefzip\"].isNull() | (zips[\"prefzip\"] == \"None\"))"
   ]
  },
  {
   "cell_type": "code",
   "execution_count": null,
   "id": "326434dd",
   "metadata": {},
   "outputs": [],
   "source": [
    "filtered_null.limit(5).toPandas()"
   ]
  },
  {
   "cell_type": "code",
   "execution_count": null,
   "id": "0df7c0a9",
   "metadata": {},
   "outputs": [],
   "source": [
    "filtered_null2 = zips.withColumn(\"RU\", when(col(\"prefzip\").isNull() | (col(\"prefzip\") == \"None\"), 1).otherwise(0))"
   ]
  },
  {
   "cell_type": "code",
   "execution_count": null,
   "id": "9dadd1fa",
   "metadata": {},
   "outputs": [],
   "source": [
    "filter_zipu = filtered_null2.filter(col(\"RU\") == 1)\n",
    "\n",
    "filter_zipu\n",
    "\n",
    "distinct_zipU=filter_zipu.dropDuplicates(['personid'])\n",
    "\n",
    "distinct_zipU.count()"
   ]
  },
  {
   "cell_type": "code",
   "execution_count": null,
   "id": "67dd989a",
   "metadata": {},
   "outputs": [],
   "source": [
    "clean_zip9=distinct_zip9.drop('prefzip')\n",
    "clean_zip8=distinct_zip8.drop('prefzip')\n",
    "clean_zip7=distinct_zip7.drop('prefzip')\n",
    "clean_zip6=distinct_zip6.drop('prefzip')\n",
    "clean_zip5=distinct_zip5.drop('prefzip')\n",
    "clean_zip4=distinct_zip4.drop('prefzip')\n",
    "clean_zip3=distinct_zip3.drop('prefzip')\n",
    "clean_zip2=distinct_zip2.drop('prefzip')\n",
    "clean_zip1=distinct_zip1.drop('prefzip')\n",
    "clean_zip0=distinct_zip0.drop('prefzip')\n",
    "clean_zipu=distinct_zipu.drop('prefzip')"
   ]
  },
  {
   "cell_type": "markdown",
   "id": "e2e26ad4",
   "metadata": {},
   "source": [
    "## Combine Data into table"
   ]
  },
  {
   "cell_type": "code",
   "execution_count": null,
   "id": "14337533",
   "metadata": {},
   "outputs": [],
   "source": [
    "spark.sql(\"use CUA_db\")"
   ]
  },
  {
   "cell_type": "code",
   "execution_count": null,
   "id": "ba77cc34",
   "metadata": {},
   "outputs": [],
   "source": [
    "pid = spark.sql(\"\"\"\n",
    "    select personid\n",
    "    from personid_table\n",
    "    \"\"\")\n",
    "pid.cache()"
   ]
  },
  {
   "cell_type": "code",
   "execution_count": null,
   "id": "7f74ce93",
   "metadata": {},
   "outputs": [],
   "source": [
    "demo_dead= pid.join(distinct_dead, 'personid', 'left')\n",
    "\n",
    "column_name = 'dead'\n",
    "\n",
    "# Replace \"NaN\" values with zeros in the specified column\n",
    "Binary_dead = demo_dead.fillna({column_name: 0})\n",
    "Binary_dead1=Binary_dead.dropDuplicates()\n",
    "\n",
    "Binary_dead1.select('personid').count()"
   ]
  },
  {
   "cell_type": "code",
   "execution_count": null,
   "id": "a5aa52e4",
   "metadata": {},
   "outputs": [],
   "source": [
    "Binary_dead1.limit(5).toPandas()"
   ]
  },
  {
   "cell_type": "code",
   "execution_count": null,
   "id": "97ac9553",
   "metadata": {},
   "outputs": [],
   "source": [
    "Binary_dead2=Binary_dead1.drop('deceased')"
   ]
  },
  {
   "cell_type": "code",
   "execution_count": null,
   "id": "ee329486",
   "metadata": {},
   "outputs": [],
   "source": [
    "demo_zip0= Binary_dead2.join(clean_zip0, 'personid', 'left')\n",
    "\n",
    "column_name = 'R0'\n",
    "\n",
    "# Replace \"NaN\" values with zeros in the specified column\n",
    "Binary_zip0 = demo_zip0.fillna({column_name: 0})\n",
    "Binary_zip01=Binary_zip0.dropDuplicates()\n",
    "\n",
    "Binary_zip01.select('personid').count()"
   ]
  },
  {
   "cell_type": "code",
   "execution_count": null,
   "id": "8ce40042",
   "metadata": {},
   "outputs": [],
   "source": [
    "demo_zip1= Binary_zip01.join(clean_zip1, 'personid', 'left')\n",
    "\n",
    "column_name = 'R1'\n",
    "\n",
    "# Replace \"NaN\" values with zeros in the specified column\n",
    "Binary_zip1 = demo_zip1.fillna({column_name: 0})\n",
    "Binary_zip11=Binary_zip1.dropDuplicates()\n",
    "\n",
    "Binary_zip11.select('personid').count()"
   ]
  },
  {
   "cell_type": "code",
   "execution_count": null,
   "id": "d22d872f",
   "metadata": {},
   "outputs": [],
   "source": [
    "demo_zip2= Binary_zip11.join(clean_zip2, 'personid', 'left')\n",
    "\n",
    "column_name = 'R2'\n",
    "\n",
    "# Replace \"NaN\" values with zeros in the specified column\n",
    "Binary_zip2 = demo_zip2.fillna({column_name: 0})\n",
    "Binary_zip21=Binary_zip2.dropDuplicates()\n",
    "\n",
    "Binary_zip21.select('personid').count()"
   ]
  },
  {
   "cell_type": "code",
   "execution_count": null,
   "id": "f2e88813",
   "metadata": {},
   "outputs": [],
   "source": [
    "demo_zip3= Binary_zip21.join(clean_zip3, 'personid', 'left')\n",
    "\n",
    "column_name = 'R3'\n",
    "\n",
    "# Replace \"NaN\" values with zeros in the specified column\n",
    "Binary_zip3 = demo_zip3.fillna({column_name: 0})\n",
    "Binary_zip31=Binary_zip3.dropDuplicates()\n",
    "\n",
    "Binary_zip31.select('personid').count()"
   ]
  },
  {
   "cell_type": "code",
   "execution_count": null,
   "id": "a2b0180a",
   "metadata": {},
   "outputs": [],
   "source": [
    "demo_zip4= Binary_zip31.join(clean_zip4, 'personid', 'left')\n",
    "\n",
    "column_name = 'R4'\n",
    "\n",
    "# Replace \"NaN\" values with zeros in the specified column\n",
    "Binary_zip4 = demo_zip4.fillna({column_name: 0})\n",
    "Binary_zip41=Binary_zip4.dropDuplicates()\n",
    "\n",
    "Binary_zip41.select('personid').count()"
   ]
  },
  {
   "cell_type": "code",
   "execution_count": null,
   "id": "bc993f50",
   "metadata": {},
   "outputs": [],
   "source": [
    "demo_zip5= Binary_zip41.join(clean_zip5, 'personid', 'left')\n",
    "\n",
    "column_name = 'R5'\n",
    "\n",
    "# Replace \"NaN\" values with zeros in the specified column\n",
    "Binary_zip5 = demo_zip5.fillna({column_name: 0})\n",
    "Binary_zip51=Binary_zip5.dropDuplicates()\n",
    "\n",
    "Binary_zip51.select('personid').count()"
   ]
  },
  {
   "cell_type": "code",
   "execution_count": null,
   "id": "f8fa273c",
   "metadata": {},
   "outputs": [],
   "source": [
    "demo_zip6= Binary_zip51.join(clean_zip6, 'personid', 'left')\n",
    "\n",
    "column_name = 'R6'\n",
    "\n",
    "# Replace \"NaN\" values with zeros in the specified column\n",
    "Binary_zip6 = demo_zip6.fillna({column_name: 0})\n",
    "Binary_zip61=Binary_zip6.dropDuplicates()\n",
    "\n",
    "Binary_zip61.select('personid').count()"
   ]
  },
  {
   "cell_type": "code",
   "execution_count": null,
   "id": "b5c8d9a5",
   "metadata": {},
   "outputs": [],
   "source": [
    "demo_zip7= Binary_zip61.join(clean_zip7, 'personid', 'left')\n",
    "\n",
    "column_name = 'R7'\n",
    "\n",
    "# Replace \"NaN\" values with zeros in the specified column\n",
    "Binary_zip7 = demo_zip7.fillna({column_name: 0})\n",
    "Binary_zip71=Binary_zip7.dropDuplicates()\n",
    "\n",
    "Binary_zip71.select('personid').count()"
   ]
  },
  {
   "cell_type": "code",
   "execution_count": null,
   "id": "fe832e2c",
   "metadata": {},
   "outputs": [],
   "source": [
    "demo_zip8= Binary_zip71.join(clean_zip8, 'personid', 'left')\n",
    "\n",
    "column_name = 'R8'\n",
    "\n",
    "# Replace \"NaN\" values with zeros in the specified column\n",
    "Binary_zip8 = demo_zip8.fillna({column_name: 0})\n",
    "Binary_zip81=Binary_zip8.dropDuplicates()\n",
    "\n",
    "Binary_zip81.select('personid').count()"
   ]
  },
  {
   "cell_type": "code",
   "execution_count": null,
   "id": "9d9159a6",
   "metadata": {},
   "outputs": [],
   "source": [
    "demo_zip9= Binary_zip81.join(clean_zip9, 'personid', 'left')\n",
    "\n",
    "column_name = 'R9'\n",
    "\n",
    "# Replace \"NaN\" values with zeros in the specified column\n",
    "Binary_zip9 = demo_zip9.fillna({column_name: 0})\n",
    "Binary_zip91=Binary_zip9.dropDuplicates()\n",
    "\n",
    "Binary_zip91.select('personid').count()"
   ]
  },
  {
   "cell_type": "code",
   "execution_count": null,
   "id": "a7c98949",
   "metadata": {},
   "outputs": [],
   "source": [
    "demo_zipu= Binary_zip91.join(clean_zipu, 'personid', 'left')\n",
    "\n",
    "column_name = 'RU'\n",
    "\n",
    "# Replace \"NaN\" values with zeros in the specified column\n",
    "Binary_zipu = demo_zipu.fillna({column_name: 0})\n",
    "Binary_zipu1=Binary_zipu.dropDuplicates()\n",
    "\n",
    "Binary_zipu1.select('personid').count()"
   ]
  },
  {
   "cell_type": "code",
   "execution_count": null,
   "id": "73345faa",
   "metadata": {},
   "outputs": [],
   "source": [
    "Binary_zipu1.limit(5).toPandas()"
   ]
  },
  {
   "cell_type": "code",
   "execution_count": null,
   "id": "6e2b6e01",
   "metadata": {},
   "outputs": [],
   "source": [
    "Binary_zipu1.write.saveAsTable('CUA_db.zip_matrix')"
   ]
  },
  {
   "cell_type": "markdown",
   "id": "d1d7e02e",
   "metadata": {},
   "source": [
    "## Join Multiple Tables\n",
    "### This will call in tables created in other notebooks as well"
   ]
  },
  {
   "cell_type": "code",
   "execution_count": null,
   "id": "d7f90d89",
   "metadata": {},
   "outputs": [],
   "source": [
    "spark.sql('use CUA_db')"
   ]
  },
  {
   "cell_type": "code",
   "execution_count": null,
   "id": "5e867ea6",
   "metadata": {},
   "outputs": [],
   "source": [
    "race_geo_matrix= spark.sql(\"\"\"\n",
    "    SELECT *\n",
    "    FROM geo_race_matrix\n",
    "\"\"\")\n",
    "race_geo_matrix"
   ]
  },
  {
   "cell_type": "code",
   "execution_count": null,
   "id": "14265c08",
   "metadata": {},
   "outputs": [],
   "source": [
    "race_geo_matrix.count()"
   ]
  },
  {
   "cell_type": "code",
   "execution_count": null,
   "id": "182dc250",
   "metadata": {},
   "outputs": [],
   "source": [
    "zip_matrix= spark.sql(\"\"\"\n",
    "    SELECT *\n",
    "    FROM zip_matrix\n",
    "\"\"\")\n",
    "zip_matrix"
   ]
  },
  {
   "cell_type": "code",
   "execution_count": null,
   "id": "ef099c8c",
   "metadata": {},
   "outputs": [],
   "source": [
    "zip_matrix.count()"
   ]
  },
  {
   "cell_type": "code",
   "execution_count": null,
   "id": "5c8defd8",
   "metadata": {},
   "outputs": [],
   "source": [
    "covariate_matrix= spark.sql(\"\"\"\n",
    "    SELECT *\n",
    "    FROM cua_covariate_matrix\n",
    "\"\"\")\n",
    "covariate_matrix"
   ]
  },
  {
   "cell_type": "code",
   "execution_count": null,
   "id": "66120e4f",
   "metadata": {},
   "outputs": [],
   "source": [
    "covariate_matrix.count()"
   ]
  },
  {
   "cell_type": "code",
   "execution_count": null,
   "id": "1541f999",
   "metadata": {},
   "outputs": [],
   "source": [
    "demo_BMI= spark.sql(\"\"\"\n",
    "    SELECT *\n",
    "    FROM demo_BMI1\n",
    "\"\"\")\n",
    "demo_BMI"
   ]
  },
  {
   "cell_type": "code",
   "execution_count": null,
   "id": "2fbc8bbc",
   "metadata": {},
   "outputs": [],
   "source": [
    "demo_BMI.count()"
   ]
  },
  {
   "cell_type": "code",
   "execution_count": null,
   "id": "0f95b5a6",
   "metadata": {},
   "outputs": [],
   "source": [
    "clean_age_table= spark.sql(\"\"\"\n",
    "    SELECT *\n",
    "    FROM demo_clean\n",
    "\"\"\")\n",
    "clean_age_table"
   ]
  },
  {
   "cell_type": "code",
   "execution_count": null,
   "id": "705bbfdf",
   "metadata": {},
   "outputs": [],
   "source": [
    "clean_age_table.limit(5).toPandas()"
   ]
  },
  {
   "cell_type": "code",
   "execution_count": null,
   "id": "ab2f3e3d",
   "metadata": {},
   "outputs": [],
   "source": [
    "age_table=clean_age_table.drop('deceased', 'zipcodes')"
   ]
  },
  {
   "cell_type": "code",
   "execution_count": null,
   "id": "df9e91dc",
   "metadata": {},
   "outputs": [],
   "source": [
    "age_table.limit(5).toPandas()"
   ]
  },
  {
   "cell_type": "code",
   "execution_count": null,
   "id": "921e37e3",
   "metadata": {},
   "outputs": [],
   "source": [
    "cat=age_table.dropDuplicates()"
   ]
  },
  {
   "cell_type": "code",
   "execution_count": null,
   "id": "9d9de725",
   "metadata": {},
   "outputs": [],
   "source": [
    "cat.count()"
   ]
  },
  {
   "cell_type": "code",
   "execution_count": null,
   "id": "c8bc1082",
   "metadata": {},
   "outputs": [],
   "source": [
    "# Find duplicated personids\n",
    "duplicates2 = cat2[cat2.duplicated(subset='personid', keep=False)]\n",
    "duplicates2 = duplicates2.sort_values(by='personid')\n",
    "print(duplicates2)\n",
    "\n",
    "##Revealed duplicates with personid existed in the table\n",
    "## Inspection showed personids typically with 1 year or month off from another input"
   ]
  },
  {
   "cell_type": "code",
   "execution_count": null,
   "id": "09b64888",
   "metadata": {},
   "outputs": [],
   "source": [
    "average_age = cat2.groupby('personid')['age'].mean().reset_index()"
   ]
  },
  {
   "cell_type": "code",
   "execution_count": null,
   "id": "4751dc36",
   "metadata": {},
   "outputs": [],
   "source": [
    "print(average_age)"
   ]
  },
  {
   "cell_type": "code",
   "execution_count": null,
   "id": "50c02ee0",
   "metadata": {},
   "outputs": [],
   "source": [
    "average_age.count()"
   ]
  },
  {
   "cell_type": "code",
   "execution_count": null,
   "id": "43acce9b",
   "metadata": {},
   "outputs": [],
   "source": [
    "cua_age.write.saveAsTable('CUA_db.cua_age_table')"
   ]
  },
  {
   "cell_type": "code",
   "execution_count": null,
   "id": "00baae40",
   "metadata": {},
   "outputs": [],
   "source": [
    "clean_age_table= spark.sql(\"\"\"\n",
    "    SELECT *\n",
    "    FROM cua_age_table\n",
    "\"\"\")\n",
    "clean_age_table"
   ]
  },
  {
   "cell_type": "markdown",
   "id": "8854ef30",
   "metadata": {},
   "source": [
    "### Joins"
   ]
  },
  {
   "cell_type": "code",
   "execution_count": null,
   "id": "2ce4236c",
   "metadata": {},
   "outputs": [],
   "source": [
    "race_zip= race_geo_matrix2.join(zip_matrix, 'personid', 'left')\n",
    "race_zip.limit(5).toPandas()"
   ]
  },
  {
   "cell_type": "code",
   "execution_count": null,
   "id": "4a2a64a9",
   "metadata": {},
   "outputs": [],
   "source": [
    "race_zip.count()"
   ]
  },
  {
   "cell_type": "code",
   "execution_count": null,
   "id": "a4d83d88",
   "metadata": {},
   "outputs": [],
   "source": [
    "race_age= race_zip.join(clean_age_table, 'personid', 'left')\n",
    "race_age.limit(5).toPandas()"
   ]
  },
  {
   "cell_type": "code",
   "execution_count": null,
   "id": "4528202e",
   "metadata": {},
   "outputs": [],
   "source": [
    "race_age.count()"
   ]
  },
  {
   "cell_type": "code",
   "execution_count": null,
   "id": "65187e97",
   "metadata": {},
   "outputs": [],
   "source": [
    "race_BMI= race_age.join(demo_BMI, 'personid', 'left')\n",
    "race_BMI.limit(5).toPandas()"
   ]
  },
  {
   "cell_type": "code",
   "execution_count": null,
   "id": "3710f40d",
   "metadata": {},
   "outputs": [],
   "source": [
    "race_BMI.count()"
   ]
  },
  {
   "cell_type": "code",
   "execution_count": null,
   "id": "30cd5743",
   "metadata": {},
   "outputs": [],
   "source": [
    "race_covariate= race_BMI.join(covariate_matrix, 'personid', 'left')\n",
    "race_covariate.limit(5).toPandas()"
   ]
  },
  {
   "cell_type": "code",
   "execution_count": null,
   "id": "fa511c21",
   "metadata": {},
   "outputs": [],
   "source": [
    "race_covariate.count()"
   ]
  },
  {
   "cell_type": "code",
   "execution_count": null,
   "id": "0cd648b6",
   "metadata": {},
   "outputs": [],
   "source": [
    "race_covariate.write.saveAsTable('CUA_db.semi_final_matrix3')"
   ]
  }
 ],
 "metadata": {
  "kernelspec": {
   "display_name": "Python 3 (ipykernel)",
   "language": "python",
   "name": "python3"
  },
  "language_info": {
   "codemirror_mode": {
    "name": "ipython",
    "version": 3
   },
   "file_extension": ".py",
   "mimetype": "text/x-python",
   "name": "python",
   "nbconvert_exporter": "python",
   "pygments_lexer": "ipython3",
   "version": "3.9.7"
  }
 },
 "nbformat": 4,
 "nbformat_minor": 5
}
