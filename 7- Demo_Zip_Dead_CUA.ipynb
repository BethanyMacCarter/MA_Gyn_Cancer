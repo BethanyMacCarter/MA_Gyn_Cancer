{
 "cells": [
  {
   "cell_type": "code",
   "execution_count": null,
   "id": "61350992",
   "metadata": {},
   "outputs": [],
   "source": [
    "spark"
   ]
  },
  {
   "cell_type": "code",
   "execution_count": null,
   "id": "3099bdfb",
   "metadata": {},
   "outputs": [],
   "source": [
    "# set max columns, rows, column width in pandas so doesn't truncate\n",
    "import pandas as pd\n",
    "pd.set_option('display.max_colwidth',250) # or -1\n",
    "pd.set_option('display.max_columns', None) # or 500\n",
    "pd.set_option('display.max_rows', None) # or 500\n",
    "\n",
    "# sets the cell width to 100% respective to the screen size\n",
    "from IPython.core.display import display, HTML\n",
    "from pyspark.sql.functions import when, col\n",
    "display(HTML(\"<style>.container { width:92% !important; }</style>\"))"
   ]
  },
  {
   "cell_type": "code",
   "execution_count": null,
   "id": "276e4f4b",
   "metadata": {},
   "outputs": [],
   "source": []
  },
  {
   "cell_type": "code",
   "execution_count": null,
   "id": "3525ae09",
   "metadata": {},
   "outputs": [],
   "source": []
  },
  {
   "cell_type": "code",
   "execution_count": null,
   "id": "66d61eb2",
   "metadata": {},
   "outputs": [],
   "source": []
  },
  {
   "cell_type": "code",
   "execution_count": null,
   "id": "62c4daec",
   "metadata": {},
   "outputs": [],
   "source": [
    "spark.sql(\"use CUA_db\")"
   ]
  },
  {
   "cell_type": "code",
   "execution_count": null,
   "id": "0621ca95",
   "metadata": {},
   "outputs": [],
   "source": [
    "pid= spark.sql(\"\"\"\n",
    "    SELECT *\n",
    "    FROM personid_table\n",
    " \"\"\")\n",
    "pid"
   ]
  },
  {
   "cell_type": "code",
   "execution_count": null,
   "id": "549c4bc8",
   "metadata": {},
   "outputs": [],
   "source": [
    "#CUA person ID list\n",
    "personid_list = list(pid.select('personid').distinct().toPandas()['personid'])\n",
    "len(personid_list)"
   ]
  },
  {
   "cell_type": "code",
   "execution_count": null,
   "id": "cf1f4b8f",
   "metadata": {},
   "outputs": [],
   "source": []
  },
  {
   "cell_type": "code",
   "execution_count": null,
   "id": "b70c1fa7",
   "metadata": {},
   "outputs": [],
   "source": []
  },
  {
   "cell_type": "code",
   "execution_count": null,
   "id": "049c4a25",
   "metadata": {},
   "outputs": [],
   "source": [
    "spark.sql(\"use real_world_data_jun_2023\")"
   ]
  },
  {
   "cell_type": "code",
   "execution_count": null,
   "id": "bacc4fb6",
   "metadata": {},
   "outputs": [],
   "source": [
    "Zips=spark.sql(\"\"\"\n",
    "    SELECT personid, prefzip \n",
    "    FROM preferred_demographics\n",
    "    \"\"\")\n",
    "Zips"
   ]
  },
  {
   "cell_type": "code",
   "execution_count": null,
   "id": "cf502136",
   "metadata": {},
   "outputs": [],
   "source": [
    "zips_CUA=Zips.filter(col(\"personid\").isin(personid_list))\n",
    "zips_CUA.select('personid').distinct().count()"
   ]
  },
  {
   "cell_type": "code",
   "execution_count": null,
   "id": "c1c4f0a4",
   "metadata": {},
   "outputs": [],
   "source": [
    "zips_CUA.write.saveAsTable('CUA_db.zip_table')"
   ]
  },
  {
   "cell_type": "code",
   "execution_count": null,
   "id": "695f7756",
   "metadata": {},
   "outputs": [],
   "source": [
    "demographics_sdf=spark.sql(\"\"\"\n",
    "    SELECT personid, birthdate, deceased, testpatientflag, \n",
    "    zipcodes[0] as zipcodes\n",
    "    FROM demographics\n",
    "    \"\"\")\n",
    "demographics_sdf"
   ]
  },
  {
   "cell_type": "code",
   "execution_count": null,
   "id": "e1aebb05",
   "metadata": {},
   "outputs": [],
   "source": [
    "demo_CUA=demographics_sdf.filter(col(\"personid\").isin(personid_list))"
   ]
  },
  {
   "cell_type": "code",
   "execution_count": null,
   "id": "07c0c250",
   "metadata": {},
   "outputs": [],
   "source": [
    "#import Spark SQL dataframe functions\n",
    "from pyspark.sql.functions import col, to_date, datediff, current_date\n",
    "\n",
    "#Get age of patients (as of Sept 25, 2023)\n",
    "dem_age=demo_CUA.select('personid','birthdate', 'deceased','testpatientflag','zipcodes')\\\n",
    "            .withColumn('age',datediff(current_date(),to_date(col('birthdate')))/365.25)\\\n",
    "            .drop('birthdate')\n",
    "dem_age"
   ]
  },
  {
   "cell_type": "code",
   "execution_count": null,
   "id": "32b79a19",
   "metadata": {},
   "outputs": [],
   "source": [
    "dem_age.select('personid').distinct().count()"
   ]
  },
  {
   "cell_type": "code",
   "execution_count": null,
   "id": "0892e559",
   "metadata": {},
   "outputs": [],
   "source": [
    "#Filter test patients\n",
    "true_patients=dem_age.where(col('testpatientflag')==\"False\")"
   ]
  },
  {
   "cell_type": "code",
   "execution_count": null,
   "id": "59de71c2",
   "metadata": {},
   "outputs": [],
   "source": [
    "CUA_demo_clean=true_patients.drop(\"testpatientflag\")"
   ]
  },
  {
   "cell_type": "code",
   "execution_count": null,
   "id": "75333534",
   "metadata": {},
   "outputs": [],
   "source": [
    "CUA_demo_clean.write.saveAsTable('CUA_db.demo_clean')"
   ]
  },
  {
   "cell_type": "code",
   "execution_count": null,
   "id": "4a83c93b",
   "metadata": {},
   "outputs": [],
   "source": []
  },
  {
   "cell_type": "markdown",
   "id": "5f10dec7",
   "metadata": {},
   "source": [
    "## Setup Deceased Status as Binary"
   ]
  },
  {
   "cell_type": "code",
   "execution_count": null,
   "id": "8a2bc996",
   "metadata": {},
   "outputs": [],
   "source": [
    "spark.sql(\"use CUA_db\")"
   ]
  },
  {
   "cell_type": "code",
   "execution_count": null,
   "id": "f52d4944",
   "metadata": {},
   "outputs": [],
   "source": [
    "for_death = spark.sql(\"\"\"\n",
    "    select personid, deceased\n",
    "    from demo_clean\n",
    "    \"\"\")\n",
    "for_death.cache()"
   ]
  },
  {
   "cell_type": "code",
   "execution_count": null,
   "id": "8d6f0fec",
   "metadata": {},
   "outputs": [],
   "source": [
    "dead = for_death.withColumn(\"dead\", when(col(\"deceased\") == True, 1).otherwise(0))\n",
    "\n",
    "condition_column = 'dead'\n",
    "\n",
    "# Count the number of patients with the condition (where the column value is 1)\n",
    "\n",
    "filtered_dead = dead.filter(col(condition_column) == 1)\n",
    "\n",
    "count_with_condition = filtered_dead.count()\n",
    "\n",
    "# Show the count\n",
    "print(\"Number of rows with the condition:\", count_with_condition)"
   ]
  },
  {
   "cell_type": "code",
   "execution_count": null,
   "id": "5aca439f",
   "metadata": {},
   "outputs": [],
   "source": [
    "filter_dead = dead.filter(col(\"dead\") == 1)\n",
    "\n",
    "filter_dead\n",
    "\n",
    "distinct_dead=filter_dead.dropDuplicates(['personid'])\n",
    "\n",
    "distinct_dead.count()"
   ]
  },
  {
   "cell_type": "code",
   "execution_count": null,
   "id": "74d36cca",
   "metadata": {},
   "outputs": [],
   "source": [
    "distinct_dead1=distinct_dead.drop('deceased')"
   ]
  },
  {
   "cell_type": "code",
   "execution_count": null,
   "id": "cb1454f9",
   "metadata": {},
   "outputs": [],
   "source": [
    "distinct_dead1.limit(5).toPandas()"
   ]
  },
  {
   "cell_type": "markdown",
   "id": "1b8a555c",
   "metadata": {},
   "source": [
    "## Zipcode Region Setup"
   ]
  },
  {
   "cell_type": "code",
   "execution_count": null,
   "id": "301d46f5",
   "metadata": {},
   "outputs": [],
   "source": [
    "spark.sql(\"use CUA_db\")"
   ]
  },
  {
   "cell_type": "code",
   "execution_count": null,
   "id": "d96962d7",
   "metadata": {},
   "outputs": [],
   "source": [
    "zips = spark.sql(\"\"\"\n",
    "    select personid, prefzip\n",
    "    from zip_table\n",
    "    \"\"\")\n",
    "zips.cache()"
   ]
  },
  {
   "cell_type": "code",
   "execution_count": null,
   "id": "e15ca629",
   "metadata": {},
   "outputs": [],
   "source": [
    "zip0 = zips.withColumn(\"R0\", when(col(\"prefzip\") == 0, 1).otherwise(0))\n",
    "\n",
    "condition_column = 'R0'\n",
    "\n",
    "# Count the number of patients with the condition (where the column value is 1)\n",
    "\n",
    "filtered_zip0 = zip0.filter(col(condition_column) == 1)\n",
    "\n",
    "count_with_condition = filtered_zip0.count()\n",
    "\n",
    "# Show the count\n",
    "print(\"Number of rows with the condition:\", count_with_condition)"
   ]
  },
  {
   "cell_type": "code",
   "execution_count": null,
   "id": "4063ea1f",
   "metadata": {},
   "outputs": [],
   "source": [
    "filter_zip0 = zip0.filter(col(\"R0\") == 1)\n",
    "\n",
    "filter_zip0\n",
    "\n",
    "distinct_zip0=filter_zip0.dropDuplicates(['personid'])\n",
    "\n",
    "distinct_zip0.count()"
   ]
  },
  {
   "cell_type": "code",
   "execution_count": null,
   "id": "c49456cd",
   "metadata": {},
   "outputs": [],
   "source": [
    "zip1 = zips.withColumn(\"R1\", when(col(\"prefzip\") == 1, 1).otherwise(0))\n",
    "\n",
    "condition_column = 'R1'\n",
    "\n",
    "# Count the number of patients with the condition (where the column value is 1)\n",
    "\n",
    "filtered_zip1 = zip1.filter(col(condition_column) == 1)\n",
    "\n",
    "count_with_condition = filtered_zip1.count()\n",
    "\n",
    "# Show the count\n",
    "print(\"Number of rows with the condition:\", count_with_condition)"
   ]
  },
  {
   "cell_type": "code",
   "execution_count": null,
   "id": "1e977c50",
   "metadata": {},
   "outputs": [],
   "source": [
    "filter_zip1 = zip1.filter(col(\"R1\") == 1)\n",
    "\n",
    "filter_zip1\n",
    "\n",
    "distinct_zip1=filter_zip1.dropDuplicates(['personid'])\n",
    "\n",
    "distinct_zip1.count()"
   ]
  },
  {
   "cell_type": "code",
   "execution_count": null,
   "id": "aec17888",
   "metadata": {},
   "outputs": [],
   "source": [
    "zip2 = zips.withColumn(\"R2\", when(col(\"prefzip\") == 2, 1).otherwise(0))\n",
    "\n",
    "condition_column = 'R2'\n",
    "\n",
    "# Count the number of patients with the condition (where the column value is 1)\n",
    "\n",
    "filtered_zip2 = zip2.filter(col(condition_column) == 1)\n",
    "\n",
    "count_with_condition = filtered_zip2.count()\n",
    "\n",
    "# Show the count\n",
    "print(\"Number of rows with the condition:\", count_with_condition)"
   ]
  },
  {
   "cell_type": "code",
   "execution_count": null,
   "id": "509ea443",
   "metadata": {},
   "outputs": [],
   "source": [
    "filter_zip2 = zip2.filter(col(\"R2\") == 1)\n",
    "\n",
    "filter_zip2\n",
    "\n",
    "distinct_zip2=filter_zip2.dropDuplicates(['personid'])\n",
    "\n",
    "distinct_zip2.count()"
   ]
  },
  {
   "cell_type": "code",
   "execution_count": null,
   "id": "514ff717",
   "metadata": {},
   "outputs": [],
   "source": [
    "zip3 = zips.withColumn(\"R3\", when(col(\"prefzip\") == 3, 1).otherwise(0))\n",
    "\n",
    "condition_column = 'R3'\n",
    "\n",
    "# Count the number of patients with the condition (where the column value is 1)\n",
    "\n",
    "filtered_zip3 = zip3.filter(col(condition_column) == 1)\n",
    "\n",
    "count_with_condition = filtered_zip3.count()\n",
    "\n",
    "# Show the count\n",
    "print(\"Number of rows with the condition:\", count_with_condition)"
   ]
  },
  {
   "cell_type": "code",
   "execution_count": null,
   "id": "355551be",
   "metadata": {},
   "outputs": [],
   "source": [
    "filter_zip3 = zip3.filter(col(\"R3\") == 1)\n",
    "\n",
    "filter_zip3\n",
    "\n",
    "distinct_zip3=filter_zip3.dropDuplicates(['personid'])\n",
    "\n",
    "distinct_zip3.count()"
   ]
  },
  {
   "cell_type": "code",
   "execution_count": null,
   "id": "a7eb3b6a",
   "metadata": {},
   "outputs": [],
   "source": [
    "zip4 = zips.withColumn(\"R4\", when(col(\"prefzip\") == 4, 1).otherwise(0))\n",
    "\n",
    "condition_column = 'R4'\n",
    "\n",
    "# Count the number of patients with the condition (where the column value is 1)\n",
    "\n",
    "filtered_zip4 = zip4.filter(col(condition_column) == 1)\n",
    "\n",
    "count_with_condition = filtered_zip4.count()\n",
    "\n",
    "# Show the count\n",
    "print(\"Number of rows with the condition:\", count_with_condition)"
   ]
  },
  {
   "cell_type": "code",
   "execution_count": null,
   "id": "552f6fad",
   "metadata": {},
   "outputs": [],
   "source": [
    "filter_zip4 = zip4.filter(col(\"R4\") == 1)\n",
    "\n",
    "filter_zip4\n",
    "\n",
    "distinct_zip4=filter_zip4.dropDuplicates(['personid'])\n",
    "\n",
    "distinct_zip4.count()"
   ]
  },
  {
   "cell_type": "code",
   "execution_count": null,
   "id": "fe963772",
   "metadata": {},
   "outputs": [],
   "source": [
    "zip5 = zips.withColumn(\"R5\", when(col(\"prefzip\") == 5, 1).otherwise(0))\n",
    "\n",
    "condition_column = 'R5'\n",
    "\n",
    "# Count the number of patients with the condition (where the column value is 1)\n",
    "\n",
    "filtered_zip5 = zip5.filter(col(condition_column) == 1)\n",
    "\n",
    "count_with_condition = filtered_zip5.count()\n",
    "\n",
    "# Show the count\n",
    "print(\"Number of rows with the condition:\", count_with_condition)"
   ]
  },
  {
   "cell_type": "code",
   "execution_count": null,
   "id": "cfca8f17",
   "metadata": {},
   "outputs": [],
   "source": [
    "filter_zip5 = zip5.filter(col(\"R5\") == 1)\n",
    "\n",
    "filter_zip5\n",
    "\n",
    "distinct_zip5=filter_zip5.dropDuplicates(['personid'])\n",
    "\n",
    "distinct_zip5.count()"
   ]
  },
  {
   "cell_type": "code",
   "execution_count": null,
   "id": "795b35b8",
   "metadata": {},
   "outputs": [],
   "source": [
    "zip6 = zips.withColumn(\"R6\", when(col(\"prefzip\") == 6, 1).otherwise(0))\n",
    "\n",
    "condition_column = 'R6'\n",
    "\n",
    "# Count the number of patients with the condition (where the column value is 1)\n",
    "\n",
    "filtered_zip6 = zip6.filter(col(condition_column) == 1)\n",
    "\n",
    "count_with_condition = filtered_zip6.count()\n",
    "\n",
    "# Show the count\n",
    "print(\"Number of rows with the condition:\", count_with_condition)"
   ]
  },
  {
   "cell_type": "code",
   "execution_count": null,
   "id": "11d5976e",
   "metadata": {},
   "outputs": [],
   "source": [
    "filter_zip6 = zip6.filter(col(\"R6\") == 1)\n",
    "\n",
    "filter_zip6\n",
    "\n",
    "distinct_zip6=filter_zip6.dropDuplicates(['personid'])\n",
    "\n",
    "distinct_zip6.count()"
   ]
  },
  {
   "cell_type": "code",
   "execution_count": null,
   "id": "02a60166",
   "metadata": {},
   "outputs": [],
   "source": [
    "zip7 = zips.withColumn(\"R7\", when(col(\"prefzip\") == 7, 1).otherwise(0))\n",
    "\n",
    "condition_column = 'R7'\n",
    "\n",
    "# Count the number of patients with the condition (where the column value is 1)\n",
    "\n",
    "filtered_zip7 = zip7.filter(col(condition_column) == 1)\n",
    "\n",
    "count_with_condition = filtered_zip7.count()\n",
    "\n",
    "# Show the count\n",
    "print(\"Number of rows with the condition:\", count_with_condition)"
   ]
  },
  {
   "cell_type": "code",
   "execution_count": null,
   "id": "79b92693",
   "metadata": {},
   "outputs": [],
   "source": [
    "filter_zip7 = zip7.filter(col(\"R7\") == 1)\n",
    "\n",
    "filter_zip7\n",
    "\n",
    "distinct_zip7=filter_zip7.dropDuplicates(['personid'])\n",
    "\n",
    "distinct_zip7.count()"
   ]
  },
  {
   "cell_type": "code",
   "execution_count": null,
   "id": "8f8c3d30",
   "metadata": {},
   "outputs": [],
   "source": [
    "zip8 = zips.withColumn(\"R8\", when(col(\"prefzip\") == 8, 1).otherwise(0))\n",
    "\n",
    "condition_column = 'R8'\n",
    "\n",
    "# Count the number of patients with the condition (where the column value is 1)\n",
    "\n",
    "filtered_zip8 = zip8.filter(col(condition_column) == 1)\n",
    "\n",
    "count_with_condition = filtered_zip8.count()\n",
    "\n",
    "# Show the count\n",
    "print(\"Number of rows with the condition:\", count_with_condition)"
   ]
  },
  {
   "cell_type": "code",
   "execution_count": null,
   "id": "05a83751",
   "metadata": {},
   "outputs": [],
   "source": [
    "filter_zip8 = zip8.filter(col(\"R8\") == 1)\n",
    "\n",
    "filter_zip8\n",
    "\n",
    "distinct_zip8=filter_zip8.dropDuplicates(['personid'])\n",
    "\n",
    "distinct_zip8.count()"
   ]
  },
  {
   "cell_type": "code",
   "execution_count": null,
   "id": "f6e482e8",
   "metadata": {},
   "outputs": [],
   "source": [
    "zip9 = zips.withColumn(\"R9\", when(col(\"prefzip\") == 9, 1).otherwise(0))\n",
    "\n",
    "condition_column = 'R9'\n",
    "\n",
    "# Count the number of patients with the condition (where the column value is 1)\n",
    "\n",
    "filtered_zip9 = zip9.filter(col(condition_column) == 1)\n",
    "\n",
    "count_with_condition = filtered_zip9.count()\n",
    "\n",
    "# Show the count\n",
    "print(\"Number of rows with the condition:\", count_with_condition)"
   ]
  },
  {
   "cell_type": "code",
   "execution_count": null,
   "id": "c29d24f8",
   "metadata": {},
   "outputs": [],
   "source": [
    "filter_zip9 = zip9.filter(col(\"R9\") == 1)\n",
    "\n",
    "filter_zip9\n",
    "\n",
    "distinct_zip9=filter_zip9.dropDuplicates(['personid'])\n",
    "\n",
    "distinct_zip9.count()"
   ]
  },
  {
   "cell_type": "code",
   "execution_count": null,
   "id": "ae505493",
   "metadata": {},
   "outputs": [],
   "source": [
    "no_code=[\"None\"]"
   ]
  },
  {
   "cell_type": "code",
   "execution_count": null,
   "id": "7578a993",
   "metadata": {},
   "outputs": [],
   "source": [
    "filtered_null = zips.filter(zips[\"prefzip\"].isNull() | (zips[\"prefzip\"] == \"None\"))"
   ]
  },
  {
   "cell_type": "code",
   "execution_count": null,
   "id": "46903261",
   "metadata": {},
   "outputs": [],
   "source": [
    "filtered_null.limit(5).toPandas()"
   ]
  },
  {
   "cell_type": "code",
   "execution_count": null,
   "id": "a01ae41d",
   "metadata": {},
   "outputs": [],
   "source": [
    "filtered_null2 = zips.withColumn(\"RU\", when(col(\"prefzip\").isNull() | (col(\"prefzip\") == \"None\"), 1).otherwise(0))"
   ]
  },
  {
   "cell_type": "code",
   "execution_count": null,
   "id": "6a2a7ca3",
   "metadata": {},
   "outputs": [],
   "source": [
    "filter_zipu = filtered_null2.filter(col(\"RU\") == 1)\n",
    "\n",
    "filter_zipu\n",
    "\n",
    "distinct_zipU=filter_zipu.dropDuplicates(['personid'])\n",
    "\n",
    "distinct_zipU.count()"
   ]
  },
  {
   "cell_type": "code",
   "execution_count": null,
   "id": "6e1aa0c1",
   "metadata": {},
   "outputs": [],
   "source": [
    "clean_zip9=distinct_zip9.drop('prefzip')\n",
    "clean_zip8=distinct_zip8.drop('prefzip')\n",
    "clean_zip7=distinct_zip7.drop('prefzip')\n",
    "clean_zip6=distinct_zip6.drop('prefzip')\n",
    "clean_zip5=distinct_zip5.drop('prefzip')\n",
    "clean_zip4=distinct_zip4.drop('prefzip')\n",
    "clean_zip3=distinct_zip3.drop('prefzip')\n",
    "clean_zip2=distinct_zip2.drop('prefzip')\n",
    "clean_zip1=distinct_zip1.drop('prefzip')\n",
    "clean_zip0=distinct_zip0.drop('prefzip')\n",
    "clean_zipu=distinct_zipu.drop('prefzip')"
   ]
  },
  {
   "cell_type": "markdown",
   "id": "4d137fcd",
   "metadata": {},
   "source": [
    "## Combine Data into table"
   ]
  },
  {
   "cell_type": "code",
   "execution_count": null,
   "id": "12f887b5",
   "metadata": {},
   "outputs": [],
   "source": [
    "spark.sql(\"use CUA_db\")"
   ]
  },
  {
   "cell_type": "code",
   "execution_count": null,
   "id": "302f545a",
   "metadata": {},
   "outputs": [],
   "source": [
    "pid = spark.sql(\"\"\"\n",
    "    select personid\n",
    "    from personid_table\n",
    "    \"\"\")\n",
    "pid.cache()"
   ]
  },
  {
   "cell_type": "code",
   "execution_count": null,
   "id": "10958660",
   "metadata": {},
   "outputs": [],
   "source": [
    "demo_dead= pid.join(distinct_dead, 'personid', 'left')\n",
    "\n",
    "column_name = 'dead'\n",
    "\n",
    "# Replace \"NaN\" values with zeros in the specified column\n",
    "Binary_dead = demo_dead.fillna({column_name: 0})\n",
    "Binary_dead1=Binary_dead.dropDuplicates()\n",
    "\n",
    "Binary_dead1.select('personid').count()"
   ]
  },
  {
   "cell_type": "code",
   "execution_count": null,
   "id": "1fe93308",
   "metadata": {},
   "outputs": [],
   "source": [
    "Binary_dead1.limit(5).toPandas()"
   ]
  },
  {
   "cell_type": "code",
   "execution_count": null,
   "id": "93a0e2c8",
   "metadata": {},
   "outputs": [],
   "source": [
    "Binary_dead2=Binary_dead1.drop('deceased')"
   ]
  },
  {
   "cell_type": "code",
   "execution_count": null,
   "id": "65e59a3d",
   "metadata": {},
   "outputs": [],
   "source": [
    "demo_zip0= Binary_dead2.join(clean_zip0, 'personid', 'left')\n",
    "\n",
    "column_name = 'R0'\n",
    "\n",
    "# Replace \"NaN\" values with zeros in the specified column\n",
    "Binary_zip0 = demo_zip0.fillna({column_name: 0})\n",
    "Binary_zip01=Binary_zip0.dropDuplicates()\n",
    "\n",
    "Binary_zip01.select('personid').count()"
   ]
  },
  {
   "cell_type": "code",
   "execution_count": null,
   "id": "92a2c76b",
   "metadata": {},
   "outputs": [],
   "source": [
    "demo_zip1= Binary_zip01.join(clean_zip1, 'personid', 'left')\n",
    "\n",
    "column_name = 'R1'\n",
    "\n",
    "# Replace \"NaN\" values with zeros in the specified column\n",
    "Binary_zip1 = demo_zip1.fillna({column_name: 0})\n",
    "Binary_zip11=Binary_zip1.dropDuplicates()\n",
    "\n",
    "Binary_zip11.select('personid').count()"
   ]
  },
  {
   "cell_type": "code",
   "execution_count": null,
   "id": "5e5d2574",
   "metadata": {},
   "outputs": [],
   "source": [
    "demo_zip2= Binary_zip11.join(clean_zip2, 'personid', 'left')\n",
    "\n",
    "column_name = 'R2'\n",
    "\n",
    "# Replace \"NaN\" values with zeros in the specified column\n",
    "Binary_zip2 = demo_zip2.fillna({column_name: 0})\n",
    "Binary_zip21=Binary_zip2.dropDuplicates()\n",
    "\n",
    "Binary_zip21.select('personid').count()"
   ]
  },
  {
   "cell_type": "code",
   "execution_count": null,
   "id": "4ee277f5",
   "metadata": {},
   "outputs": [],
   "source": [
    "demo_zip3= Binary_zip21.join(clean_zip3, 'personid', 'left')\n",
    "\n",
    "column_name = 'R3'\n",
    "\n",
    "# Replace \"NaN\" values with zeros in the specified column\n",
    "Binary_zip3 = demo_zip3.fillna({column_name: 0})\n",
    "Binary_zip31=Binary_zip3.dropDuplicates()\n",
    "\n",
    "Binary_zip31.select('personid').count()"
   ]
  },
  {
   "cell_type": "code",
   "execution_count": null,
   "id": "9caa71f3",
   "metadata": {},
   "outputs": [],
   "source": [
    "demo_zip4= Binary_zip31.join(clean_zip4, 'personid', 'left')\n",
    "\n",
    "column_name = 'R4'\n",
    "\n",
    "# Replace \"NaN\" values with zeros in the specified column\n",
    "Binary_zip4 = demo_zip4.fillna({column_name: 0})\n",
    "Binary_zip41=Binary_zip4.dropDuplicates()\n",
    "\n",
    "Binary_zip41.select('personid').count()"
   ]
  },
  {
   "cell_type": "code",
   "execution_count": null,
   "id": "d7f45246",
   "metadata": {},
   "outputs": [],
   "source": [
    "demo_zip5= Binary_zip41.join(clean_zip5, 'personid', 'left')\n",
    "\n",
    "column_name = 'R5'\n",
    "\n",
    "# Replace \"NaN\" values with zeros in the specified column\n",
    "Binary_zip5 = demo_zip5.fillna({column_name: 0})\n",
    "Binary_zip51=Binary_zip5.dropDuplicates()\n",
    "\n",
    "Binary_zip51.select('personid').count()"
   ]
  },
  {
   "cell_type": "code",
   "execution_count": null,
   "id": "6d65c8a6",
   "metadata": {},
   "outputs": [],
   "source": [
    "demo_zip6= Binary_zip51.join(clean_zip6, 'personid', 'left')\n",
    "\n",
    "column_name = 'R6'\n",
    "\n",
    "# Replace \"NaN\" values with zeros in the specified column\n",
    "Binary_zip6 = demo_zip6.fillna({column_name: 0})\n",
    "Binary_zip61=Binary_zip6.dropDuplicates()\n",
    "\n",
    "Binary_zip61.select('personid').count()"
   ]
  },
  {
   "cell_type": "code",
   "execution_count": null,
   "id": "3c9848ba",
   "metadata": {},
   "outputs": [],
   "source": [
    "demo_zip7= Binary_zip61.join(clean_zip7, 'personid', 'left')\n",
    "\n",
    "column_name = 'R7'\n",
    "\n",
    "# Replace \"NaN\" values with zeros in the specified column\n",
    "Binary_zip7 = demo_zip7.fillna({column_name: 0})\n",
    "Binary_zip71=Binary_zip7.dropDuplicates()\n",
    "\n",
    "Binary_zip71.select('personid').count()"
   ]
  },
  {
   "cell_type": "code",
   "execution_count": null,
   "id": "bd083cb4",
   "metadata": {},
   "outputs": [],
   "source": [
    "demo_zip8= Binary_zip71.join(clean_zip8, 'personid', 'left')\n",
    "\n",
    "column_name = 'R8'\n",
    "\n",
    "# Replace \"NaN\" values with zeros in the specified column\n",
    "Binary_zip8 = demo_zip8.fillna({column_name: 0})\n",
    "Binary_zip81=Binary_zip8.dropDuplicates()\n",
    "\n",
    "Binary_zip81.select('personid').count()"
   ]
  },
  {
   "cell_type": "code",
   "execution_count": null,
   "id": "c175db7d",
   "metadata": {},
   "outputs": [],
   "source": [
    "demo_zip9= Binary_zip81.join(clean_zip9, 'personid', 'left')\n",
    "\n",
    "column_name = 'R9'\n",
    "\n",
    "# Replace \"NaN\" values with zeros in the specified column\n",
    "Binary_zip9 = demo_zip9.fillna({column_name: 0})\n",
    "Binary_zip91=Binary_zip9.dropDuplicates()\n",
    "\n",
    "Binary_zip91.select('personid').count()"
   ]
  },
  {
   "cell_type": "code",
   "execution_count": null,
   "id": "ef2b0c3b",
   "metadata": {},
   "outputs": [],
   "source": [
    "demo_zipu= Binary_zip91.join(clean_zipu, 'personid', 'left')\n",
    "\n",
    "column_name = 'RU'\n",
    "\n",
    "# Replace \"NaN\" values with zeros in the specified column\n",
    "Binary_zipu = demo_zipu.fillna({column_name: 0})\n",
    "Binary_zipu1=Binary_zipu.dropDuplicates()\n",
    "\n",
    "Binary_zipu1.select('personid').count()"
   ]
  },
  {
   "cell_type": "code",
   "execution_count": null,
   "id": "360e9966",
   "metadata": {},
   "outputs": [],
   "source": [
    "Binary_zipu1.limit(5).toPandas()"
   ]
  },
  {
   "cell_type": "code",
   "execution_count": null,
   "id": "7782ccba",
   "metadata": {},
   "outputs": [],
   "source": [
    "Binary_zipu1.write.saveAsTable('CUA_db.zip_matrix')"
   ]
  },
  {
   "cell_type": "markdown",
   "id": "4d59a8e0",
   "metadata": {},
   "source": [
    "## Join Multiple Tables\n",
    "### This will call in tables created in other notebooks as well"
   ]
  },
  {
   "cell_type": "code",
   "execution_count": null,
   "id": "1df33f72",
   "metadata": {},
   "outputs": [],
   "source": [
    "spark.sql('use CUA_db')"
   ]
  },
  {
   "cell_type": "code",
   "execution_count": null,
   "id": "26ae3479",
   "metadata": {},
   "outputs": [],
   "source": [
    "race_geo_matrix= spark.sql(\"\"\"\n",
    "    SELECT *\n",
    "    FROM geo_race_matrix\n",
    "\"\"\")\n",
    "race_geo_matrix"
   ]
  },
  {
   "cell_type": "code",
   "execution_count": null,
   "id": "1f378161",
   "metadata": {},
   "outputs": [],
   "source": [
    "race_geo_matrix.count()"
   ]
  },
  {
   "cell_type": "code",
   "execution_count": null,
   "id": "fe5431fd",
   "metadata": {},
   "outputs": [],
   "source": [
    "zip_matrix= spark.sql(\"\"\"\n",
    "    SELECT *\n",
    "    FROM zip_matrix\n",
    "\"\"\")\n",
    "zip_matrix"
   ]
  },
  {
   "cell_type": "code",
   "execution_count": null,
   "id": "2965d6fd",
   "metadata": {},
   "outputs": [],
   "source": [
    "zip_matrix.count()"
   ]
  },
  {
   "cell_type": "code",
   "execution_count": null,
   "id": "4905ca42",
   "metadata": {},
   "outputs": [],
   "source": [
    "covariate_matrix= spark.sql(\"\"\"\n",
    "    SELECT *\n",
    "    FROM cua_covariate_matrix\n",
    "\"\"\")\n",
    "covariate_matrix"
   ]
  },
  {
   "cell_type": "code",
   "execution_count": null,
   "id": "3a982d4a",
   "metadata": {},
   "outputs": [],
   "source": [
    "covariate_matrix.count()"
   ]
  },
  {
   "cell_type": "code",
   "execution_count": null,
   "id": "69570866",
   "metadata": {},
   "outputs": [],
   "source": [
    "demo_BMI= spark.sql(\"\"\"\n",
    "    SELECT *\n",
    "    FROM demo_BMI1\n",
    "\"\"\")\n",
    "demo_BMI"
   ]
  },
  {
   "cell_type": "code",
   "execution_count": null,
   "id": "efbcdc23",
   "metadata": {},
   "outputs": [],
   "source": [
    "demo_BMI.count()"
   ]
  },
  {
   "cell_type": "code",
   "execution_count": null,
   "id": "823c74e2",
   "metadata": {},
   "outputs": [],
   "source": [
    "clean_age_table= spark.sql(\"\"\"\n",
    "    SELECT *\n",
    "    FROM demo_clean\n",
    "\"\"\")\n",
    "clean_age_table"
   ]
  },
  {
   "cell_type": "code",
   "execution_count": null,
   "id": "5ccdaac4",
   "metadata": {},
   "outputs": [],
   "source": [
    "clean_age_table.limit(5).toPandas()"
   ]
  },
  {
   "cell_type": "code",
   "execution_count": null,
   "id": "6825b70b",
   "metadata": {},
   "outputs": [],
   "source": [
    "age_table=clean_age_table.drop('deceased', 'zipcodes')"
   ]
  },
  {
   "cell_type": "code",
   "execution_count": null,
   "id": "ff622141",
   "metadata": {},
   "outputs": [],
   "source": [
    "age_table.limit(5).toPandas()"
   ]
  },
  {
   "cell_type": "code",
   "execution_count": null,
   "id": "0ebf58d4",
   "metadata": {},
   "outputs": [],
   "source": [
    "cat=age_table.dropDuplicates()"
   ]
  },
  {
   "cell_type": "code",
   "execution_count": null,
   "id": "3a286361",
   "metadata": {},
   "outputs": [],
   "source": [
    "cat.count()"
   ]
  },
  {
   "cell_type": "code",
   "execution_count": null,
   "id": "300877b4",
   "metadata": {},
   "outputs": [],
   "source": [
    "# Find duplicated personids\n",
    "duplicates2 = cat2[cat2.duplicated(subset='personid', keep=False)]\n",
    "duplicates2 = duplicates2.sort_values(by='personid')\n",
    "print(duplicates2)\n",
    "\n",
    "##Revealed duplicates with personid existed in the table\n",
    "## Inspection showed personids typically with 1 year or month off from another input"
   ]
  },
  {
   "cell_type": "code",
   "execution_count": null,
   "id": "461504ab",
   "metadata": {},
   "outputs": [],
   "source": [
    "average_age = cat2.groupby('personid')['age'].mean().reset_index()"
   ]
  },
  {
   "cell_type": "code",
   "execution_count": null,
   "id": "ea62a36c",
   "metadata": {},
   "outputs": [],
   "source": [
    "print(average_age)"
   ]
  },
  {
   "cell_type": "code",
   "execution_count": null,
   "id": "3e6345fb",
   "metadata": {},
   "outputs": [],
   "source": [
    "average_age.count()"
   ]
  },
  {
   "cell_type": "code",
   "execution_count": null,
   "id": "2bf0fcc5",
   "metadata": {},
   "outputs": [],
   "source": [
    "cua_age.write.saveAsTable('CUA_db.cua_age_table')"
   ]
  },
  {
   "cell_type": "code",
   "execution_count": null,
   "id": "4f0987ef",
   "metadata": {},
   "outputs": [],
   "source": [
    "clean_age_table= spark.sql(\"\"\"\n",
    "    SELECT *\n",
    "    FROM cua_age_table\n",
    "\"\"\")\n",
    "clean_age_table"
   ]
  },
  {
   "cell_type": "markdown",
   "id": "d5449363",
   "metadata": {},
   "source": [
    "### Joins"
   ]
  },
  {
   "cell_type": "code",
   "execution_count": null,
   "id": "f268cfaa",
   "metadata": {},
   "outputs": [],
   "source": [
    "race_zip= race_geo_matrix2.join(zip_matrix, 'personid', 'left')\n",
    "race_zip.limit(5).toPandas()"
   ]
  },
  {
   "cell_type": "code",
   "execution_count": null,
   "id": "f6584c3b",
   "metadata": {},
   "outputs": [],
   "source": [
    "race_zip.count()"
   ]
  },
  {
   "cell_type": "code",
   "execution_count": null,
   "id": "2b203dd4",
   "metadata": {},
   "outputs": [],
   "source": [
    "race_age= race_zip.join(clean_age_table, 'personid', 'left')\n",
    "race_age.limit(5).toPandas()"
   ]
  },
  {
   "cell_type": "code",
   "execution_count": null,
   "id": "e1b6f0e0",
   "metadata": {},
   "outputs": [],
   "source": [
    "race_age.count()"
   ]
  },
  {
   "cell_type": "code",
   "execution_count": null,
   "id": "1244300b",
   "metadata": {},
   "outputs": [],
   "source": [
    "race_BMI= race_age.join(demo_BMI, 'personid', 'left')\n",
    "race_BMI.limit(5).toPandas()"
   ]
  },
  {
   "cell_type": "code",
   "execution_count": null,
   "id": "3cd838fc",
   "metadata": {},
   "outputs": [],
   "source": [
    "race_BMI.count()"
   ]
  },
  {
   "cell_type": "code",
   "execution_count": null,
   "id": "e24a2223",
   "metadata": {},
   "outputs": [],
   "source": [
    "race_covariate= race_BMI.join(covariate_matrix, 'personid', 'left')\n",
    "race_covariate.limit(5).toPandas()"
   ]
  },
  {
   "cell_type": "code",
   "execution_count": null,
   "id": "496f3bf8",
   "metadata": {},
   "outputs": [],
   "source": [
    "race_covariate.count()"
   ]
  },
  {
   "cell_type": "code",
   "execution_count": null,
   "id": "96c2eda0",
   "metadata": {},
   "outputs": [],
   "source": [
    "race_covariate.write.saveAsTable('CUA_db.semi_final_matrix3')"
   ]
  }
 ],
 "metadata": {
  "kernelspec": {
   "display_name": "Python 3 (ipykernel)",
   "language": "python",
   "name": "python3"
  },
  "language_info": {
   "codemirror_mode": {
    "name": "ipython",
    "version": 3
   },
   "file_extension": ".py",
   "mimetype": "text/x-python",
   "name": "python",
   "nbconvert_exporter": "python",
   "pygments_lexer": "ipython3",
   "version": "3.9.7"
  }
 },
 "nbformat": 4,
 "nbformat_minor": 5
}
